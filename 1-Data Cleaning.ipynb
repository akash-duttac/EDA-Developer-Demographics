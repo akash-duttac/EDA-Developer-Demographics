{
 "cells": [
  {
   "cell_type": "markdown",
   "metadata": {},
   "source": [
    "# Exploratory Data Analysis (EDA) on Developer Demographics"
   ]
  },
  {
   "cell_type": "code",
   "execution_count": 1,
   "metadata": {},
   "outputs": [],
   "source": [
    "import pandas as pd\n",
    "import numpy as np\n",
    "import matplotlib.pyplot as plt\n",
    "%matplotlib inline\n",
    "import seaborn as sns\n",
    "from collections import Counter\n",
    "import pycountry\n",
    "import plotly.express as px\n",
    "import warnings; \n",
    "warnings.simplefilter('ignore')"
   ]
  },
  {
   "cell_type": "code",
   "execution_count": 2,
   "metadata": {},
   "outputs": [],
   "source": [
    "df = pd.read_csv('dataset/survey_results_public.csv')"
   ]
  },
  {
   "cell_type": "code",
   "execution_count": 3,
   "metadata": {},
   "outputs": [
    {
     "data": {
      "text/html": [
       "<div>\n",
       "<style scoped>\n",
       "    .dataframe tbody tr th:only-of-type {\n",
       "        vertical-align: middle;\n",
       "    }\n",
       "\n",
       "    .dataframe tbody tr th {\n",
       "        vertical-align: top;\n",
       "    }\n",
       "\n",
       "    .dataframe thead th {\n",
       "        text-align: right;\n",
       "    }\n",
       "</style>\n",
       "<table border=\"1\" class=\"dataframe\">\n",
       "  <thead>\n",
       "    <tr style=\"text-align: right;\">\n",
       "      <th></th>\n",
       "      <th>ResponseId</th>\n",
       "      <th>MainBranch</th>\n",
       "      <th>Age</th>\n",
       "      <th>Employment</th>\n",
       "      <th>RemoteWork</th>\n",
       "      <th>Check</th>\n",
       "      <th>CodingActivities</th>\n",
       "      <th>EdLevel</th>\n",
       "      <th>LearnCode</th>\n",
       "      <th>LearnCodeOnline</th>\n",
       "      <th>...</th>\n",
       "      <th>JobSatPoints_6</th>\n",
       "      <th>JobSatPoints_7</th>\n",
       "      <th>JobSatPoints_8</th>\n",
       "      <th>JobSatPoints_9</th>\n",
       "      <th>JobSatPoints_10</th>\n",
       "      <th>JobSatPoints_11</th>\n",
       "      <th>SurveyLength</th>\n",
       "      <th>SurveyEase</th>\n",
       "      <th>ConvertedCompYearly</th>\n",
       "      <th>JobSat</th>\n",
       "    </tr>\n",
       "  </thead>\n",
       "  <tbody>\n",
       "    <tr>\n",
       "      <th>0</th>\n",
       "      <td>1</td>\n",
       "      <td>I am a developer by profession</td>\n",
       "      <td>Under 18 years old</td>\n",
       "      <td>Employed, full-time</td>\n",
       "      <td>Remote</td>\n",
       "      <td>Apples</td>\n",
       "      <td>Hobby</td>\n",
       "      <td>Primary/elementary school</td>\n",
       "      <td>Books / Physical media</td>\n",
       "      <td>NaN</td>\n",
       "      <td>...</td>\n",
       "      <td>NaN</td>\n",
       "      <td>NaN</td>\n",
       "      <td>NaN</td>\n",
       "      <td>NaN</td>\n",
       "      <td>NaN</td>\n",
       "      <td>NaN</td>\n",
       "      <td>NaN</td>\n",
       "      <td>NaN</td>\n",
       "      <td>NaN</td>\n",
       "      <td>NaN</td>\n",
       "    </tr>\n",
       "    <tr>\n",
       "      <th>1</th>\n",
       "      <td>2</td>\n",
       "      <td>I am a developer by profession</td>\n",
       "      <td>35-44 years old</td>\n",
       "      <td>Employed, full-time</td>\n",
       "      <td>Remote</td>\n",
       "      <td>Apples</td>\n",
       "      <td>Hobby;Contribute to open-source projects;Other...</td>\n",
       "      <td>Bachelor’s degree (B.A., B.S., B.Eng., etc.)</td>\n",
       "      <td>Books / Physical media;Colleague;On the job tr...</td>\n",
       "      <td>Technical documentation;Blogs;Books;Written Tu...</td>\n",
       "      <td>...</td>\n",
       "      <td>0.0</td>\n",
       "      <td>0.0</td>\n",
       "      <td>0.0</td>\n",
       "      <td>0.0</td>\n",
       "      <td>0.0</td>\n",
       "      <td>0.0</td>\n",
       "      <td>NaN</td>\n",
       "      <td>NaN</td>\n",
       "      <td>NaN</td>\n",
       "      <td>NaN</td>\n",
       "    </tr>\n",
       "    <tr>\n",
       "      <th>2</th>\n",
       "      <td>3</td>\n",
       "      <td>I am a developer by profession</td>\n",
       "      <td>45-54 years old</td>\n",
       "      <td>Employed, full-time</td>\n",
       "      <td>Remote</td>\n",
       "      <td>Apples</td>\n",
       "      <td>Hobby;Contribute to open-source projects;Other...</td>\n",
       "      <td>Master’s degree (M.A., M.S., M.Eng., MBA, etc.)</td>\n",
       "      <td>Books / Physical media;Colleague;On the job tr...</td>\n",
       "      <td>Technical documentation;Blogs;Books;Written Tu...</td>\n",
       "      <td>...</td>\n",
       "      <td>NaN</td>\n",
       "      <td>NaN</td>\n",
       "      <td>NaN</td>\n",
       "      <td>NaN</td>\n",
       "      <td>NaN</td>\n",
       "      <td>NaN</td>\n",
       "      <td>Appropriate in length</td>\n",
       "      <td>Easy</td>\n",
       "      <td>NaN</td>\n",
       "      <td>NaN</td>\n",
       "    </tr>\n",
       "    <tr>\n",
       "      <th>3</th>\n",
       "      <td>4</td>\n",
       "      <td>I am learning to code</td>\n",
       "      <td>18-24 years old</td>\n",
       "      <td>Student, full-time</td>\n",
       "      <td>NaN</td>\n",
       "      <td>Apples</td>\n",
       "      <td>NaN</td>\n",
       "      <td>Some college/university study without earning ...</td>\n",
       "      <td>Other online resources (e.g., videos, blogs, f...</td>\n",
       "      <td>Stack Overflow;How-to videos;Interactive tutorial</td>\n",
       "      <td>...</td>\n",
       "      <td>NaN</td>\n",
       "      <td>NaN</td>\n",
       "      <td>NaN</td>\n",
       "      <td>NaN</td>\n",
       "      <td>NaN</td>\n",
       "      <td>NaN</td>\n",
       "      <td>Too long</td>\n",
       "      <td>Easy</td>\n",
       "      <td>NaN</td>\n",
       "      <td>NaN</td>\n",
       "    </tr>\n",
       "    <tr>\n",
       "      <th>4</th>\n",
       "      <td>5</td>\n",
       "      <td>I am a developer by profession</td>\n",
       "      <td>18-24 years old</td>\n",
       "      <td>Student, full-time</td>\n",
       "      <td>NaN</td>\n",
       "      <td>Apples</td>\n",
       "      <td>NaN</td>\n",
       "      <td>Secondary school (e.g. American high school, G...</td>\n",
       "      <td>Other online resources (e.g., videos, blogs, f...</td>\n",
       "      <td>Technical documentation;Blogs;Written Tutorial...</td>\n",
       "      <td>...</td>\n",
       "      <td>NaN</td>\n",
       "      <td>NaN</td>\n",
       "      <td>NaN</td>\n",
       "      <td>NaN</td>\n",
       "      <td>NaN</td>\n",
       "      <td>NaN</td>\n",
       "      <td>Too short</td>\n",
       "      <td>Easy</td>\n",
       "      <td>NaN</td>\n",
       "      <td>NaN</td>\n",
       "    </tr>\n",
       "  </tbody>\n",
       "</table>\n",
       "<p>5 rows × 114 columns</p>\n",
       "</div>"
      ],
      "text/plain": [
       "   ResponseId                      MainBranch                 Age  \\\n",
       "0           1  I am a developer by profession  Under 18 years old   \n",
       "1           2  I am a developer by profession     35-44 years old   \n",
       "2           3  I am a developer by profession     45-54 years old   \n",
       "3           4           I am learning to code     18-24 years old   \n",
       "4           5  I am a developer by profession     18-24 years old   \n",
       "\n",
       "            Employment RemoteWork   Check  \\\n",
       "0  Employed, full-time     Remote  Apples   \n",
       "1  Employed, full-time     Remote  Apples   \n",
       "2  Employed, full-time     Remote  Apples   \n",
       "3   Student, full-time        NaN  Apples   \n",
       "4   Student, full-time        NaN  Apples   \n",
       "\n",
       "                                    CodingActivities  \\\n",
       "0                                              Hobby   \n",
       "1  Hobby;Contribute to open-source projects;Other...   \n",
       "2  Hobby;Contribute to open-source projects;Other...   \n",
       "3                                                NaN   \n",
       "4                                                NaN   \n",
       "\n",
       "                                             EdLevel  \\\n",
       "0                          Primary/elementary school   \n",
       "1       Bachelor’s degree (B.A., B.S., B.Eng., etc.)   \n",
       "2    Master’s degree (M.A., M.S., M.Eng., MBA, etc.)   \n",
       "3  Some college/university study without earning ...   \n",
       "4  Secondary school (e.g. American high school, G...   \n",
       "\n",
       "                                           LearnCode  \\\n",
       "0                             Books / Physical media   \n",
       "1  Books / Physical media;Colleague;On the job tr...   \n",
       "2  Books / Physical media;Colleague;On the job tr...   \n",
       "3  Other online resources (e.g., videos, blogs, f...   \n",
       "4  Other online resources (e.g., videos, blogs, f...   \n",
       "\n",
       "                                     LearnCodeOnline  ... JobSatPoints_6  \\\n",
       "0                                                NaN  ...            NaN   \n",
       "1  Technical documentation;Blogs;Books;Written Tu...  ...            0.0   \n",
       "2  Technical documentation;Blogs;Books;Written Tu...  ...            NaN   \n",
       "3  Stack Overflow;How-to videos;Interactive tutorial  ...            NaN   \n",
       "4  Technical documentation;Blogs;Written Tutorial...  ...            NaN   \n",
       "\n",
       "  JobSatPoints_7 JobSatPoints_8 JobSatPoints_9 JobSatPoints_10  \\\n",
       "0            NaN            NaN            NaN             NaN   \n",
       "1            0.0            0.0            0.0             0.0   \n",
       "2            NaN            NaN            NaN             NaN   \n",
       "3            NaN            NaN            NaN             NaN   \n",
       "4            NaN            NaN            NaN             NaN   \n",
       "\n",
       "  JobSatPoints_11           SurveyLength SurveyEase ConvertedCompYearly JobSat  \n",
       "0             NaN                    NaN        NaN                 NaN    NaN  \n",
       "1             0.0                    NaN        NaN                 NaN    NaN  \n",
       "2             NaN  Appropriate in length       Easy                 NaN    NaN  \n",
       "3             NaN               Too long       Easy                 NaN    NaN  \n",
       "4             NaN              Too short       Easy                 NaN    NaN  \n",
       "\n",
       "[5 rows x 114 columns]"
      ]
     },
     "execution_count": 3,
     "metadata": {},
     "output_type": "execute_result"
    }
   ],
   "source": [
    "df.head()"
   ]
  },
  {
   "cell_type": "code",
   "execution_count": 4,
   "metadata": {},
   "outputs": [
    {
     "name": "stdout",
     "output_type": "stream",
     "text": [
      "<class 'pandas.core.frame.DataFrame'>\n",
      "RangeIndex: 65437 entries, 0 to 65436\n",
      "Columns: 114 entries, ResponseId to JobSat\n",
      "dtypes: float64(13), int64(1), object(100)\n",
      "memory usage: 56.9+ MB\n"
     ]
    }
   ],
   "source": [
    "df.info()"
   ]
  },
  {
   "cell_type": "code",
   "execution_count": 5,
   "metadata": {},
   "outputs": [
    {
     "data": {
      "text/html": [
       "<div>\n",
       "<style scoped>\n",
       "    .dataframe tbody tr th:only-of-type {\n",
       "        vertical-align: middle;\n",
       "    }\n",
       "\n",
       "    .dataframe tbody tr th {\n",
       "        vertical-align: top;\n",
       "    }\n",
       "\n",
       "    .dataframe thead th {\n",
       "        text-align: right;\n",
       "    }\n",
       "</style>\n",
       "<table border=\"1\" class=\"dataframe\">\n",
       "  <thead>\n",
       "    <tr style=\"text-align: right;\">\n",
       "      <th></th>\n",
       "      <th>ResponseId</th>\n",
       "      <th>CompTotal</th>\n",
       "      <th>WorkExp</th>\n",
       "      <th>JobSatPoints_1</th>\n",
       "      <th>JobSatPoints_4</th>\n",
       "      <th>JobSatPoints_5</th>\n",
       "      <th>JobSatPoints_6</th>\n",
       "      <th>JobSatPoints_7</th>\n",
       "      <th>JobSatPoints_8</th>\n",
       "      <th>JobSatPoints_9</th>\n",
       "      <th>JobSatPoints_10</th>\n",
       "      <th>JobSatPoints_11</th>\n",
       "      <th>ConvertedCompYearly</th>\n",
       "      <th>JobSat</th>\n",
       "    </tr>\n",
       "  </thead>\n",
       "  <tbody>\n",
       "    <tr>\n",
       "      <th>count</th>\n",
       "      <td>65437.000000</td>\n",
       "      <td>3.374000e+04</td>\n",
       "      <td>29658.000000</td>\n",
       "      <td>29324.000000</td>\n",
       "      <td>29393.000000</td>\n",
       "      <td>29411.000000</td>\n",
       "      <td>29450.000000</td>\n",
       "      <td>29448.00000</td>\n",
       "      <td>29456.000000</td>\n",
       "      <td>29456.000000</td>\n",
       "      <td>29450.000000</td>\n",
       "      <td>29445.000000</td>\n",
       "      <td>2.343500e+04</td>\n",
       "      <td>29126.000000</td>\n",
       "    </tr>\n",
       "    <tr>\n",
       "      <th>mean</th>\n",
       "      <td>32719.000000</td>\n",
       "      <td>2.963841e+145</td>\n",
       "      <td>11.466957</td>\n",
       "      <td>18.581094</td>\n",
       "      <td>7.522140</td>\n",
       "      <td>10.060857</td>\n",
       "      <td>24.343232</td>\n",
       "      <td>22.96522</td>\n",
       "      <td>20.278165</td>\n",
       "      <td>16.169432</td>\n",
       "      <td>10.955713</td>\n",
       "      <td>9.953948</td>\n",
       "      <td>8.615529e+04</td>\n",
       "      <td>6.935041</td>\n",
       "    </tr>\n",
       "    <tr>\n",
       "      <th>std</th>\n",
       "      <td>18890.179119</td>\n",
       "      <td>5.444117e+147</td>\n",
       "      <td>9.168709</td>\n",
       "      <td>25.966221</td>\n",
       "      <td>18.422661</td>\n",
       "      <td>21.833836</td>\n",
       "      <td>27.089360</td>\n",
       "      <td>27.01774</td>\n",
       "      <td>26.108110</td>\n",
       "      <td>24.845032</td>\n",
       "      <td>22.906263</td>\n",
       "      <td>21.775652</td>\n",
       "      <td>1.867570e+05</td>\n",
       "      <td>2.088259</td>\n",
       "    </tr>\n",
       "    <tr>\n",
       "      <th>min</th>\n",
       "      <td>1.000000</td>\n",
       "      <td>0.000000e+00</td>\n",
       "      <td>0.000000</td>\n",
       "      <td>0.000000</td>\n",
       "      <td>0.000000</td>\n",
       "      <td>0.000000</td>\n",
       "      <td>0.000000</td>\n",
       "      <td>0.00000</td>\n",
       "      <td>0.000000</td>\n",
       "      <td>0.000000</td>\n",
       "      <td>0.000000</td>\n",
       "      <td>0.000000</td>\n",
       "      <td>1.000000e+00</td>\n",
       "      <td>0.000000</td>\n",
       "    </tr>\n",
       "    <tr>\n",
       "      <th>25%</th>\n",
       "      <td>16360.000000</td>\n",
       "      <td>6.000000e+04</td>\n",
       "      <td>4.000000</td>\n",
       "      <td>0.000000</td>\n",
       "      <td>0.000000</td>\n",
       "      <td>0.000000</td>\n",
       "      <td>0.000000</td>\n",
       "      <td>0.00000</td>\n",
       "      <td>0.000000</td>\n",
       "      <td>0.000000</td>\n",
       "      <td>0.000000</td>\n",
       "      <td>0.000000</td>\n",
       "      <td>3.271200e+04</td>\n",
       "      <td>6.000000</td>\n",
       "    </tr>\n",
       "    <tr>\n",
       "      <th>50%</th>\n",
       "      <td>32719.000000</td>\n",
       "      <td>1.100000e+05</td>\n",
       "      <td>9.000000</td>\n",
       "      <td>10.000000</td>\n",
       "      <td>0.000000</td>\n",
       "      <td>0.000000</td>\n",
       "      <td>20.000000</td>\n",
       "      <td>15.00000</td>\n",
       "      <td>10.000000</td>\n",
       "      <td>5.000000</td>\n",
       "      <td>0.000000</td>\n",
       "      <td>0.000000</td>\n",
       "      <td>6.500000e+04</td>\n",
       "      <td>7.000000</td>\n",
       "    </tr>\n",
       "    <tr>\n",
       "      <th>75%</th>\n",
       "      <td>49078.000000</td>\n",
       "      <td>2.500000e+05</td>\n",
       "      <td>16.000000</td>\n",
       "      <td>22.000000</td>\n",
       "      <td>5.000000</td>\n",
       "      <td>10.000000</td>\n",
       "      <td>30.000000</td>\n",
       "      <td>30.00000</td>\n",
       "      <td>25.000000</td>\n",
       "      <td>20.000000</td>\n",
       "      <td>10.000000</td>\n",
       "      <td>10.000000</td>\n",
       "      <td>1.079715e+05</td>\n",
       "      <td>8.000000</td>\n",
       "    </tr>\n",
       "    <tr>\n",
       "      <th>max</th>\n",
       "      <td>65437.000000</td>\n",
       "      <td>1.000000e+150</td>\n",
       "      <td>50.000000</td>\n",
       "      <td>100.000000</td>\n",
       "      <td>100.000000</td>\n",
       "      <td>100.000000</td>\n",
       "      <td>100.000000</td>\n",
       "      <td>100.00000</td>\n",
       "      <td>100.000000</td>\n",
       "      <td>100.000000</td>\n",
       "      <td>100.000000</td>\n",
       "      <td>100.000000</td>\n",
       "      <td>1.625660e+07</td>\n",
       "      <td>10.000000</td>\n",
       "    </tr>\n",
       "  </tbody>\n",
       "</table>\n",
       "</div>"
      ],
      "text/plain": [
       "         ResponseId      CompTotal       WorkExp  JobSatPoints_1  \\\n",
       "count  65437.000000   3.374000e+04  29658.000000    29324.000000   \n",
       "mean   32719.000000  2.963841e+145     11.466957       18.581094   \n",
       "std    18890.179119  5.444117e+147      9.168709       25.966221   \n",
       "min        1.000000   0.000000e+00      0.000000        0.000000   \n",
       "25%    16360.000000   6.000000e+04      4.000000        0.000000   \n",
       "50%    32719.000000   1.100000e+05      9.000000       10.000000   \n",
       "75%    49078.000000   2.500000e+05     16.000000       22.000000   \n",
       "max    65437.000000  1.000000e+150     50.000000      100.000000   \n",
       "\n",
       "       JobSatPoints_4  JobSatPoints_5  JobSatPoints_6  JobSatPoints_7  \\\n",
       "count    29393.000000    29411.000000    29450.000000     29448.00000   \n",
       "mean         7.522140       10.060857       24.343232        22.96522   \n",
       "std         18.422661       21.833836       27.089360        27.01774   \n",
       "min          0.000000        0.000000        0.000000         0.00000   \n",
       "25%          0.000000        0.000000        0.000000         0.00000   \n",
       "50%          0.000000        0.000000       20.000000        15.00000   \n",
       "75%          5.000000       10.000000       30.000000        30.00000   \n",
       "max        100.000000      100.000000      100.000000       100.00000   \n",
       "\n",
       "       JobSatPoints_8  JobSatPoints_9  JobSatPoints_10  JobSatPoints_11  \\\n",
       "count    29456.000000    29456.000000     29450.000000     29445.000000   \n",
       "mean        20.278165       16.169432        10.955713         9.953948   \n",
       "std         26.108110       24.845032        22.906263        21.775652   \n",
       "min          0.000000        0.000000         0.000000         0.000000   \n",
       "25%          0.000000        0.000000         0.000000         0.000000   \n",
       "50%         10.000000        5.000000         0.000000         0.000000   \n",
       "75%         25.000000       20.000000        10.000000        10.000000   \n",
       "max        100.000000      100.000000       100.000000       100.000000   \n",
       "\n",
       "       ConvertedCompYearly        JobSat  \n",
       "count         2.343500e+04  29126.000000  \n",
       "mean          8.615529e+04      6.935041  \n",
       "std           1.867570e+05      2.088259  \n",
       "min           1.000000e+00      0.000000  \n",
       "25%           3.271200e+04      6.000000  \n",
       "50%           6.500000e+04      7.000000  \n",
       "75%           1.079715e+05      8.000000  \n",
       "max           1.625660e+07     10.000000  "
      ]
     },
     "execution_count": 5,
     "metadata": {},
     "output_type": "execute_result"
    }
   ],
   "source": [
    "df.describe()"
   ]
  },
  {
   "cell_type": "code",
   "execution_count": 6,
   "metadata": {},
   "outputs": [
    {
     "data": {
      "text/plain": [
       "['ResponseId',\n",
       " 'MainBranch',\n",
       " 'Age',\n",
       " 'Employment',\n",
       " 'RemoteWork',\n",
       " 'Check',\n",
       " 'CodingActivities',\n",
       " 'EdLevel',\n",
       " 'LearnCode',\n",
       " 'LearnCodeOnline',\n",
       " 'TechDoc',\n",
       " 'YearsCode',\n",
       " 'YearsCodePro',\n",
       " 'DevType',\n",
       " 'OrgSize',\n",
       " 'PurchaseInfluence',\n",
       " 'BuyNewTool',\n",
       " 'BuildvsBuy',\n",
       " 'TechEndorse',\n",
       " 'Country',\n",
       " 'Currency',\n",
       " 'CompTotal',\n",
       " 'LanguageHaveWorkedWith',\n",
       " 'LanguageWantToWorkWith',\n",
       " 'LanguageAdmired',\n",
       " 'DatabaseHaveWorkedWith',\n",
       " 'DatabaseWantToWorkWith',\n",
       " 'DatabaseAdmired',\n",
       " 'PlatformHaveWorkedWith',\n",
       " 'PlatformWantToWorkWith',\n",
       " 'PlatformAdmired',\n",
       " 'WebframeHaveWorkedWith',\n",
       " 'WebframeWantToWorkWith',\n",
       " 'WebframeAdmired',\n",
       " 'EmbeddedHaveWorkedWith',\n",
       " 'EmbeddedWantToWorkWith',\n",
       " 'EmbeddedAdmired',\n",
       " 'MiscTechHaveWorkedWith',\n",
       " 'MiscTechWantToWorkWith',\n",
       " 'MiscTechAdmired',\n",
       " 'ToolsTechHaveWorkedWith',\n",
       " 'ToolsTechWantToWorkWith',\n",
       " 'ToolsTechAdmired',\n",
       " 'NEWCollabToolsHaveWorkedWith',\n",
       " 'NEWCollabToolsWantToWorkWith',\n",
       " 'NEWCollabToolsAdmired',\n",
       " 'OpSysPersonal use',\n",
       " 'OpSysProfessional use',\n",
       " 'OfficeStackAsyncHaveWorkedWith',\n",
       " 'OfficeStackAsyncWantToWorkWith',\n",
       " 'OfficeStackAsyncAdmired',\n",
       " 'OfficeStackSyncHaveWorkedWith',\n",
       " 'OfficeStackSyncWantToWorkWith',\n",
       " 'OfficeStackSyncAdmired',\n",
       " 'AISearchDevHaveWorkedWith',\n",
       " 'AISearchDevWantToWorkWith',\n",
       " 'AISearchDevAdmired',\n",
       " 'NEWSOSites',\n",
       " 'SOVisitFreq',\n",
       " 'SOAccount',\n",
       " 'SOPartFreq',\n",
       " 'SOHow',\n",
       " 'SOComm',\n",
       " 'AISelect',\n",
       " 'AISent',\n",
       " 'AIBen',\n",
       " 'AIAcc',\n",
       " 'AIComplex',\n",
       " 'AIToolCurrently Using',\n",
       " 'AIToolInterested in Using',\n",
       " 'AIToolNot interested in Using',\n",
       " 'AINextMuch more integrated',\n",
       " 'AINextNo change',\n",
       " 'AINextMore integrated',\n",
       " 'AINextLess integrated',\n",
       " 'AINextMuch less integrated',\n",
       " 'AIThreat',\n",
       " 'AIEthics',\n",
       " 'AIChallenges',\n",
       " 'TBranch',\n",
       " 'ICorPM',\n",
       " 'WorkExp',\n",
       " 'Knowledge_1',\n",
       " 'Knowledge_2',\n",
       " 'Knowledge_3',\n",
       " 'Knowledge_4',\n",
       " 'Knowledge_5',\n",
       " 'Knowledge_6',\n",
       " 'Knowledge_7',\n",
       " 'Knowledge_8',\n",
       " 'Knowledge_9',\n",
       " 'Frequency_1',\n",
       " 'Frequency_2',\n",
       " 'Frequency_3',\n",
       " 'TimeSearching',\n",
       " 'TimeAnswering',\n",
       " 'Frustration',\n",
       " 'ProfessionalTech',\n",
       " 'ProfessionalCloud',\n",
       " 'ProfessionalQuestion',\n",
       " 'Industry',\n",
       " 'JobSatPoints_1',\n",
       " 'JobSatPoints_4',\n",
       " 'JobSatPoints_5',\n",
       " 'JobSatPoints_6',\n",
       " 'JobSatPoints_7',\n",
       " 'JobSatPoints_8',\n",
       " 'JobSatPoints_9',\n",
       " 'JobSatPoints_10',\n",
       " 'JobSatPoints_11',\n",
       " 'SurveyLength',\n",
       " 'SurveyEase',\n",
       " 'ConvertedCompYearly',\n",
       " 'JobSat']"
      ]
     },
     "execution_count": 6,
     "metadata": {},
     "output_type": "execute_result"
    }
   ],
   "source": [
    "df.columns.to_list()"
   ]
  },
  {
   "cell_type": "code",
   "execution_count": 7,
   "metadata": {},
   "outputs": [
    {
     "data": {
      "text/plain": [
       "ResponseId                 0\n",
       "MainBranch                 0\n",
       "Age                        0\n",
       "Employment                 0\n",
       "RemoteWork             10631\n",
       "                       ...  \n",
       "JobSatPoints_11        35992\n",
       "SurveyLength            9255\n",
       "SurveyEase              9199\n",
       "ConvertedCompYearly    42002\n",
       "JobSat                 36311\n",
       "Length: 114, dtype: int64"
      ]
     },
     "execution_count": 7,
     "metadata": {},
     "output_type": "execute_result"
    }
   ],
   "source": [
    "df.isnull().sum()"
   ]
  },
  {
   "cell_type": "markdown",
   "metadata": {},
   "source": [
    "Columns necessary for EDA"
   ]
  },
  {
   "cell_type": "markdown",
   "metadata": {},
   "source": [
    "Key Columns for the Project:\n",
    "\n",
    "\t1.\tDemographic and Personal Information:\n",
    "\t•\tAge: To analyze how age impacts satisfaction levels.\n",
    "\t•\tEdLevel: To study the relationship between education level and satisfaction.\n",
    "\t•\tYearsCode: To assess how years of coding experience (all experience) relate to satisfaction.\n",
    "\t•\tYearsCodePro: To examine how professional coding experience specifically relates to satisfaction.\n",
    "\t•\tWorkExp: To explore the total years of work experience.\n",
    "\t•\tCountry: To analyze satisfaction trends across different countries (optional if you want to compare across regions).\n",
    "\t2.\tJob Satisfaction and Career Satisfaction:\n",
    "\t•\tJobSat: Measures job satisfaction, a key target variable for analysis.\n",
    "\t•\tCareerSat: Career satisfaction is implied from JobSat in some datasets or may need to be derived (but this is the core factor to analyze if available).\n",
    "\t3.\tEmployment Information:\n",
    "\t•\tMainBranch: To analyze satisfaction based on current job focus (e.g., developer, data scientist, etc.).\n",
    "\t•\tEmployment: To analyze whether full-time, part-time, or contract employment impacts satisfaction.\n",
    "\t•\tRemoteWork: To explore the relationship between remote work and satisfaction.\n",
    "\t4.\tCompensation Information:\n",
    "\t•\tCompTotal: The total compensation (if relevant to study how salary affects job/career satisfaction).\n",
    "\t•\tConvertedCompYearly: The yearly compensation converted into a consistent currency (more useful for salary analysis).\n",
    "\t5.\tJob Role and Type:\n",
    "\t•\tDevType: To see how different development roles (e.g., software engineer, web developer, data scientist) affect satisfaction.\n",
    "\n",
    "Optional/Additional Columns (for Advanced Insights):\n",
    "\n",
    "\t1.\tTechnology Used:\n",
    "\t•\tLanguageHaveWorkedWith, LanguageWantToWorkWith: Insights into whether familiarity or desire to use certain technologies impact satisfaction.\n",
    "\t•\tPlatformHaveWorkedWith, PlatformWantToWorkWith: Similar reasoning as above.\n",
    "\t2.\tOrganizational Information:\n",
    "\t•\tOrgSize: To analyze how company size affects satisfaction (e.g., large enterprises vs. startups).\n",
    "\t•\tPurchaseInfluence, BuyNewTool: Optional, if you want to explore how having influence over purchasing decisions at work impacts job satisfaction.\n",
    "\t3.\tTime-related Information:\n",
    "\t•\tTimeSearching, TimeAnswering: Could be useful for analyzing how time spent on tasks like searching for answers (e.g., coding help) correlates with job frustration and satisfaction.\n",
    "\t4.\tAI-related columns (optional):\n",
    "\t•\tYou may analyze the impact of AI usage in work-related tasks on satisfaction if AI tools are prominent in the dataset."
   ]
  },
  {
   "cell_type": "markdown",
   "metadata": {},
   "source": [
    "## Data Cleaning"
   ]
  },
  {
   "cell_type": "markdown",
   "metadata": {},
   "source": [
    "## 1. Demographic and Personal Information"
   ]
  },
  {
   "cell_type": "markdown",
   "metadata": {},
   "source": [
    "### Age Distribution"
   ]
  },
  {
   "cell_type": "code",
   "execution_count": 8,
   "metadata": {},
   "outputs": [
    {
     "data": {
      "text/plain": [
       "array(['Under 18 years old', '35-44 years old', '45-54 years old',\n",
       "       '18-24 years old', '25-34 years old', '55-64 years old',\n",
       "       'Prefer not to say', '65 years or older'], dtype=object)"
      ]
     },
     "execution_count": 8,
     "metadata": {},
     "output_type": "execute_result"
    }
   ],
   "source": [
    "df['Age'].unique()"
   ]
  },
  {
   "cell_type": "code",
   "execution_count": 9,
   "metadata": {},
   "outputs": [
    {
     "data": {
      "text/plain": [
       "0        False\n",
       "1        False\n",
       "2        False\n",
       "3        False\n",
       "4        False\n",
       "         ...  \n",
       "65432    False\n",
       "65433    False\n",
       "65434    False\n",
       "65435    False\n",
       "65436    False\n",
       "Name: Age, Length: 65437, dtype: bool"
      ]
     },
     "execution_count": 9,
     "metadata": {},
     "output_type": "execute_result"
    }
   ],
   "source": [
    "df['Age'].isnull()"
   ]
  },
  {
   "cell_type": "markdown",
   "metadata": {},
   "source": [
    "No null values in the column."
   ]
  },
  {
   "cell_type": "markdown",
   "metadata": {},
   "source": [
    "### Education Level"
   ]
  },
  {
   "cell_type": "code",
   "execution_count": 10,
   "metadata": {},
   "outputs": [
    {
     "data": {
      "text/plain": [
       "array(['Primary/elementary school',\n",
       "       'Bachelor’s degree (B.A., B.S., B.Eng., etc.)',\n",
       "       'Master’s degree (M.A., M.S., M.Eng., MBA, etc.)',\n",
       "       'Some college/university study without earning a degree',\n",
       "       'Secondary school (e.g. American high school, German Realschule or Gymnasium, etc.)',\n",
       "       'Professional degree (JD, MD, Ph.D, Ed.D, etc.)',\n",
       "       'Associate degree (A.A., A.S., etc.)', 'Something else', nan],\n",
       "      dtype=object)"
      ]
     },
     "execution_count": 10,
     "metadata": {},
     "output_type": "execute_result"
    }
   ],
   "source": [
    "df['EdLevel'].unique()"
   ]
  },
  {
   "cell_type": "code",
   "execution_count": 11,
   "metadata": {},
   "outputs": [
    {
     "data": {
      "text/plain": [
       "4653"
      ]
     },
     "execution_count": 11,
     "metadata": {},
     "output_type": "execute_result"
    }
   ],
   "source": [
    "df['EdLevel'].isnull().sum()"
   ]
  },
  {
   "cell_type": "code",
   "execution_count": 12,
   "metadata": {},
   "outputs": [],
   "source": [
    "# Calculate the mode (most common value) of the 'EdLevel' column\n",
    "most_common_edlevel = df['EdLevel'].mode()[0]\n",
    "\n",
    "# Replace NaN values with the mode\n",
    "df.loc[:, 'EdLevel'] = df['EdLevel'].fillna(most_common_edlevel)"
   ]
  },
  {
   "cell_type": "code",
   "execution_count": 13,
   "metadata": {},
   "outputs": [
    {
     "data": {
      "text/plain": [
       "0"
      ]
     },
     "execution_count": 13,
     "metadata": {},
     "output_type": "execute_result"
    }
   ],
   "source": [
    "df['EdLevel'].isnull().sum()"
   ]
  },
  {
   "cell_type": "markdown",
   "metadata": {},
   "source": [
    "### Years of Coding (Professional Experience)"
   ]
  },
  {
   "cell_type": "code",
   "execution_count": 14,
   "metadata": {},
   "outputs": [
    {
     "data": {
      "text/plain": [
       "13827"
      ]
     },
     "execution_count": 14,
     "metadata": {},
     "output_type": "execute_result"
    }
   ],
   "source": [
    "df['YearsCodePro'].isnull().sum()"
   ]
  },
  {
   "cell_type": "code",
   "execution_count": 15,
   "metadata": {},
   "outputs": [
    {
     "data": {
      "text/plain": [
       "YearsCodePro\n",
       "2                     4168\n",
       "3                     4093\n",
       "5                     3526\n",
       "10                    3251\n",
       "4                     3215\n",
       "Less than 1 year      2856\n",
       "6                     2843\n",
       "1                     2639\n",
       "8                     2549\n",
       "7                     2517\n",
       "12                    1777\n",
       "15                    1635\n",
       "20                    1549\n",
       "9                     1493\n",
       "11                    1312\n",
       "13                    1127\n",
       "14                    1082\n",
       "25                     998\n",
       "16                     946\n",
       "18                     867\n",
       "17                     814\n",
       "30                     689\n",
       "24                     632\n",
       "19                     516\n",
       "22                     492\n",
       "23                     448\n",
       "26                     426\n",
       "21                     380\n",
       "27                     380\n",
       "28                     342\n",
       "35                     285\n",
       "29                     196\n",
       "40                     194\n",
       "32                     194\n",
       "34                     169\n",
       "38                     134\n",
       "33                     132\n",
       "36                     119\n",
       "31                     106\n",
       "37                     104\n",
       "45                      56\n",
       "42                      55\n",
       "39                      54\n",
       "41                      51\n",
       "More than 50 years      50\n",
       "44                      42\n",
       "43                      37\n",
       "46                      21\n",
       "50                      14\n",
       "48                      14\n",
       "49                      11\n",
       "47                      10\n",
       "Name: count, dtype: int64"
      ]
     },
     "execution_count": 15,
     "metadata": {},
     "output_type": "execute_result"
    }
   ],
   "source": [
    "df[\"YearsCodePro\"].value_counts()"
   ]
  },
  {
   "cell_type": "code",
   "execution_count": 16,
   "metadata": {},
   "outputs": [],
   "source": [
    "df['YearsCodePro'].fillna(method='ffill', inplace=True)"
   ]
  },
  {
   "cell_type": "code",
   "execution_count": 17,
   "metadata": {},
   "outputs": [
    {
     "data": {
      "text/plain": [
       "1"
      ]
     },
     "execution_count": 17,
     "metadata": {},
     "output_type": "execute_result"
    }
   ],
   "source": [
    "df['YearsCodePro'].isnull().sum()"
   ]
  },
  {
   "cell_type": "code",
   "execution_count": 18,
   "metadata": {},
   "outputs": [],
   "source": [
    "# Drop rows where 'YearsCodePro' is NaN\n",
    "df.dropna(subset=['YearsCodePro'], inplace=True)"
   ]
  },
  {
   "cell_type": "code",
   "execution_count": 19,
   "metadata": {},
   "outputs": [
    {
     "data": {
      "text/plain": [
       "0"
      ]
     },
     "execution_count": 19,
     "metadata": {},
     "output_type": "execute_result"
    }
   ],
   "source": [
    "df['YearsCodePro'].isnull().sum()"
   ]
  },
  {
   "cell_type": "markdown",
   "metadata": {},
   "source": [
    "### Years of Coding (Education)"
   ]
  },
  {
   "cell_type": "code",
   "execution_count": 20,
   "metadata": {},
   "outputs": [
    {
     "data": {
      "text/plain": [
       "5567"
      ]
     },
     "execution_count": 20,
     "metadata": {},
     "output_type": "execute_result"
    }
   ],
   "source": [
    "df['YearsCode'].isnull().sum()"
   ]
  },
  {
   "cell_type": "code",
   "execution_count": 21,
   "metadata": {},
   "outputs": [
    {
     "data": {
      "text/plain": [
       "YearsCode\n",
       "10                    4561\n",
       "5                     3723\n",
       "6                     3496\n",
       "8                     3449\n",
       "7                     3333\n",
       "4                     3290\n",
       "15                    2813\n",
       "20                    2636\n",
       "12                    2559\n",
       "3                     2518\n",
       "9                     2251\n",
       "14                    1822\n",
       "25                    1671\n",
       "2                     1642\n",
       "11                    1636\n",
       "13                    1477\n",
       "30                    1461\n",
       "16                    1401\n",
       "18                    1228\n",
       "17                    1038\n",
       "40                     993\n",
       "24                     870\n",
       "22                     842\n",
       "35                     735\n",
       "1                      712\n",
       "23                     634\n",
       "26                     630\n",
       "Less than 1 year       569\n",
       "19                     561\n",
       "21                     522\n",
       "28                     512\n",
       "27                     504\n",
       "32                     328\n",
       "34                     293\n",
       "42                     289\n",
       "38                     285\n",
       "29                     274\n",
       "45                     257\n",
       "More than 50 years     254\n",
       "36                     223\n",
       "33                     219\n",
       "37                     216\n",
       "44                     195\n",
       "43                     173\n",
       "41                     147\n",
       "31                     146\n",
       "39                     145\n",
       "46                      98\n",
       "50                      77\n",
       "48                      64\n",
       "47                      63\n",
       "49                      34\n",
       "Name: count, dtype: int64"
      ]
     },
     "execution_count": 21,
     "metadata": {},
     "output_type": "execute_result"
    }
   ],
   "source": [
    "df[\"YearsCode\"].value_counts()"
   ]
  },
  {
   "cell_type": "code",
   "execution_count": 22,
   "metadata": {},
   "outputs": [],
   "source": [
    "df['YearsCode'].fillna(method='ffill', inplace=True)"
   ]
  },
  {
   "cell_type": "code",
   "execution_count": 23,
   "metadata": {},
   "outputs": [
    {
     "data": {
      "text/plain": [
       "0"
      ]
     },
     "execution_count": 23,
     "metadata": {},
     "output_type": "execute_result"
    }
   ],
   "source": [
    "df['YearsCode'].isnull().sum()"
   ]
  },
  {
   "cell_type": "markdown",
   "metadata": {},
   "source": [
    "### Work Experience"
   ]
  },
  {
   "cell_type": "code",
   "execution_count": 24,
   "metadata": {},
   "outputs": [
    {
     "data": {
      "text/plain": [
       "35778"
      ]
     },
     "execution_count": 24,
     "metadata": {},
     "output_type": "execute_result"
    }
   ],
   "source": [
    "df['WorkExp'].isnull().sum()\n"
   ]
  },
  {
   "cell_type": "code",
   "execution_count": 25,
   "metadata": {},
   "outputs": [],
   "source": [
    "df['WorkExp'].fillna(0, inplace=True)"
   ]
  },
  {
   "cell_type": "code",
   "execution_count": 26,
   "metadata": {},
   "outputs": [
    {
     "data": {
      "text/plain": [
       "WorkExp\n",
       "0.0     35970\n",
       "3.0      2144\n",
       "5.0      2050\n",
       "10.0     2029\n",
       "2.0      1885\n",
       "4.0      1767\n",
       "6.0      1600\n",
       "7.0      1581\n",
       "8.0      1554\n",
       "1.0      1461\n",
       "15.0     1250\n",
       "12.0     1249\n",
       "20.0     1074\n",
       "9.0       982\n",
       "11.0      823\n",
       "25.0      794\n",
       "13.0      740\n",
       "14.0      655\n",
       "16.0      600\n",
       "17.0      596\n",
       "18.0      587\n",
       "30.0      461\n",
       "24.0      382\n",
       "19.0      330\n",
       "22.0      323\n",
       "23.0      269\n",
       "26.0      254\n",
       "21.0      251\n",
       "35.0      217\n",
       "27.0      217\n",
       "28.0      210\n",
       "40.0      139\n",
       "29.0      117\n",
       "32.0      101\n",
       "33.0       90\n",
       "36.0       89\n",
       "34.0       84\n",
       "31.0       83\n",
       "37.0       60\n",
       "38.0       55\n",
       "50.0       53\n",
       "42.0       47\n",
       "45.0       46\n",
       "39.0       37\n",
       "41.0       36\n",
       "43.0       34\n",
       "44.0       32\n",
       "46.0       12\n",
       "48.0        7\n",
       "47.0        5\n",
       "49.0        4\n",
       "Name: count, dtype: int64"
      ]
     },
     "execution_count": 26,
     "metadata": {},
     "output_type": "execute_result"
    }
   ],
   "source": [
    "df['WorkExp'].value_counts()"
   ]
  },
  {
   "cell_type": "markdown",
   "metadata": {},
   "source": [
    "### Country"
   ]
  },
  {
   "cell_type": "code",
   "execution_count": 27,
   "metadata": {},
   "outputs": [
    {
     "data": {
      "text/plain": [
       "6507"
      ]
     },
     "execution_count": 27,
     "metadata": {},
     "output_type": "execute_result"
    }
   ],
   "source": [
    "df['Country'].isnull().sum()"
   ]
  },
  {
   "cell_type": "code",
   "execution_count": 28,
   "metadata": {},
   "outputs": [
    {
     "data": {
      "text/plain": [
       "Country\n",
       "United States of America                                11094\n",
       "Germany                                                  4947\n",
       "India                                                    4231\n",
       "United Kingdom of Great Britain and Northern Ireland     3224\n",
       "Ukraine                                                  2672\n",
       "                                                        ...  \n",
       "Central African Republic                                    1\n",
       "Equatorial Guinea                                           1\n",
       "Niger                                                       1\n",
       "Guinea                                                      1\n",
       "Solomon Islands                                             1\n",
       "Name: count, Length: 185, dtype: int64"
      ]
     },
     "execution_count": 28,
     "metadata": {},
     "output_type": "execute_result"
    }
   ],
   "source": [
    "df['Country'].value_counts()"
   ]
  },
  {
   "cell_type": "markdown",
   "metadata": {},
   "source": [
    "## 2. Job Satisfaction"
   ]
  },
  {
   "cell_type": "markdown",
   "metadata": {},
   "source": [
    "### Job Satisfaction"
   ]
  },
  {
   "cell_type": "code",
   "execution_count": 29,
   "metadata": {},
   "outputs": [
    {
     "data": {
      "text/plain": [
       "JobSat\n",
       "8.0     7509\n",
       "7.0     6379\n",
       "6.0     3751\n",
       "9.0     3626\n",
       "10.0    2251\n",
       "5.0     1956\n",
       "3.0     1165\n",
       "4.0     1130\n",
       "2.0      772\n",
       "0.0      311\n",
       "1.0      276\n",
       "Name: count, dtype: int64"
      ]
     },
     "execution_count": 29,
     "metadata": {},
     "output_type": "execute_result"
    }
   ],
   "source": [
    "df['JobSat'].value_counts()"
   ]
  },
  {
   "cell_type": "code",
   "execution_count": 30,
   "metadata": {},
   "outputs": [
    {
     "data": {
      "text/plain": [
       "36310"
      ]
     },
     "execution_count": 30,
     "metadata": {},
     "output_type": "execute_result"
    }
   ],
   "source": [
    "df['JobSat'].isnull().sum()"
   ]
  },
  {
   "cell_type": "markdown",
   "metadata": {},
   "source": [
    "Filling the null values with average job satisfaction."
   ]
  },
  {
   "cell_type": "code",
   "execution_count": 31,
   "metadata": {},
   "outputs": [
    {
     "data": {
      "text/plain": [
       "7"
      ]
     },
     "execution_count": 31,
     "metadata": {},
     "output_type": "execute_result"
    }
   ],
   "source": [
    "median_job_sat = int(df['JobSat'].median())\n",
    "median_job_sat"
   ]
  },
  {
   "cell_type": "code",
   "execution_count": 32,
   "metadata": {},
   "outputs": [],
   "source": [
    "# Fill the NaN values in 'JobSat' with the calculated mean\n",
    "df['JobSat'].fillna(median_job_sat, inplace=True)"
   ]
  },
  {
   "cell_type": "code",
   "execution_count": 33,
   "metadata": {},
   "outputs": [
    {
     "data": {
      "text/plain": [
       "JobSat\n",
       "7.0     42689\n",
       "8.0      7509\n",
       "6.0      3751\n",
       "9.0      3626\n",
       "10.0     2251\n",
       "5.0      1956\n",
       "3.0      1165\n",
       "4.0      1130\n",
       "2.0       772\n",
       "0.0       311\n",
       "1.0       276\n",
       "Name: count, dtype: int64"
      ]
     },
     "execution_count": 33,
     "metadata": {},
     "output_type": "execute_result"
    }
   ],
   "source": [
    "df['JobSat'].value_counts()"
   ]
  },
  {
   "cell_type": "code",
   "execution_count": 34,
   "metadata": {},
   "outputs": [
    {
     "data": {
      "text/plain": [
       "0"
      ]
     },
     "execution_count": 34,
     "metadata": {},
     "output_type": "execute_result"
    }
   ],
   "source": [
    "df['JobSat'].isnull().sum()"
   ]
  },
  {
   "cell_type": "markdown",
   "metadata": {},
   "source": [
    "## 3. Employment Information"
   ]
  },
  {
   "cell_type": "markdown",
   "metadata": {},
   "source": [
    "### Employment Focus"
   ]
  },
  {
   "cell_type": "code",
   "execution_count": 35,
   "metadata": {},
   "outputs": [
    {
     "data": {
      "text/plain": [
       "MainBranch\n",
       "I am a developer by profession                                                           50206\n",
       "I am not primarily a developer, but I write code sometimes as part of my work/studies     6511\n",
       "I am learning to code                                                                     3875\n",
       "I code primarily as a hobby                                                               3334\n",
       "I used to be a developer by profession, but no longer am                                  1510\n",
       "Name: count, dtype: int64"
      ]
     },
     "execution_count": 35,
     "metadata": {},
     "output_type": "execute_result"
    }
   ],
   "source": [
    "df['MainBranch'].value_counts()"
   ]
  },
  {
   "cell_type": "code",
   "execution_count": 36,
   "metadata": {},
   "outputs": [
    {
     "data": {
      "text/plain": [
       "0"
      ]
     },
     "execution_count": 36,
     "metadata": {},
     "output_type": "execute_result"
    }
   ],
   "source": [
    "df['MainBranch'].isnull().sum()"
   ]
  },
  {
   "cell_type": "markdown",
   "metadata": {},
   "source": [
    "### Type of Employment"
   ]
  },
  {
   "cell_type": "code",
   "execution_count": 37,
   "metadata": {},
   "outputs": [
    {
     "data": {
      "text/plain": [
       "Employment\n",
       "Employed, full-time                                                                                                                                  39040\n",
       "Independent contractor, freelancer, or self-employed                                                                                                  4846\n",
       "Student, full-time                                                                                                                                    4709\n",
       "Employed, full-time;Independent contractor, freelancer, or self-employed                                                                              3557\n",
       "Not employed, but looking for work                                                                                                                    2341\n",
       "                                                                                                                                                     ...  \n",
       "Employed, full-time;Student, full-time;Independent contractor, freelancer, or self-employed;Student, part-time;Employed, part-time;Retired               1\n",
       "Employed, full-time;Independent contractor, freelancer, or self-employed;Student, part-time;Retired                                                      1\n",
       "Employed, full-time;Independent contractor, freelancer, or self-employed;Employed, part-time;Retired                                                     1\n",
       "Student, full-time;Not employed, but looking for work;Independent contractor, freelancer, or self-employed;Not employed, and not looking for work        1\n",
       "Not employed, but looking for work;Independent contractor, freelancer, or self-employed;Student, part-time;Retired                                       1\n",
       "Name: count, Length: 110, dtype: int64"
      ]
     },
     "execution_count": 37,
     "metadata": {},
     "output_type": "execute_result"
    }
   ],
   "source": [
    "df['Employment'].value_counts()"
   ]
  },
  {
   "cell_type": "code",
   "execution_count": 38,
   "metadata": {},
   "outputs": [
    {
     "data": {
      "text/plain": [
       "0"
      ]
     },
     "execution_count": 38,
     "metadata": {},
     "output_type": "execute_result"
    }
   ],
   "source": [
    "df['Employment'].isnull().sum()"
   ]
  },
  {
   "cell_type": "markdown",
   "metadata": {},
   "source": [
    "### Remote Work"
   ]
  },
  {
   "cell_type": "code",
   "execution_count": 39,
   "metadata": {},
   "outputs": [
    {
     "data": {
      "text/plain": [
       "RemoteWork\n",
       "Hybrid (some remote, some in-person)    23015\n",
       "Remote                                  20830\n",
       "In-person                               10960\n",
       "Name: count, dtype: int64"
      ]
     },
     "execution_count": 39,
     "metadata": {},
     "output_type": "execute_result"
    }
   ],
   "source": [
    "df['RemoteWork'].value_counts()"
   ]
  },
  {
   "cell_type": "code",
   "execution_count": 40,
   "metadata": {},
   "outputs": [
    {
     "data": {
      "text/plain": [
       "10631"
      ]
     },
     "execution_count": 40,
     "metadata": {},
     "output_type": "execute_result"
    }
   ],
   "source": [
    "df['RemoteWork'].isnull().sum()"
   ]
  },
  {
   "cell_type": "code",
   "execution_count": 41,
   "metadata": {},
   "outputs": [],
   "source": [
    "# Fill missing values with a new category 'Unknown'\n",
    "df['RemoteWork'].fillna('Unknown', inplace=True)"
   ]
  },
  {
   "cell_type": "code",
   "execution_count": 42,
   "metadata": {},
   "outputs": [
    {
     "data": {
      "text/plain": [
       "RemoteWork\n",
       "Hybrid (some remote, some in-person)    23015\n",
       "Remote                                  20830\n",
       "In-person                               10960\n",
       "Unknown                                 10631\n",
       "Name: count, dtype: int64"
      ]
     },
     "execution_count": 42,
     "metadata": {},
     "output_type": "execute_result"
    }
   ],
   "source": [
    "df['RemoteWork'].value_counts()"
   ]
  },
  {
   "cell_type": "markdown",
   "metadata": {},
   "source": [
    "## 4. Compensation Information"
   ]
  },
  {
   "cell_type": "markdown",
   "metadata": {},
   "source": [
    "### Total Compensation"
   ]
  },
  {
   "cell_type": "code",
   "execution_count": 43,
   "metadata": {},
   "outputs": [
    {
     "data": {
      "text/plain": [
       "CompTotal\n",
       "100000.0    939\n",
       "60000.0     839\n",
       "120000.0    793\n",
       "80000.0     728\n",
       "50000.0     705\n",
       "           ... \n",
       "59800.0       1\n",
       "28805.0       1\n",
       "377532.0      1\n",
       "518400.0      1\n",
       "77700.0       1\n",
       "Name: count, Length: 3337, dtype: int64"
      ]
     },
     "execution_count": 43,
     "metadata": {},
     "output_type": "execute_result"
    }
   ],
   "source": [
    "df['CompTotal'].value_counts()"
   ]
  },
  {
   "cell_type": "code",
   "execution_count": 44,
   "metadata": {},
   "outputs": [
    {
     "data": {
      "text/plain": [
       "31696"
      ]
     },
     "execution_count": 44,
     "metadata": {},
     "output_type": "execute_result"
    }
   ],
   "source": [
    "df['CompTotal'].isnull().sum()"
   ]
  },
  {
   "cell_type": "code",
   "execution_count": 45,
   "metadata": {},
   "outputs": [],
   "source": [
    "df['CompTotal'].fillna(0, inplace=True)"
   ]
  },
  {
   "cell_type": "code",
   "execution_count": 46,
   "metadata": {},
   "outputs": [
    {
     "data": {
      "text/plain": [
       "0"
      ]
     },
     "execution_count": 46,
     "metadata": {},
     "output_type": "execute_result"
    }
   ],
   "source": [
    "df['CompTotal'].isnull().sum()"
   ]
  },
  {
   "cell_type": "markdown",
   "metadata": {},
   "source": [
    "### Converted Yearly Compensation"
   ]
  },
  {
   "cell_type": "code",
   "execution_count": 47,
   "metadata": {},
   "outputs": [
    {
     "data": {
      "text/plain": [
       "18752"
      ]
     },
     "execution_count": 47,
     "metadata": {},
     "output_type": "execute_result"
    }
   ],
   "source": [
    "df['Currency'].isnull().sum()"
   ]
  },
  {
   "cell_type": "code",
   "execution_count": 48,
   "metadata": {},
   "outputs": [],
   "source": [
    "df.dropna(subset=['Currency'], inplace=True)"
   ]
  },
  {
   "cell_type": "code",
   "execution_count": 49,
   "metadata": {},
   "outputs": [
    {
     "data": {
      "text/plain": [
       "(46684, 114)"
      ]
     },
     "execution_count": 49,
     "metadata": {},
     "output_type": "execute_result"
    }
   ],
   "source": [
    "df.shape"
   ]
  },
  {
   "cell_type": "code",
   "execution_count": 50,
   "metadata": {},
   "outputs": [
    {
     "data": {
      "text/plain": [
       "array(['PKR\\tPakistani rupee', 'EUR European Euro',\n",
       "       'USD\\tUnited States dollar', 'BRL\\tBrazilian real',\n",
       "       'GBP\\tPound sterling', 'RON\\tRomanian leu', 'INR\\tIndian rupee',\n",
       "       'CHF\\tSwiss franc', 'TRY\\tTurkish lira', 'RUB\\tRussian ruble',\n",
       "       'ZAR\\tSouth African rand', 'CZK\\tCzech koruna',\n",
       "       'CAD\\tCanadian dollar', 'IRR\\tIranian rial', 'MXN\\tMexican peso',\n",
       "       'UAH\\tUkrainian hryvnia', 'DOP\\tDominican peso',\n",
       "       'KMF\\tComorian franc', 'RSD\\tSerbian dinar', 'PEN\\tPeruvian sol',\n",
       "       'MAD\\tMoroccan dirham', 'GEL\\tGeorgian lari', 'PLN\\tPolish zloty',\n",
       "       'SAR\\tSaudi Arabian riyal', 'SEK\\tSwedish krona',\n",
       "       'BGN\\tBulgarian lev', 'KZT\\tKazakhstani tenge',\n",
       "       'SGD\\tSingapore dollar', 'JOD\\tJordanian dinar',\n",
       "       'JPY\\tJapanese yen', 'NOK\\tNorwegian krone',\n",
       "       'ILS\\tIsraeli new shekel', 'DKK\\tDanish krone', 'THB\\tThai baht',\n",
       "       'RWF\\tRwandan franc', 'HUF\\tHungarian forint',\n",
       "       'BDT\\tBangladeshi taka', 'IDR\\tIndonesian rupiah',\n",
       "       'BAM\\tBosnia and Herzegovina convertible mark',\n",
       "       'PHP\\tPhilippine peso', 'XOF\\tWest African CFA franc',\n",
       "       'DZD\\tAlgerian dinar', 'TND\\tTunisian dinar',\n",
       "       'MYR\\tMalaysian ringgit', 'BHD\\tBahraini dinar',\n",
       "       'ARS\\tArgentine peso', 'NIO\\tNicaraguan cordoba',\n",
       "       'AFN\\tAfghan afghani', 'UYU\\tUruguayan peso',\n",
       "       'BYN\\tBelarusian ruble', 'COP\\tColombian peso',\n",
       "       'ALL\\tAlbanian lek', 'AUD\\tAustralian dollar',\n",
       "       'UZS\\tUzbekistani som', 'NZD\\tNew Zealand dollar',\n",
       "       'MVR\\tMaldivian rufiyaa', 'GHS\\tGhanaian cedi',\n",
       "       'AED United Arab Emirates dirham', 'NGN\\tNigerian naira',\n",
       "       'FJD\\tFijian dollar', 'GTQ\\tGuatemalan quetzal',\n",
       "       'UGX\\tUgandan shilling', 'CRC\\tCosta Rican colon',\n",
       "       'MUR\\tMauritian rupee', 'KES\\tKenyan shilling',\n",
       "       'EGP\\tEgyptian pound', 'TWD\\tNew Taiwan dollar',\n",
       "       'AMD\\tArmenian dram', 'KRW\\tSouth Korean won', 'CLP\\tChilean peso',\n",
       "       'ISK\\tIcelandic krona', 'HNL\\tHonduran lempira',\n",
       "       'HKD\\tHong Kong dollar', 'CNY\\tChinese Yuan Renminbi',\n",
       "       'VND\\tVietnamese dong', 'BSD\\tBahamian dollar',\n",
       "       'LKR\\tSri Lankan rupee', 'BTN\\tBhutanese ngultrum',\n",
       "       'MNT\\tMongolian tugrik', 'KHR\\tCambodian riel',\n",
       "       'NPR\\tNepalese rupee', 'BOB\\tBolivian boliviano',\n",
       "       'ETB\\tEthiopian birr', 'AOA\\tAngolan kwanza',\n",
       "       'MKD\\tMacedonian denar', 'SYP\\tSyrian pound',\n",
       "       'NAD\\tNamibian dollar', 'ANG Netherlands Antillean guilder',\n",
       "       'TJS\\tTajikistani somoni', 'BIF\\tBurundi franc',\n",
       "       'JMD\\tJamaican dollar', 'TTD\\tTrinidad and Tobago dollar',\n",
       "       'SLL\\tSierra Leonean leone', 'SRD\\tSurinamese dollar',\n",
       "       'GYD\\tGuyanese dollar', 'KGS\\tKyrgyzstani som',\n",
       "       'ZMW Zambian kwacha', 'MDL\\tMoldovan leu', 'OMR\\tOmani rial',\n",
       "       'CUP\\tCuban peso', 'XPF\\tCFP franc', 'KYD\\tCayman Islands dollar',\n",
       "       'TZS\\tTanzanian shilling', 'KWD\\tKuwaiti dinar',\n",
       "       'TMT\\tTurkmen manat', 'QAR\\tQatari riyal', 'YER\\tYemeni rial',\n",
       "       'MWK\\tMalawian kwacha', 'IQD\\tIraqi dinar', 'IMP\\tManx pound',\n",
       "       'KPW\\tNorth Korean won', 'XAF\\tCentral African CFA franc',\n",
       "       'MGA\\tMalagasy ariary', 'PYG\\tParaguayan guarani',\n",
       "       'ERN\\tEritrean nakfa', 'MMK\\tMyanmar kyat',\n",
       "       'SHP\\tSaint Helena pound', 'MZN\\tMozambican metical',\n",
       "       'none\\tFaroese krona', 'AZN\\tAzerbaijan manat',\n",
       "       'LYD\\tLibyan dinar', 'MOP\\tMacanese pataca', 'LBP\\tLebanese pound',\n",
       "       'BND\\tBrunei dollar', 'VES\\tVenezuelan bolivar',\n",
       "       'SOS\\tSomali shilling', 'CDF\\tCongolese franc',\n",
       "       'XDR\\tSDR (Special Drawing Right)', 'MRU\\tMauritanian ouguiya',\n",
       "       'WST\\tSamoan tala', 'SDG\\tSudanese pound',\n",
       "       'XCD\\tEast Caribbean dollar', 'FKP\\tFalkland Islands pound',\n",
       "       'BWP\\tBotswana pula', 'GGP\\tGuernsey Pound',\n",
       "       'CVE\\tCape Verdean escudo', 'GIP\\tGibraltar pound',\n",
       "       'SZL\\tSwazi lilangeni', 'none\\tCook Islands dollar',\n",
       "       'AWG\\tAruban florin', 'BBD\\tBarbadian dollar',\n",
       "       'BMD\\tBermudian dollar'], dtype=object)"
      ]
     },
     "execution_count": 50,
     "metadata": {},
     "output_type": "execute_result"
    }
   ],
   "source": [
    "df['Currency'].unique()"
   ]
  },
  {
   "cell_type": "code",
   "execution_count": 51,
   "metadata": {},
   "outputs": [],
   "source": [
    "df['Currency'] = df['Currency'].str[:3]"
   ]
  },
  {
   "cell_type": "code",
   "execution_count": 52,
   "metadata": {},
   "outputs": [
    {
     "data": {
      "text/plain": [
       "array(['PKR', 'EUR', 'USD', 'BRL', 'GBP', 'RON', 'INR', 'CHF', 'TRY',\n",
       "       'RUB', 'ZAR', 'CZK', 'CAD', 'IRR', 'MXN', 'UAH', 'DOP', 'KMF',\n",
       "       'RSD', 'PEN', 'MAD', 'GEL', 'PLN', 'SAR', 'SEK', 'BGN', 'KZT',\n",
       "       'SGD', 'JOD', 'JPY', 'NOK', 'ILS', 'DKK', 'THB', 'RWF', 'HUF',\n",
       "       'BDT', 'IDR', 'BAM', 'PHP', 'XOF', 'DZD', 'TND', 'MYR', 'BHD',\n",
       "       'ARS', 'NIO', 'AFN', 'UYU', 'BYN', 'COP', 'ALL', 'AUD', 'UZS',\n",
       "       'NZD', 'MVR', 'GHS', 'AED', 'NGN', 'FJD', 'GTQ', 'UGX', 'CRC',\n",
       "       'MUR', 'KES', 'EGP', 'TWD', 'AMD', 'KRW', 'CLP', 'ISK', 'HNL',\n",
       "       'HKD', 'CNY', 'VND', 'BSD', 'LKR', 'BTN', 'MNT', 'KHR', 'NPR',\n",
       "       'BOB', 'ETB', 'AOA', 'MKD', 'SYP', 'NAD', 'ANG', 'TJS', 'BIF',\n",
       "       'JMD', 'TTD', 'SLL', 'SRD', 'GYD', 'KGS', 'ZMW', 'MDL', 'OMR',\n",
       "       'CUP', 'XPF', 'KYD', 'TZS', 'KWD', 'TMT', 'QAR', 'YER', 'MWK',\n",
       "       'IQD', 'IMP', 'KPW', 'XAF', 'MGA', 'PYG', 'ERN', 'MMK', 'SHP',\n",
       "       'MZN', 'non', 'AZN', 'LYD', 'MOP', 'LBP', 'BND', 'VES', 'SOS',\n",
       "       'CDF', 'XDR', 'MRU', 'WST', 'SDG', 'XCD', 'FKP', 'BWP', 'GGP',\n",
       "       'CVE', 'GIP', 'SZL', 'AWG', 'BBD', 'BMD'], dtype=object)"
      ]
     },
     "execution_count": 52,
     "metadata": {},
     "output_type": "execute_result"
    }
   ],
   "source": [
    "df['Currency'].unique()"
   ]
  },
  {
   "cell_type": "code",
   "execution_count": 53,
   "metadata": {},
   "outputs": [],
   "source": [
    "currency_to_usd = {\n",
    "    'PKR': 0.0035,  # Pakistani Rupee\n",
    "    'EUR': 1.05,    # European Euro\n",
    "    'USD': 1.00,    # United States Dollar\n",
    "    'BRL': 0.19,    # Brazilian Real\n",
    "    'GBP': 1.22,    # Pound Sterling\n",
    "    'RON': 0.21,    # Romanian Leu\n",
    "    'INR': 0.012,   # Indian Rupee\n",
    "    'CHF': 1.09,    # Swiss Franc\n",
    "    'TRY': 0.036,   # Turkish Lira\n",
    "    'RUB': 0.01,    # Russian Ruble\n",
    "    'ZAR': 0.052,   # South African Rand\n",
    "    'CZK': 0.043,   # Czech Koruna\n",
    "    'CAD': 0.73,    # Canadian Dollar\n",
    "    'IRR': 0.000024,# Iranian Rial\n",
    "    'MXN': 0.056,   # Mexican Peso\n",
    "    'UAH': 0.027,   # Ukrainian Hryvnia\n",
    "    'DOP': 0.017,   # Dominican Peso\n",
    "    'KMF': 0.0022,  # Comorian Franc\n",
    "    'RSD': 0.0091,  # Serbian Dinar\n",
    "    'PEN': 0.27,    # Peruvian Sol\n",
    "    'MAD': 0.097,   # Moroccan Dirham\n",
    "    'GEL': 0.37,    # Georgian Lari\n",
    "    'PLN': 0.24,    # Polish Zloty\n",
    "    'SAR': 0.27,    # Saudi Arabian Riyal\n",
    "    'SEK': 0.089,   # Swedish Krona\n",
    "    'BGN': 0.53,    # Bulgarian Lev\n",
    "    'KZT': 0.0021,  # Kazakhstani Tenge\n",
    "    'SGD': 0.73,    # Singapore Dollar\n",
    "    'JOD': 1.41,    # Jordanian Dinar\n",
    "    'JPY': 0.0067,  # Japanese Yen\n",
    "    'NOK': 0.091,   # Norwegian Krone\n",
    "    'ILS': 0.25,    # Israeli Shekel\n",
    "    'DKK': 0.14,    # Danish Krone\n",
    "    'THB': 0.027,   # Thai Baht\n",
    "    'RWF': 0.00083, # Rwandan Franc\n",
    "    'HUF': 0.0027,  # Hungarian Forint\n",
    "    'BDT': 0.0091,  # Bangladeshi Taka\n",
    "    'IDR': 0.000065,# Indonesian Rupiah\n",
    "    'BAM': 0.53,    # Bosnia and Herzegovina Convertible Mark\n",
    "    'PHP': 0.018,   # Philippine Peso\n",
    "    'XOF': 0.0016,  # West African CFA Franc\n",
    "    'DZD': 0.0074,  # Algerian Dinar\n",
    "    'TND': 0.32,    # Tunisian Dinar\n",
    "    'MYR': 0.21,    # Malaysian Ringgit\n",
    "    'BHD': 2.65,    # Bahraini Dinar\n",
    "    'ARS': 0.0027,  # Argentine Peso\n",
    "    'NIO': 0.027,   # Nicaraguan Cordoba\n",
    "    'AFN': 0.012,   # Afghan Afghani\n",
    "    'UYU': 0.026,   # Uruguayan Peso\n",
    "    'BYN': 0.37,    # Belarusian Ruble\n",
    "    'COP': 0.00024, # Colombian Peso\n",
    "    'ALL': 0.0095,  # Albanian Lek\n",
    "    'AUD': 0.64,    # Australian Dollar\n",
    "    'UZS': 0.000082,# Uzbekistani Som\n",
    "    'NZD': 0.58,    # New Zealand Dollar\n",
    "    'MVR': 0.065,   # Maldivian Rufiyaa\n",
    "    'GHS': 0.086,   # Ghanaian Cedi\n",
    "    'AED': 0.27,    # United Arab Emirates Dirham\n",
    "    'NGN': 0.0013,  # Nigerian Naira\n",
    "    'FJD': 0.44,    # Fijian Dollar\n",
    "    'GTQ': 0.13,    # Guatemalan Quetzal\n",
    "    'UGX': 0.00026, # Ugandan Shilling\n",
    "    'CRC': 0.0018,  # Costa Rican Colon\n",
    "    'MUR': 0.022,   # Mauritian Rupee\n",
    "    'KES': 0.0067,  # Kenyan Shilling\n",
    "    'EGP': 0.032,   # Egyptian Pound\n",
    "    'TWD': 0.031,   # New Taiwan Dollar\n",
    "    'AMD': 0.0025,  # Armenian Dram\n",
    "    'KRW': 0.00074, # South Korean Won\n",
    "    'CLP': 0.0011,  # Chilean Peso\n",
    "    'ISK': 0.0072,  # Icelandic Krona\n",
    "    'HNL': 0.041,   # Honduran Lempira\n",
    "    'HKD': 0.13,    # Hong Kong Dollar\n",
    "    'CNY': 0.14,    # Chinese Yuan Renminbi\n",
    "    'VND': 0.000041,# Vietnamese Dong\n",
    "    'BSD': 1.00,    # Bahamian Dollar\n",
    "    'LKR': 0.0031,  # Sri Lankan Rupee\n",
    "    'BTN': 0.012,   # Bhutanese Ngultrum\n",
    "    'MNT': 0.00029, # Mongolian Tugrik\n",
    "    'KHR': 0.00024, # Cambodian Riel\n",
    "    'NPR': 0.0076,  # Nepalese Rupee\n",
    "    'BOB': 0.14,    # Bolivian Boliviano\n",
    "    'ETB': 0.018,   # Ethiopian Birr\n",
    "    'AOA': 0.0012,  # Angolan Kwanza\n",
    "    'MKD': 0.017,   # Macedonian Denar\n",
    "    'SYP': 0.0004,  # Syrian Pound\n",
    "    'NAD': 0.052,   # Namibian Dollar\n",
    "    'ANG': 0.56,    # Netherlands Antillean Guilder\n",
    "    'TJS': 0.091,   # Tajikistani Somoni\n",
    "    'BIF': 0.00035, # Burundi Franc\n",
    "    'JMD': 0.0065,  # Jamaican Dollar\n",
    "    'TTD': 0.15,    # Trinidad and Tobago Dollar\n",
    "    'SLL': 0.00005, # Sierra Leonean Leone\n",
    "    'SRD': 0.028,   # Surinamese Dollar\n",
    "    'GYD': 0.0048,  # Guyanese Dollar\n",
    "    'KGS': 0.011,   # Kyrgyzstani Som\n",
    "    'ZMW': 0.047,   # Zambian Kwacha\n",
    "    'MDL': 0.055,   # Moldovan Leu\n",
    "    'OMR': 2.60,    # Omani Rial\n",
    "    'CUP': 0.037,   # Cuban Peso\n",
    "    'XPF': 0.0090,  # CFP Franc\n",
    "    'KYD': 1.20,    # Cayman Islands Dollar\n",
    "    'TZS': 0.00040, # Tanzanian Shilling\n",
    "    'KWD': 3.24,    # Kuwaiti Dinar\n",
    "    'TMT': 0.29,    # Turkmen Manat\n",
    "    'QAR': 0.27,    # Qatari Riyal\n",
    "    'YER': 0.0040,  # Yemeni Rial\n",
    "    'MWK': 0.00087, # Malawian Kwacha\n",
    "    'IQD': 0.00077, # Iraqi Dinar\n",
    "    'IMP': 1.22,    # Manx Pound\n",
    "    'KPW': 0.0011,  # North Korean Won\n",
    "    'XAF': 0.0016,  # Central African CFA Franc\n",
    "    'MGA': 0.00022, # Malagasy Ariary\n",
    "    'PYG': 0.00014, # Paraguayan Guarani\n",
    "    'ERN': 0.066,   # Eritrean Nakfa\n",
    "    'MMK': 0.00048, # Myanmar Kyat\n",
    "    'SHP': 1.22,    # Saint Helena Pound\n",
    "    'MZN': 0.016,   # Mozambican Metical\n",
    "    'AZN': 0.59,    # Azerbaijani Manat\n",
    "    'LYD': 0.20,    # Libyan\n",
    "    'MOP': 0.12,    # Macanese Pataca\n",
    "    'LBP': 0.000065,# Lebanese Pound\n",
    "    'BND': 0.73,    # Brunei Dollar\n",
    "    'VES': 0.0000003,# Venezuelan Bolivar\n",
    "    'SOS': 0.0018,  # Somali Shilling\n",
    "    'CDF': 0.00041, # Congolese Franc\n",
    "    'XDR': 1.38,    # SDR (Special Drawing Right)\n",
    "    'MRU': 0.027,   # Mauritanian Ouguiya\n",
    "    'WST': 0.36,    # Samoan Tala\n",
    "    'SDG': 0.0017,  # Sudanese Pound\n",
    "    'XCD': 0.37,    # East Caribbean Dollar\n",
    "    'FKP': 1.22,    # Falkland Islands Pound\n",
    "    'BWP': 0.074,   # Botswana Pula\n",
    "    'GGP': 1.22,    # Guernsey Pound\n",
    "    'CVE': 0.0094,  # Cape Verdean Escudo\n",
    "    'GIP': 1.22,    # Gibraltar Pound\n",
    "    'SZL': 0.052,   # Swazi Lilangeni\n",
    "    'AWG': 0.56,    # Aruban Florin\n",
    "    'BBD': 0.50,    # Barbadian Dollar\n",
    "    'BMD': 1.00     # Bermudian Dollar\n",
    "}"
   ]
  },
  {
   "cell_type": "markdown",
   "metadata": {},
   "source": [
    "Converting all the compensations in USD for uniform data analysis"
   ]
  },
  {
   "cell_type": "code",
   "execution_count": 54,
   "metadata": {},
   "outputs": [],
   "source": [
    "# Step 2: Function to convert compensation to USD\n",
    "def convert_to_usd(row):\n",
    "    currency = row['Currency'].strip()  # Ensure no whitespace\n",
    "    conversion_rate = currency_to_usd.get(currency, 0)  # Default to 0 if currency not found\n",
    "    return row['CompTotal'] * conversion_rate\n",
    "\n",
    "# Step 3: Apply the conversion function\n",
    "df['CompTotalUSD'] = df.apply(convert_to_usd, axis=1)"
   ]
  },
  {
   "cell_type": "code",
   "execution_count": 55,
   "metadata": {},
   "outputs": [
    {
     "data": {
      "text/plain": [
       "0"
      ]
     },
     "execution_count": 55,
     "metadata": {},
     "output_type": "execute_result"
    }
   ],
   "source": [
    "df['CompTotalUSD'].isnull().sum()"
   ]
  },
  {
   "cell_type": "code",
   "execution_count": 56,
   "metadata": {},
   "outputs": [],
   "source": [
    "# Ensure CompTotalUSD is in float for calculations\n",
    "df['CompTotalUSD'] = df['CompTotalUSD'].astype(float)\n",
    "\n",
    "# Calculate Q1 (25th percentile) and Q3 (75th percentile)\n",
    "Q1 = df['CompTotalUSD'].quantile(0.25)\n",
    "Q3 = df['CompTotalUSD'].quantile(0.75)\n",
    "IQR = Q3 - Q1\n",
    "\n",
    "# Determine the bounds for outliers\n",
    "lower_bound = Q1 - 1.5 * IQR\n",
    "upper_bound = Q3 + 1.5 * IQR\n",
    "\n",
    "# Modify the existing DataFrame by filtering out outliers in place\n",
    "df = df[(df['CompTotalUSD'] >= lower_bound) & (df['CompTotalUSD'] <= upper_bound)]\n",
    "\n",
    "# Convert the 'CompTotalUSD' column to integers\n",
    "df['CompTotalUSD'] = df['CompTotalUSD'].astype(int)"
   ]
  },
  {
   "cell_type": "markdown",
   "metadata": {},
   "source": [
    "## 5. Job Role and Type"
   ]
  },
  {
   "cell_type": "markdown",
   "metadata": {},
   "source": [
    "### Job Description"
   ]
  },
  {
   "cell_type": "code",
   "execution_count": 57,
   "metadata": {},
   "outputs": [
    {
     "data": {
      "text/plain": [
       "170"
      ]
     },
     "execution_count": 57,
     "metadata": {},
     "output_type": "execute_result"
    }
   ],
   "source": [
    "df['DevType'].isnull().sum()"
   ]
  },
  {
   "cell_type": "code",
   "execution_count": 58,
   "metadata": {},
   "outputs": [
    {
     "data": {
      "text/plain": [
       "array(['Data scientist or machine learning specialist',\n",
       "       'Developer, mobile', 'Academic researcher',\n",
       "       'Developer, full-stack', 'Developer, back-end',\n",
       "       'Engineering manager', 'Student', 'Other (please specify):',\n",
       "       'Developer, QA or test', 'Developer, front-end',\n",
       "       'Developer, embedded applications or devices', 'Developer, AI',\n",
       "       'Product manager', 'Senior Executive (C-Suite, VP, etc.)', nan,\n",
       "       'System administrator', 'Data or business analyst',\n",
       "       'Developer, desktop or enterprise applications',\n",
       "       'Cloud infrastructure engineer', 'Research & Development role',\n",
       "       'DevOps specialist', 'Security professional', 'Educator',\n",
       "       'Project manager', 'Developer, game or graphics', 'Blockchain',\n",
       "       'Developer Experience', 'Engineer, site reliability', 'Scientist',\n",
       "       'Designer', 'Hardware Engineer', 'Database administrator',\n",
       "       'Data engineer', 'Developer Advocate',\n",
       "       'Marketing or sales professional'], dtype=object)"
      ]
     },
     "execution_count": 58,
     "metadata": {},
     "output_type": "execute_result"
    }
   ],
   "source": [
    "df['DevType'].unique()"
   ]
  },
  {
   "cell_type": "code",
   "execution_count": 59,
   "metadata": {},
   "outputs": [],
   "source": [
    "df.dropna(subset=['DevType'], inplace=True)"
   ]
  },
  {
   "cell_type": "code",
   "execution_count": 60,
   "metadata": {},
   "outputs": [
    {
     "data": {
      "text/plain": [
       "(45065, 115)"
      ]
     },
     "execution_count": 60,
     "metadata": {},
     "output_type": "execute_result"
    }
   ],
   "source": [
    "df.shape"
   ]
  },
  {
   "cell_type": "markdown",
   "metadata": {},
   "source": [
    "## 6. Technology Used"
   ]
  },
  {
   "cell_type": "markdown",
   "metadata": {},
   "source": [
    "### Programming Languages Worked With"
   ]
  },
  {
   "cell_type": "code",
   "execution_count": 61,
   "metadata": {},
   "outputs": [
    {
     "data": {
      "text/plain": [
       "637"
      ]
     },
     "execution_count": 61,
     "metadata": {},
     "output_type": "execute_result"
    }
   ],
   "source": [
    "df['LanguageHaveWorkedWith'].isnull().sum()"
   ]
  },
  {
   "cell_type": "code",
   "execution_count": 62,
   "metadata": {},
   "outputs": [
    {
     "data": {
      "text/plain": [
       "array(['Assembly;Bash/Shell (all shells);C;C++;HTML/CSS;Java;JavaScript;Python;R;SQL;TypeScript',\n",
       "       'Bash/Shell (all shells);Go;Java;JavaScript;Kotlin;Objective-C;Python;Swift',\n",
       "       'HTML/CSS;JavaScript;PHP;SQL', ...,\n",
       "       'Elixir;HTML/CSS;JavaScript;Lua;PowerShell;Python;Ruby;SQL',\n",
       "       'Bash/Shell (all shells);C;C#;C++;Delphi;Groovy;HTML/CSS;Java;JavaScript;Objective-C;PowerShell;Python;SQL;Swift;TypeScript',\n",
       "       'C;C++;Go;Lua;Objective-C;Python;Rust;SQL'], dtype=object)"
      ]
     },
     "execution_count": 62,
     "metadata": {},
     "output_type": "execute_result"
    }
   ],
   "source": [
    "df['LanguageHaveWorkedWith'].unique()"
   ]
  },
  {
   "cell_type": "code",
   "execution_count": 63,
   "metadata": {},
   "outputs": [],
   "source": [
    "df.dropna(subset=['LanguageHaveWorkedWith'], inplace=True)"
   ]
  },
  {
   "cell_type": "code",
   "execution_count": 64,
   "metadata": {},
   "outputs": [
    {
     "data": {
      "text/plain": [
       "(44428, 115)"
      ]
     },
     "execution_count": 64,
     "metadata": {},
     "output_type": "execute_result"
    }
   ],
   "source": [
    "df.shape"
   ]
  },
  {
   "cell_type": "markdown",
   "metadata": {},
   "source": [
    "### Programming Languages Want To Work With"
   ]
  },
  {
   "cell_type": "code",
   "execution_count": 65,
   "metadata": {},
   "outputs": [
    {
     "data": {
      "text/plain": [
       "2820"
      ]
     },
     "execution_count": 65,
     "metadata": {},
     "output_type": "execute_result"
    }
   ],
   "source": [
    "df['LanguageWantToWorkWith'].isnull().sum()"
   ]
  },
  {
   "cell_type": "code",
   "execution_count": 66,
   "metadata": {},
   "outputs": [
    {
     "data": {
      "text/plain": [
       "array(['C#;Rust;Scala', nan, 'HTML/CSS;JavaScript;PHP;SQL', ...,\n",
       "       'Dart;Elixir;Go;Lua;Python;Ruby;SQL;Zig', 'Elixir;Rust;Swift',\n",
       "       'Bash/Shell (all shells);C#;Go;HTML/CSS;Java;JavaScript;Kotlin;Objective-C;Python;Rust;SQL;Swift;TypeScript'],\n",
       "      dtype=object)"
      ]
     },
     "execution_count": 66,
     "metadata": {},
     "output_type": "execute_result"
    }
   ],
   "source": [
    "df['LanguageWantToWorkWith'].unique()"
   ]
  },
  {
   "cell_type": "code",
   "execution_count": 67,
   "metadata": {},
   "outputs": [],
   "source": [
    "df.dropna(subset=['LanguageWantToWorkWith'], inplace=True)"
   ]
  },
  {
   "cell_type": "code",
   "execution_count": 68,
   "metadata": {},
   "outputs": [
    {
     "data": {
      "text/plain": [
       "(41608, 115)"
      ]
     },
     "execution_count": 68,
     "metadata": {},
     "output_type": "execute_result"
    }
   ],
   "source": [
    "df.shape"
   ]
  },
  {
   "cell_type": "markdown",
   "metadata": {},
   "source": [
    "### Platform Worked With"
   ]
  },
  {
   "cell_type": "code",
   "execution_count": 69,
   "metadata": {},
   "outputs": [
    {
     "data": {
      "text/plain": [
       "10547"
      ]
     },
     "execution_count": 69,
     "metadata": {},
     "output_type": "execute_result"
    }
   ],
   "source": [
    "df['PlatformHaveWorkedWith'].isnull().sum()"
   ]
  },
  {
   "cell_type": "code",
   "execution_count": 70,
   "metadata": {},
   "outputs": [],
   "source": [
    "df['PlatformHaveWorkedWith'].fillna('Missing', inplace=True)"
   ]
  },
  {
   "cell_type": "code",
   "execution_count": 71,
   "metadata": {},
   "outputs": [
    {
     "data": {
      "text/plain": [
       "(41608, 115)"
      ]
     },
     "execution_count": 71,
     "metadata": {},
     "output_type": "execute_result"
    }
   ],
   "source": [
    "df.shape"
   ]
  },
  {
   "cell_type": "markdown",
   "metadata": {},
   "source": [
    "### Platform Want To Work With"
   ]
  },
  {
   "cell_type": "code",
   "execution_count": 72,
   "metadata": {},
   "outputs": [
    {
     "data": {
      "text/plain": [
       "14761"
      ]
     },
     "execution_count": 72,
     "metadata": {},
     "output_type": "execute_result"
    }
   ],
   "source": [
    "df['PlatformWantToWorkWith'].isnull().sum()"
   ]
  },
  {
   "cell_type": "code",
   "execution_count": 73,
   "metadata": {},
   "outputs": [],
   "source": [
    "df['PlatformWantToWorkWith'].fillna('Unknown', inplace=True)"
   ]
  },
  {
   "cell_type": "code",
   "execution_count": 74,
   "metadata": {},
   "outputs": [
    {
     "data": {
      "text/plain": [
       "(41608, 115)"
      ]
     },
     "execution_count": 74,
     "metadata": {},
     "output_type": "execute_result"
    }
   ],
   "source": [
    "df.shape"
   ]
  },
  {
   "cell_type": "markdown",
   "metadata": {},
   "source": [
    "## 7. Organisational Information"
   ]
  },
  {
   "cell_type": "markdown",
   "metadata": {},
   "source": [
    "### Size of Organisation"
   ]
  },
  {
   "cell_type": "code",
   "execution_count": 75,
   "metadata": {},
   "outputs": [
    {
     "data": {
      "text/plain": [
       "123"
      ]
     },
     "execution_count": 75,
     "metadata": {},
     "output_type": "execute_result"
    }
   ],
   "source": [
    "df['OrgSize'].isnull().sum()"
   ]
  },
  {
   "cell_type": "code",
   "execution_count": 76,
   "metadata": {},
   "outputs": [],
   "source": [
    "df.dropna(subset=['OrgSize'], inplace=True)"
   ]
  },
  {
   "cell_type": "code",
   "execution_count": 77,
   "metadata": {},
   "outputs": [
    {
     "data": {
      "text/plain": [
       "(41485, 115)"
      ]
     },
     "execution_count": 77,
     "metadata": {},
     "output_type": "execute_result"
    }
   ],
   "source": [
    "df.shape"
   ]
  },
  {
   "cell_type": "code",
   "execution_count": 78,
   "metadata": {},
   "outputs": [
    {
     "data": {
      "text/plain": [
       "array(['100 to 499 employees',\n",
       "       'Just me - I am a freelancer, sole proprietor, etc.',\n",
       "       '10 to 19 employees', '20 to 99 employees',\n",
       "       '5,000 to 9,999 employees', '1,000 to 4,999 employees',\n",
       "       'I don’t know', '10,000 or more employees', '2 to 9 employees',\n",
       "       '500 to 999 employees'], dtype=object)"
      ]
     },
     "execution_count": 78,
     "metadata": {},
     "output_type": "execute_result"
    }
   ],
   "source": [
    "df['OrgSize'].unique()"
   ]
  },
  {
   "cell_type": "markdown",
   "metadata": {},
   "source": [
    "### Purchase Influence"
   ]
  },
  {
   "cell_type": "code",
   "execution_count": 79,
   "metadata": {},
   "outputs": [
    {
     "data": {
      "text/plain": [
       "array(['I have some influence', 'I have little or no influence',\n",
       "       'I have a great deal of influence', nan], dtype=object)"
      ]
     },
     "execution_count": 79,
     "metadata": {},
     "output_type": "execute_result"
    }
   ],
   "source": [
    "df['PurchaseInfluence'].unique()"
   ]
  },
  {
   "cell_type": "code",
   "execution_count": 80,
   "metadata": {},
   "outputs": [
    {
     "data": {
      "text/plain": [
       "113"
      ]
     },
     "execution_count": 80,
     "metadata": {},
     "output_type": "execute_result"
    }
   ],
   "source": [
    "df['PurchaseInfluence'].isnull().sum()"
   ]
  },
  {
   "cell_type": "code",
   "execution_count": 81,
   "metadata": {},
   "outputs": [],
   "source": [
    "df.dropna(subset=['PurchaseInfluence'], inplace=True)"
   ]
  },
  {
   "cell_type": "code",
   "execution_count": 82,
   "metadata": {},
   "outputs": [
    {
     "data": {
      "text/plain": [
       "(41372, 115)"
      ]
     },
     "execution_count": 82,
     "metadata": {},
     "output_type": "execute_result"
    }
   ],
   "source": [
    "df.shape"
   ]
  },
  {
   "cell_type": "markdown",
   "metadata": {},
   "source": [
    "### Buy New Tool"
   ]
  },
  {
   "cell_type": "code",
   "execution_count": 83,
   "metadata": {},
   "outputs": [
    {
     "data": {
      "text/plain": [
       "array(['Start a free trial;Ask developers I know/work with;Ask a generative AI tool;Visit developer communities like Stack Overflow;Read ratings or reviews on third party sites like G2 Crowd',\n",
       "       'Start a free trial;Ask developers I know/work with;Visit developer communities like Stack Overflow',\n",
       "       'Start a free trial;Ask developers I know/work with;Visit developer communities like Stack Overflow;Read ratings or reviews on third party sites like G2 Crowd;Research companies that have advertised on sites I visit;Research companies that have emailed me',\n",
       "       'Ask developers I know/work with;Research companies that have emailed me',\n",
       "       'Ask developers I know/work with;Read ratings or reviews on third party sites like G2 Crowd',\n",
       "       nan, 'Ask developers I know/work with',\n",
       "       'Start a free trial;Research companies that have advertised on sites I visit;Research companies that have emailed me',\n",
       "       'Start a free trial;Ask developers I know/work with;Ask a generative AI tool;Research companies that have advertised on sites I visit',\n",
       "       'Start a free trial;Ask developers I know/work with;Visit developer communities like Stack Overflow;Research companies that have advertised on sites I visit;Research companies that have emailed me',\n",
       "       'Start a free trial;Ask developers I know/work with;Visit developer communities like Stack Overflow;Research companies that have advertised on sites I visit',\n",
       "       'Visit developer communities like Stack Overflow',\n",
       "       'Ask developers I know/work with;Visit developer communities like Stack Overflow',\n",
       "       'Start a free trial;Visit developer communities like Stack Overflow;Read ratings or reviews on third party sites like G2 Crowd',\n",
       "       'Ask developers I know/work with;Ask a generative AI tool;Visit developer communities like Stack Overflow',\n",
       "       'Start a free trial;Ask developers I know/work with;Read ratings or reviews on third party sites like G2 Crowd',\n",
       "       'Start a free trial;Ask developers I know/work with;Visit developer communities like Stack Overflow;Read ratings or reviews on third party sites like G2 Crowd',\n",
       "       'Start a free trial;Ask developers I know/work with;Ask a generative AI tool;Visit developer communities like Stack Overflow;Read ratings or reviews on third party sites like G2 Crowd;Research companies that have advertised on sites I visit',\n",
       "       'Other (please specify):',\n",
       "       'Start a free trial;Ask developers I know/work with',\n",
       "       'Ask a generative AI tool',\n",
       "       'Visit developer communities like Stack Overflow;Read ratings or reviews on third party sites like G2 Crowd',\n",
       "       'Start a free trial',\n",
       "       'Start a free trial;Read ratings or reviews on third party sites like G2 Crowd;Research companies that have advertised on sites I visit;Research companies that have emailed me',\n",
       "       'Start a free trial;Ask developers I know/work with;Visit developer communities like Stack Overflow;Read ratings or reviews on third party sites like G2 Crowd;Research companies that have emailed me',\n",
       "       'Start a free trial;Ask developers I know/work with;Other (please specify):',\n",
       "       'Start a free trial;Ask developers I know/work with;Ask a generative AI tool',\n",
       "       'Start a free trial;Visit developer communities like Stack Overflow;Research companies that have advertised on sites I visit',\n",
       "       'Start a free trial;Visit developer communities like Stack Overflow',\n",
       "       'Start a free trial;Ask developers I know/work with;Visit developer communities like Stack Overflow;Research companies that have emailed me',\n",
       "       'Start a free trial;Ask developers I know/work with;Ask a generative AI tool;Visit developer communities like Stack Overflow',\n",
       "       'Start a free trial;Ask developers I know/work with;Ask a generative AI tool;Visit developer communities like Stack Overflow;Research companies that have advertised on sites I visit',\n",
       "       'Ask developers I know/work with;Visit developer communities like Stack Overflow;Read ratings or reviews on third party sites like G2 Crowd',\n",
       "       'Start a free trial;Other (please specify):',\n",
       "       'Start a free trial;Visit developer communities like Stack Overflow;Read ratings or reviews on third party sites like G2 Crowd;Research companies that have advertised on sites I visit;Research companies that have emailed me',\n",
       "       'Ask developers I know/work with;Ask a generative AI tool;Visit developer communities like Stack Overflow;Read ratings or reviews on third party sites like G2 Crowd',\n",
       "       'Start a free trial;Ask developers I know/work with;Visit developer communities like Stack Overflow;Read ratings or reviews on third party sites like G2 Crowd;Other (please specify):',\n",
       "       'Start a free trial;Read ratings or reviews on third party sites like G2 Crowd',\n",
       "       'Start a free trial;Read ratings or reviews on third party sites like G2 Crowd;Other (please specify):',\n",
       "       'Ask developers I know/work with;Other (please specify):',\n",
       "       'Start a free trial;Ask developers I know/work with;Research companies that have advertised on sites I visit;Other (please specify):',\n",
       "       'Ask developers I know/work with;Ask a generative AI tool;Visit developer communities like Stack Overflow;Read ratings or reviews on third party sites like G2 Crowd;Research companies that have advertised on sites I visit;Research companies that have emailed me',\n",
       "       'Start a free trial;Ask developers I know/work with;Visit developer communities like Stack Overflow;Read ratings or reviews on third party sites like G2 Crowd;Research companies that have advertised on sites I visit',\n",
       "       'Start a free trial;Ask a generative AI tool;Other (please specify):',\n",
       "       'Start a free trial;Ask developers I know/work with;Research companies that have emailed me',\n",
       "       'Start a free trial;Ask developers I know/work with;Ask a generative AI tool;Other (please specify):',\n",
       "       'Start a free trial;Ask developers I know/work with;Ask a generative AI tool;Visit developer communities like Stack Overflow;Read ratings or reviews on third party sites like G2 Crowd;Research companies that have advertised on sites I visit;Research companies that have emailed me',\n",
       "       'Start a free trial;Ask a generative AI tool;Visit developer communities like Stack Overflow;Read ratings or reviews on third party sites like G2 Crowd;Research companies that have emailed me',\n",
       "       'Ask a generative AI tool;Read ratings or reviews on third party sites like G2 Crowd;Other (please specify):',\n",
       "       'Ask developers I know/work with;Research companies that have advertised on sites I visit;Other (please specify):',\n",
       "       'Start a free trial;Ask developers I know/work with;Research companies that have advertised on sites I visit;Research companies that have emailed me',\n",
       "       'Start a free trial;Ask developers I know/work with;Visit developer communities like Stack Overflow;Research companies that have advertised on sites I visit;Other (please specify):',\n",
       "       'Start a free trial;Visit developer communities like Stack Overflow;Read ratings or reviews on third party sites like G2 Crowd;Other (please specify):',\n",
       "       'Ask developers I know/work with;Ask a generative AI tool;Read ratings or reviews on third party sites like G2 Crowd',\n",
       "       'Start a free trial;Ask developers I know/work with;Ask a generative AI tool;Research companies that have emailed me',\n",
       "       'Ask developers I know/work with;Ask a generative AI tool',\n",
       "       'Start a free trial;Ask a generative AI tool;Visit developer communities like Stack Overflow;Read ratings or reviews on third party sites like G2 Crowd',\n",
       "       'Start a free trial;Ask a generative AI tool',\n",
       "       'Start a free trial;Visit developer communities like Stack Overflow;Other (please specify):',\n",
       "       'Start a free trial;Ask developers I know/work with;Visit developer communities like Stack Overflow;Other (please specify):',\n",
       "       'Start a free trial;Ask developers I know/work with;Read ratings or reviews on third party sites like G2 Crowd;Other (please specify):',\n",
       "       'Ask developers I know/work with;Visit developer communities like Stack Overflow;Research companies that have advertised on sites I visit;Research companies that have emailed me',\n",
       "       'Start a free trial;Read ratings or reviews on third party sites like G2 Crowd;Research companies that have advertised on sites I visit',\n",
       "       'Start a free trial;Ask a generative AI tool;Visit developer communities like Stack Overflow',\n",
       "       'Start a free trial;Ask developers I know/work with;Visit developer communities like Stack Overflow;Read ratings or reviews on third party sites like G2 Crowd;Research companies that have advertised on sites I visit;Other (please specify):',\n",
       "       'Ask developers I know/work with;Visit developer communities like Stack Overflow;Read ratings or reviews on third party sites like G2 Crowd;Research companies that have advertised on sites I visit;Research companies that have emailed me',\n",
       "       'Ask developers I know/work with;Visit developer communities like Stack Overflow;Other (please specify):',\n",
       "       'Start a free trial;Ask developers I know/work with;Read ratings or reviews on third party sites like G2 Crowd;Research companies that have emailed me',\n",
       "       'Start a free trial;Ask a generative AI tool;Read ratings or reviews on third party sites like G2 Crowd;Research companies that have advertised on sites I visit',\n",
       "       'Start a free trial;Visit developer communities like Stack Overflow;Read ratings or reviews on third party sites like G2 Crowd;Research companies that have advertised on sites I visit;Other (please specify):',\n",
       "       'Ask a generative AI tool;Visit developer communities like Stack Overflow;Read ratings or reviews on third party sites like G2 Crowd',\n",
       "       'Start a free trial;Ask developers I know/work with;Ask a generative AI tool;Visit developer communities like Stack Overflow;Research companies that have advertised on sites I visit;Other (please specify):',\n",
       "       'Start a free trial;Ask developers I know/work with;Ask a generative AI tool;Read ratings or reviews on third party sites like G2 Crowd',\n",
       "       'Ask a generative AI tool;Visit developer communities like Stack Overflow',\n",
       "       'Start a free trial;Ask developers I know/work with;Research companies that have advertised on sites I visit',\n",
       "       'Start a free trial;Research companies that have advertised on sites I visit',\n",
       "       'Start a free trial;Ask developers I know/work with;Read ratings or reviews on third party sites like G2 Crowd;Research companies that have advertised on sites I visit;Research companies that have emailed me',\n",
       "       'Ask developers I know/work with;Research companies that have advertised on sites I visit',\n",
       "       'Ask developers I know/work with;Visit developer communities like Stack Overflow;Research companies that have advertised on sites I visit',\n",
       "       'Start a free trial;Visit developer communities like Stack Overflow;Read ratings or reviews on third party sites like G2 Crowd;Research companies that have advertised on sites I visit',\n",
       "       'Start a free trial;Ask developers I know/work with;Ask a generative AI tool;Visit developer communities like Stack Overflow;Research companies that have emailed me',\n",
       "       'Start a free trial;Visit developer communities like Stack Overflow;Research companies that have advertised on sites I visit;Research companies that have emailed me',\n",
       "       'Start a free trial;Ask developers I know/work with;Ask a generative AI tool;Visit developer communities like Stack Overflow;Research companies that have advertised on sites I visit;Research companies that have emailed me',\n",
       "       'Ask a generative AI tool;Visit developer communities like Stack Overflow;Other (please specify):',\n",
       "       'Ask developers I know/work with;Visit developer communities like Stack Overflow;Read ratings or reviews on third party sites like G2 Crowd;Research companies that have advertised on sites I visit',\n",
       "       'Ask developers I know/work with;Visit developer communities like Stack Overflow;Read ratings or reviews on third party sites like G2 Crowd;Research companies that have emailed me',\n",
       "       'Visit developer communities like Stack Overflow;Read ratings or reviews on third party sites like G2 Crowd;Research companies that have advertised on sites I visit',\n",
       "       'Research companies that have advertised on sites I visit',\n",
       "       'Read ratings or reviews on third party sites like G2 Crowd;Other (please specify):',\n",
       "       'Read ratings or reviews on third party sites like G2 Crowd',\n",
       "       'Read ratings or reviews on third party sites like G2 Crowd;Research companies that have advertised on sites I visit',\n",
       "       'Start a free trial;Ask developers I know/work with;Read ratings or reviews on third party sites like G2 Crowd;Research companies that have advertised on sites I visit',\n",
       "       'Ask developers I know/work with;Read ratings or reviews on third party sites like G2 Crowd;Research companies that have advertised on sites I visit',\n",
       "       'Visit developer communities like Stack Overflow;Other (please specify):',\n",
       "       'Start a free trial;Ask a generative AI tool;Read ratings or reviews on third party sites like G2 Crowd',\n",
       "       'Start a free trial;Ask developers I know/work with;Ask a generative AI tool;Visit developer communities like Stack Overflow;Other (please specify):',\n",
       "       'Start a free trial;Ask a generative AI tool;Visit developer communities like Stack Overflow;Read ratings or reviews on third party sites like G2 Crowd;Research companies that have advertised on sites I visit',\n",
       "       'Ask developers I know/work with;Ask a generative AI tool;Visit developer communities like Stack Overflow;Other (please specify):',\n",
       "       'Start a free trial;Research companies that have emailed me',\n",
       "       'Start a free trial;Ask developers I know/work with;Ask a generative AI tool;Research companies that have advertised on sites I visit;Research companies that have emailed me',\n",
       "       'Ask a generative AI tool;Visit developer communities like Stack Overflow;Read ratings or reviews on third party sites like G2 Crowd;Other (please specify):',\n",
       "       'Start a free trial;Visit developer communities like Stack Overflow;Research companies that have emailed me',\n",
       "       'Research companies that have emailed me',\n",
       "       'Start a free trial;Research companies that have emailed me;Other (please specify):',\n",
       "       'Ask a generative AI tool;Visit developer communities like Stack Overflow;Research companies that have advertised on sites I visit',\n",
       "       'Start a free trial;Ask a generative AI tool;Visit developer communities like Stack Overflow;Read ratings or reviews on third party sites like G2 Crowd;Research companies that have advertised on sites I visit;Other (please specify):',\n",
       "       'Ask developers I know/work with;Ask a generative AI tool;Visit developer communities like Stack Overflow;Read ratings or reviews on third party sites like G2 Crowd;Research companies that have advertised on sites I visit',\n",
       "       'Start a free trial;Ask a generative AI tool;Research companies that have advertised on sites I visit',\n",
       "       'Ask developers I know/work with;Research companies that have advertised on sites I visit;Research companies that have emailed me',\n",
       "       'Ask developers I know/work with;Ask a generative AI tool;Visit developer communities like Stack Overflow;Research companies that have emailed me',\n",
       "       'Start a free trial;Ask developers I know/work with;Ask a generative AI tool;Read ratings or reviews on third party sites like G2 Crowd;Research companies that have advertised on sites I visit',\n",
       "       'Visit developer communities like Stack Overflow;Read ratings or reviews on third party sites like G2 Crowd;Research companies that have advertised on sites I visit;Research companies that have emailed me',\n",
       "       'Start a free trial;Ask developers I know/work with;Visit developer communities like Stack Overflow;Read ratings or reviews on third party sites like G2 Crowd;Research companies that have advertised on sites I visit;Research companies that have emailed me;Other (please specify):',\n",
       "       'Ask developers I know/work with;Ask a generative AI tool;Visit developer communities like Stack Overflow;Read ratings or reviews on third party sites like G2 Crowd;Other (please specify):',\n",
       "       'Start a free trial;Ask a generative AI tool;Visit developer communities like Stack Overflow;Research companies that have advertised on sites I visit',\n",
       "       'Visit developer communities like Stack Overflow;Research companies that have advertised on sites I visit',\n",
       "       'Visit developer communities like Stack Overflow;Read ratings or reviews on third party sites like G2 Crowd;Research companies that have emailed me',\n",
       "       'Ask developers I know/work with;Read ratings or reviews on third party sites like G2 Crowd;Other (please specify):',\n",
       "       'Ask developers I know/work with;Read ratings or reviews on third party sites like G2 Crowd;Research companies that have emailed me',\n",
       "       'Start a free trial;Ask developers I know/work with;Ask a generative AI tool;Read ratings or reviews on third party sites like G2 Crowd;Research companies that have advertised on sites I visit;Research companies that have emailed me',\n",
       "       'Ask developers I know/work with;Visit developer communities like Stack Overflow;Research companies that have advertised on sites I visit;Other (please specify):',\n",
       "       'Start a free trial;Ask a generative AI tool;Visit developer communities like Stack Overflow;Read ratings or reviews on third party sites like G2 Crowd;Other (please specify):',\n",
       "       'Start a free trial;Ask developers I know/work with;Visit developer communities like Stack Overflow;Research companies that have advertised on sites I visit;Research companies that have emailed me;Other (please specify):',\n",
       "       'Ask developers I know/work with;Visit developer communities like Stack Overflow;Research companies that have emailed me',\n",
       "       'Ask developers I know/work with;Visit developer communities like Stack Overflow;Read ratings or reviews on third party sites like G2 Crowd;Other (please specify):',\n",
       "       'Read ratings or reviews on third party sites like G2 Crowd;Research companies that have advertised on sites I visit;Research companies that have emailed me',\n",
       "       'Ask a generative AI tool;Read ratings or reviews on third party sites like G2 Crowd',\n",
       "       'Visit developer communities like Stack Overflow;Research companies that have advertised on sites I visit;Other (please specify):',\n",
       "       'Ask a generative AI tool;Research companies that have advertised on sites I visit;Other (please specify):',\n",
       "       'Ask a generative AI tool;Other (please specify):',\n",
       "       'Ask developers I know/work with;Ask a generative AI tool;Other (please specify):',\n",
       "       'Start a free trial;Research companies that have advertised on sites I visit;Other (please specify):',\n",
       "       'Start a free trial;Ask developers I know/work with;Ask a generative AI tool;Research companies that have advertised on sites I visit;Other (please specify):',\n",
       "       'Start a free trial;Visit developer communities like Stack Overflow;Read ratings or reviews on third party sites like G2 Crowd;Research companies that have emailed me',\n",
       "       'Visit developer communities like Stack Overflow;Research companies that have advertised on sites I visit;Research companies that have emailed me',\n",
       "       'Ask developers I know/work with;Ask a generative AI tool;Research companies that have emailed me',\n",
       "       'Start a free trial;Visit developer communities like Stack Overflow;Research companies that have advertised on sites I visit;Research companies that have emailed me;Other (please specify):',\n",
       "       'Start a free trial;Ask developers I know/work with;Ask a generative AI tool;Visit developer communities like Stack Overflow;Read ratings or reviews on third party sites like G2 Crowd;Other (please specify):',\n",
       "       'Visit developer communities like Stack Overflow;Read ratings or reviews on third party sites like G2 Crowd;Other (please specify):',\n",
       "       'Ask developers I know/work with;Ask a generative AI tool;Visit developer communities like Stack Overflow;Research companies that have advertised on sites I visit;Research companies that have emailed me',\n",
       "       'Ask developers I know/work with;Visit developer communities like Stack Overflow;Read ratings or reviews on third party sites like G2 Crowd;Research companies that have advertised on sites I visit;Other (please specify):',\n",
       "       'Read ratings or reviews on third party sites like G2 Crowd;Research companies that have advertised on sites I visit;Other (please specify):',\n",
       "       'Ask a generative AI tool;Visit developer communities like Stack Overflow;Research companies that have emailed me',\n",
       "       'Start a free trial;Ask a generative AI tool;Visit developer communities like Stack Overflow;Read ratings or reviews on third party sites like G2 Crowd;Research companies that have advertised on sites I visit;Research companies that have emailed me',\n",
       "       'Start a free trial;Ask a generative AI tool;Visit developer communities like Stack Overflow;Other (please specify):',\n",
       "       'Start a free trial;Ask developers I know/work with;Ask a generative AI tool;Visit developer communities like Stack Overflow;Read ratings or reviews on third party sites like G2 Crowd;Research companies that have emailed me',\n",
       "       'Ask developers I know/work with;Ask a generative AI tool;Visit developer communities like Stack Overflow;Research companies that have advertised on sites I visit',\n",
       "       'Start a free trial;Ask a generative AI tool;Visit developer communities like Stack Overflow;Research companies that have emailed me',\n",
       "       'Start a free trial;Read ratings or reviews on third party sites like G2 Crowd;Research companies that have emailed me',\n",
       "       'Ask developers I know/work with;Ask a generative AI tool;Research companies that have advertised on sites I visit',\n",
       "       'Ask developers I know/work with;Ask a generative AI tool;Read ratings or reviews on third party sites like G2 Crowd;Research companies that have advertised on sites I visit',\n",
       "       'Research companies that have advertised on sites I visit;Research companies that have emailed me',\n",
       "       'Ask developers I know/work with;Read ratings or reviews on third party sites like G2 Crowd;Research companies that have advertised on sites I visit;Research companies that have emailed me',\n",
       "       'Ask a generative AI tool;Research companies that have advertised on sites I visit',\n",
       "       'Start a free trial;Ask developers I know/work with;Read ratings or reviews on third party sites like G2 Crowd;Research companies that have advertised on sites I visit;Research companies that have emailed me;Other (please specify):',\n",
       "       'Start a free trial;Ask a generative AI tool;Visit developer communities like Stack Overflow;Research companies that have advertised on sites I visit;Research companies that have emailed me',\n",
       "       'Start a free trial;Ask developers I know/work with;Read ratings or reviews on third party sites like G2 Crowd;Research companies that have advertised on sites I visit;Other (please specify):',\n",
       "       'Ask developers I know/work with;Ask a generative AI tool;Visit developer communities like Stack Overflow;Read ratings or reviews on third party sites like G2 Crowd;Research companies that have advertised on sites I visit;Other (please specify):',\n",
       "       'Start a free trial;Ask a generative AI tool;Research companies that have emailed me',\n",
       "       'Start a free trial;Ask developers I know/work with;Visit developer communities like Stack Overflow;Read ratings or reviews on third party sites like G2 Crowd;Research companies that have emailed me;Other (please specify):',\n",
       "       'Ask developers I know/work with;Ask a generative AI tool;Research companies that have advertised on sites I visit;Research companies that have emailed me',\n",
       "       'Visit developer communities like Stack Overflow;Research companies that have emailed me',\n",
       "       'Research companies that have advertised on sites I visit;Other (please specify):',\n",
       "       'Start a free trial;Visit developer communities like Stack Overflow;Research companies that have advertised on sites I visit;Other (please specify):',\n",
       "       'Ask developers I know/work with;Ask a generative AI tool;Visit developer communities like Stack Overflow;Read ratings or reviews on third party sites like G2 Crowd;Research companies that have emailed me;Other (please specify):',\n",
       "       'Start a free trial;Ask a generative AI tool;Research companies that have advertised on sites I visit;Other (please specify):',\n",
       "       'Start a free trial;Ask developers I know/work with;Ask a generative AI tool;Visit developer communities like Stack Overflow;Read ratings or reviews on third party sites like G2 Crowd;Research companies that have advertised on sites I visit;Research companies that have emailed me;Other (please specify):',\n",
       "       'Start a free trial;Ask a generative AI tool;Research companies that have advertised on sites I visit;Research companies that have emailed me',\n",
       "       'Ask developers I know/work with;Ask a generative AI tool;Read ratings or reviews on third party sites like G2 Crowd;Other (please specify):',\n",
       "       'Read ratings or reviews on third party sites like G2 Crowd;Research companies that have advertised on sites I visit;Research companies that have emailed me;Other (please specify):',\n",
       "       'Ask a generative AI tool;Visit developer communities like Stack Overflow;Research companies that have advertised on sites I visit;Other (please specify):',\n",
       "       'Ask developers I know/work with;Visit developer communities like Stack Overflow;Research companies that have emailed me;Other (please specify):',\n",
       "       'Ask a generative AI tool;Visit developer communities like Stack Overflow;Read ratings or reviews on third party sites like G2 Crowd;Research companies that have advertised on sites I visit',\n",
       "       'Ask developers I know/work with;Research companies that have emailed me;Other (please specify):',\n",
       "       'Start a free trial;Ask a generative AI tool;Read ratings or reviews on third party sites like G2 Crowd;Other (please specify):',\n",
       "       'Start a free trial;Ask developers I know/work with;Ask a generative AI tool;Read ratings or reviews on third party sites like G2 Crowd;Other (please specify):',\n",
       "       'Ask developers I know/work with;Ask a generative AI tool;Read ratings or reviews on third party sites like G2 Crowd;Research companies that have advertised on sites I visit;Research companies that have emailed me',\n",
       "       'Start a free trial;Ask developers I know/work with;Research companies that have advertised on sites I visit;Research companies that have emailed me;Other (please specify):',\n",
       "       'Start a free trial;Ask developers I know/work with;Ask a generative AI tool;Visit developer communities like Stack Overflow;Read ratings or reviews on third party sites like G2 Crowd;Research companies that have advertised on sites I visit;Other (please specify):',\n",
       "       'Ask a generative AI tool;Read ratings or reviews on third party sites like G2 Crowd;Research companies that have advertised on sites I visit',\n",
       "       'Start a free trial;Ask developers I know/work with;Ask a generative AI tool;Read ratings or reviews on third party sites like G2 Crowd;Research companies that have emailed me',\n",
       "       'Ask developers I know/work with;Ask a generative AI tool;Read ratings or reviews on third party sites like G2 Crowd;Research companies that have emailed me',\n",
       "       'Ask a generative AI tool;Visit developer communities like Stack Overflow;Read ratings or reviews on third party sites like G2 Crowd;Research companies that have emailed me',\n",
       "       'Ask a generative AI tool;Read ratings or reviews on third party sites like G2 Crowd;Research companies that have advertised on sites I visit;Other (please specify):',\n",
       "       'Ask a generative AI tool;Visit developer communities like Stack Overflow;Read ratings or reviews on third party sites like G2 Crowd;Research companies that have advertised on sites I visit;Other (please specify):',\n",
       "       'Start a free trial;Ask a generative AI tool;Read ratings or reviews on third party sites like G2 Crowd;Research companies that have advertised on sites I visit;Other (please specify):',\n",
       "       'Start a free trial;Ask developers I know/work with;Research companies that have emailed me;Other (please specify):',\n",
       "       'Ask developers I know/work with;Ask a generative AI tool;Visit developer communities like Stack Overflow;Read ratings or reviews on third party sites like G2 Crowd;Research companies that have emailed me',\n",
       "       'Start a free trial;Ask a generative AI tool;Read ratings or reviews on third party sites like G2 Crowd;Research companies that have emailed me',\n",
       "       'Start a free trial;Ask a generative AI tool;Read ratings or reviews on third party sites like G2 Crowd;Research companies that have advertised on sites I visit;Research companies that have emailed me',\n",
       "       'Start a free trial;Ask developers I know/work with;Visit developer communities like Stack Overflow;Research companies that have emailed me;Other (please specify):',\n",
       "       'Ask a generative AI tool;Visit developer communities like Stack Overflow;Read ratings or reviews on third party sites like G2 Crowd;Research companies that have advertised on sites I visit;Research companies that have emailed me',\n",
       "       'Visit developer communities like Stack Overflow;Read ratings or reviews on third party sites like G2 Crowd;Research companies that have advertised on sites I visit;Research companies that have emailed me;Other (please specify):',\n",
       "       'Visit developer communities like Stack Overflow;Read ratings or reviews on third party sites like G2 Crowd;Research companies that have advertised on sites I visit;Other (please specify):',\n",
       "       'Ask developers I know/work with;Ask a generative AI tool;Visit developer communities like Stack Overflow;Research companies that have advertised on sites I visit;Other (please specify):',\n",
       "       'Start a free trial;Read ratings or reviews on third party sites like G2 Crowd;Research companies that have advertised on sites I visit;Other (please specify):',\n",
       "       'Ask a generative AI tool;Read ratings or reviews on third party sites like G2 Crowd;Research companies that have advertised on sites I visit;Research companies that have emailed me;Other (please specify):',\n",
       "       'Start a free trial;Ask developers I know/work with;Ask a generative AI tool;Research companies that have advertised on sites I visit;Research companies that have emailed me;Other (please specify):',\n",
       "       'Ask a generative AI tool;Research companies that have emailed me',\n",
       "       'Ask developers I know/work with;Visit developer communities like Stack Overflow;Read ratings or reviews on third party sites like G2 Crowd;Research companies that have advertised on sites I visit;Research companies that have emailed me;Other (please specify):',\n",
       "       'Start a free trial;Ask developers I know/work with;Ask a generative AI tool;Visit developer communities like Stack Overflow;Research companies that have advertised on sites I visit;Research companies that have emailed me;Other (please specify):',\n",
       "       'Ask developers I know/work with;Ask a generative AI tool;Visit developer communities like Stack Overflow;Read ratings or reviews on third party sites like G2 Crowd;Research companies that have advertised on sites I visit;Research companies that have emailed me;Other (please specify):',\n",
       "       'Ask developers I know/work with;Read ratings or reviews on third party sites like G2 Crowd;Research companies that have advertised on sites I visit;Other (please specify):',\n",
       "       'Start a free trial;Read ratings or reviews on third party sites like G2 Crowd;Research companies that have advertised on sites I visit;Research companies that have emailed me;Other (please specify):',\n",
       "       'Start a free trial;Ask developers I know/work with;Read ratings or reviews on third party sites like G2 Crowd;Research companies that have emailed me;Other (please specify):',\n",
       "       'Visit developer communities like Stack Overflow;Research companies that have emailed me;Other (please specify):',\n",
       "       'Start a free trial;Visit developer communities like Stack Overflow;Read ratings or reviews on third party sites like G2 Crowd;Research companies that have advertised on sites I visit;Research companies that have emailed me;Other (please specify):',\n",
       "       'Read ratings or reviews on third party sites like G2 Crowd;Research companies that have emailed me',\n",
       "       'Visit developer communities like Stack Overflow;Read ratings or reviews on third party sites like G2 Crowd;Research companies that have emailed me;Other (please specify):',\n",
       "       'Ask a generative AI tool;Visit developer communities like Stack Overflow;Research companies that have advertised on sites I visit;Research companies that have emailed me',\n",
       "       'Ask developers I know/work with;Research companies that have advertised on sites I visit;Research companies that have emailed me;Other (please specify):'],\n",
       "      dtype=object)"
      ]
     },
     "execution_count": 83,
     "metadata": {},
     "output_type": "execute_result"
    }
   ],
   "source": [
    "df['BuyNewTool'].unique()"
   ]
  },
  {
   "cell_type": "code",
   "execution_count": 84,
   "metadata": {},
   "outputs": [
    {
     "data": {
      "text/plain": [
       "1744"
      ]
     },
     "execution_count": 84,
     "metadata": {},
     "output_type": "execute_result"
    }
   ],
   "source": [
    "df['BuyNewTool'].isnull().sum()"
   ]
  },
  {
   "cell_type": "code",
   "execution_count": 85,
   "metadata": {},
   "outputs": [],
   "source": [
    "df['BuyNewTool'].fillna('Unknown', inplace=True)"
   ]
  },
  {
   "cell_type": "markdown",
   "metadata": {},
   "source": [
    "## 8. Time-Related Information"
   ]
  },
  {
   "cell_type": "markdown",
   "metadata": {},
   "source": [
    "### TimeSearching"
   ]
  },
  {
   "cell_type": "code",
   "execution_count": 86,
   "metadata": {},
   "outputs": [
    {
     "data": {
      "text/plain": [
       "array(['30-60 minutes a day', nan, 'Less than 15 minutes a day',\n",
       "       '60-120 minutes a day', '15-30 minutes a day',\n",
       "       'Over 120 minutes a day'], dtype=object)"
      ]
     },
     "execution_count": 86,
     "metadata": {},
     "output_type": "execute_result"
    }
   ],
   "source": [
    "df['TimeSearching'].unique()"
   ]
  },
  {
   "cell_type": "code",
   "execution_count": 87,
   "metadata": {},
   "outputs": [
    {
     "data": {
      "text/plain": [
       "15731"
      ]
     },
     "execution_count": 87,
     "metadata": {},
     "output_type": "execute_result"
    }
   ],
   "source": [
    "df['TimeSearching'].isnull().sum()"
   ]
  },
  {
   "cell_type": "code",
   "execution_count": 88,
   "metadata": {},
   "outputs": [],
   "source": [
    "df['TimeSearching'].fillna('Unknown', inplace=True)"
   ]
  },
  {
   "cell_type": "markdown",
   "metadata": {},
   "source": [
    "### TimeAnswering"
   ]
  },
  {
   "cell_type": "code",
   "execution_count": 89,
   "metadata": {},
   "outputs": [
    {
     "data": {
      "text/plain": [
       "array(['60-120 minutes a day', nan, 'Less than 15 minutes a day',\n",
       "       '30-60 minutes a day', '15-30 minutes a day',\n",
       "       'Over 120 minutes a day'], dtype=object)"
      ]
     },
     "execution_count": 89,
     "metadata": {},
     "output_type": "execute_result"
    }
   ],
   "source": [
    "df['TimeAnswering'].unique()"
   ]
  },
  {
   "cell_type": "code",
   "execution_count": 90,
   "metadata": {},
   "outputs": [
    {
     "data": {
      "text/plain": [
       "15785"
      ]
     },
     "execution_count": 90,
     "metadata": {},
     "output_type": "execute_result"
    }
   ],
   "source": [
    "df['TimeAnswering'].isnull().sum()"
   ]
  },
  {
   "cell_type": "code",
   "execution_count": 91,
   "metadata": {},
   "outputs": [],
   "source": [
    "df['TimeAnswering'].fillna('Unknown', inplace=True)"
   ]
  },
  {
   "cell_type": "markdown",
   "metadata": {},
   "source": [
    "## 9. Artificial Intelligence Impact"
   ]
  },
  {
   "cell_type": "markdown",
   "metadata": {},
   "source": [
    "### AISelect,Do you currently use AI tools in your development process?"
   ]
  },
  {
   "cell_type": "code",
   "execution_count": 92,
   "metadata": {},
   "outputs": [
    {
     "data": {
      "text/plain": [
       "array(['Yes', \"No, and I don't plan to\", 'No, but I plan to soon', nan],\n",
       "      dtype=object)"
      ]
     },
     "execution_count": 92,
     "metadata": {},
     "output_type": "execute_result"
    }
   ],
   "source": [
    "df['AISelect'].unique()"
   ]
  },
  {
   "cell_type": "code",
   "execution_count": 93,
   "metadata": {},
   "outputs": [
    {
     "data": {
      "text/plain": [
       "157"
      ]
     },
     "execution_count": 93,
     "metadata": {},
     "output_type": "execute_result"
    }
   ],
   "source": [
    "df['AISelect'].isnull().sum()"
   ]
  },
  {
   "cell_type": "code",
   "execution_count": 94,
   "metadata": {},
   "outputs": [],
   "source": [
    "df['AISelect'].fillna('Unknown', inplace=True)"
   ]
  },
  {
   "cell_type": "markdown",
   "metadata": {},
   "source": [
    "QID315,AISent,How favorable is your stance on using AI tools as part of your development workflow?,FALSE,MC,SAVR\n",
    "QID324,AIBen,\"For the AI tools you use as part of your development workflow, what are the MOST important benefits you are hoping to achieve? Please check all that apply.\",FALSE,MC,MAVR\n",
    "QID316,AIAcc,How much do you trust the accuracy of the output from AI tools as part of your development workflow?,FALSE,MC,SAVR\n",
    "QID343,AIComplex,How well do the AI tools you use in your development workflow handle complex tasks?,FALSE,MC,SAVR\n",
    "QID319,AITool,Which parts of your development workflow are you currently using AI tools for and which are you interested in using AI tools for over the next year?  Please select all that apply.,FALSE,Matrix,Likert\n",
    "QID320,AINext,\"Thinking about how your job and process changes over time, how integrated in your workflow do you anticipate AI tools you are currently using will be 1 year from now?\",FALSE,Matrix,Likert\n",
    "QID338,AIThreat,Do you believe AI is a threat to your current job?,FALSE,MC,SAVR\n",
    "QID339,AIEthics,Which AI ethical responsibilities are most important to you?  Select all that apply.,FALSE,MC,MAVR\n",
    "QID346,AIChallenges,What are the challenges to your company/whole team using AI code assistants or GenAI tools? Select all that apply.,FALSE,MC,MAVR\n"
   ]
  },
  {
   "cell_type": "markdown",
   "metadata": {},
   "source": [
    "### AISent,How favorable is your stance on using AI tools as part of your development workflow?"
   ]
  },
  {
   "cell_type": "code",
   "execution_count": 95,
   "metadata": {},
   "outputs": [
    {
     "data": {
      "text/plain": [
       "array(['Very favorable', 'Indifferent', nan, 'Favorable', 'Unfavorable',\n",
       "       'Unsure', 'Very unfavorable'], dtype=object)"
      ]
     },
     "execution_count": 95,
     "metadata": {},
     "output_type": "execute_result"
    }
   ],
   "source": [
    "df['AISent'].unique()"
   ]
  },
  {
   "cell_type": "code",
   "execution_count": 96,
   "metadata": {},
   "outputs": [
    {
     "data": {
      "text/plain": [
       "10322"
      ]
     },
     "execution_count": 96,
     "metadata": {},
     "output_type": "execute_result"
    }
   ],
   "source": [
    "df['AISent'].isnull().sum()"
   ]
  },
  {
   "cell_type": "code",
   "execution_count": 97,
   "metadata": {},
   "outputs": [],
   "source": [
    "df['AISent'].fillna('Unknown', inplace=True)"
   ]
  },
  {
   "cell_type": "markdown",
   "metadata": {},
   "source": [
    "### AIBen,\"For the AI tools you use as part of your development workflow, what are the MOST important benefits you are hoping to achieve? Please check all that apply.\""
   ]
  },
  {
   "cell_type": "code",
   "execution_count": 98,
   "metadata": {},
   "outputs": [
    {
     "data": {
      "text/plain": [
       "array(['Increase productivity;Greater efficiency;Improve collaboration;Speed up learning;Improve accuracy in coding;Make workload more manageable',\n",
       "       'Increase productivity', nan,\n",
       "       'Increase productivity;Greater efficiency',\n",
       "       'Increase productivity;Speed up learning',\n",
       "       'Increase productivity;Greater efficiency;Speed up learning;Improve accuracy in coding',\n",
       "       'Improve accuracy in coding', 'Speed up learning',\n",
       "       'Increase productivity;Speed up learning;Make workload more manageable',\n",
       "       'Greater efficiency;Speed up learning', 'Other (please specify):',\n",
       "       'Increase productivity;Greater efficiency;Make workload more manageable',\n",
       "       'Greater efficiency;Improve accuracy in coding',\n",
       "       'Increase productivity;Greater efficiency;Speed up learning',\n",
       "       'Greater efficiency',\n",
       "       'Increase productivity;Greater efficiency;Improve accuracy in coding',\n",
       "       'Increase productivity;Greater efficiency;Speed up learning;Improve accuracy in coding;Make workload more manageable',\n",
       "       'Greater efficiency;Speed up learning;Improve accuracy in coding',\n",
       "       'Increase productivity;Improve accuracy in coding',\n",
       "       'Increase productivity;Speed up learning;Improve accuracy in coding;Make workload more manageable',\n",
       "       'Increase productivity;Make workload more manageable',\n",
       "       'Make workload more manageable',\n",
       "       'Increase productivity;Speed up learning;Improve accuracy in coding',\n",
       "       'Increase productivity;Other (please specify):',\n",
       "       'Increase productivity;Greater efficiency;Other (please specify):',\n",
       "       'Speed up learning;Other (please specify):',\n",
       "       'Increase productivity;Greater efficiency;Speed up learning;Make workload more manageable',\n",
       "       'Speed up learning;Improve accuracy in coding;Make workload more manageable',\n",
       "       'Speed up learning;Improve accuracy in coding',\n",
       "       'Improve collaboration;Speed up learning',\n",
       "       'Increase productivity;Greater efficiency;Improve collaboration',\n",
       "       'Increase productivity;Speed up learning;Other (please specify):',\n",
       "       'Speed up learning;Make workload more manageable',\n",
       "       'Speed up learning;Improve accuracy in coding;Other (please specify):',\n",
       "       'Increase productivity;Greater efficiency;Speed up learning;Improve accuracy in coding;Make workload more manageable;Other (please specify):',\n",
       "       'Greater efficiency;Speed up learning;Other (please specify):',\n",
       "       'Increase productivity;Greater efficiency;Speed up learning;Other (please specify):',\n",
       "       'Increase productivity;Greater efficiency;Speed up learning;Make workload more manageable;Other (please specify):',\n",
       "       'Increase productivity;Greater efficiency;Speed up learning;Improve accuracy in coding;Other (please specify):',\n",
       "       'Increase productivity;Improve collaboration;Make workload more manageable',\n",
       "       'Increase productivity;Greater efficiency;Improve collaboration;Speed up learning;Make workload more manageable',\n",
       "       'Improve collaboration;Make workload more manageable',\n",
       "       'Increase productivity;Greater efficiency;Improve accuracy in coding;Make workload more manageable',\n",
       "       'Greater efficiency;Make workload more manageable',\n",
       "       'Increase productivity;Greater efficiency;Improve collaboration;Speed up learning;Improve accuracy in coding',\n",
       "       'Greater efficiency;Improve collaboration',\n",
       "       'Increase productivity;Greater efficiency;Improve collaboration;Speed up learning',\n",
       "       'Increase productivity;Greater efficiency;Improve collaboration;Make workload more manageable',\n",
       "       'Greater efficiency;Other (please specify):',\n",
       "       'Improve accuracy in coding;Make workload more manageable',\n",
       "       'Increase productivity;Greater efficiency;Improve accuracy in coding;Other (please specify):',\n",
       "       'Greater efficiency;Improve collaboration;Speed up learning;Make workload more manageable',\n",
       "       'Increase productivity;Improve collaboration;Speed up learning;Improve accuracy in coding',\n",
       "       'Increase productivity;Speed up learning;Make workload more manageable;Other (please specify):',\n",
       "       'Greater efficiency;Improve collaboration;Speed up learning',\n",
       "       'Increase productivity;Improve accuracy in coding;Make workload more manageable',\n",
       "       'Greater efficiency;Speed up learning;Make workload more manageable',\n",
       "       'Greater efficiency;Speed up learning;Improve accuracy in coding;Make workload more manageable',\n",
       "       'Speed up learning;Improve accuracy in coding;Make workload more manageable;Other (please specify):',\n",
       "       'Increase productivity;Speed up learning;Improve accuracy in coding;Other (please specify):',\n",
       "       'Increase productivity;Greater efficiency;Make workload more manageable;Other (please specify):',\n",
       "       'Increase productivity;Improve collaboration;Speed up learning',\n",
       "       'Improve collaboration;Improve accuracy in coding',\n",
       "       'Improve collaboration;Speed up learning;Improve accuracy in coding;Make workload more manageable',\n",
       "       'Improve collaboration;Speed up learning;Improve accuracy in coding',\n",
       "       'Greater efficiency;Speed up learning;Improve accuracy in coding;Other (please specify):',\n",
       "       'Increase productivity;Improve collaboration;Speed up learning;Make workload more manageable',\n",
       "       'Increase productivity;Improve collaboration;Speed up learning;Improve accuracy in coding;Make workload more manageable',\n",
       "       'Increase productivity;Make workload more manageable;Other (please specify):',\n",
       "       'Greater efficiency;Improve accuracy in coding;Other (please specify):',\n",
       "       'Greater efficiency;Improve collaboration;Make workload more manageable',\n",
       "       'Improve collaboration',\n",
       "       'Improve collaboration;Improve accuracy in coding;Make workload more manageable',\n",
       "       'Increase productivity;Improve collaboration;Improve accuracy in coding',\n",
       "       'Greater efficiency;Improve collaboration;Speed up learning;Improve accuracy in coding;Make workload more manageable',\n",
       "       'Increase productivity;Greater efficiency;Improve collaboration;Speed up learning;Other (please specify):',\n",
       "       'Increase productivity;Greater efficiency;Improve collaboration;Speed up learning;Improve accuracy in coding;Make workload more manageable;Other (please specify):',\n",
       "       'Increase productivity;Improve collaboration',\n",
       "       'Greater efficiency;Improve collaboration;Speed up learning;Improve accuracy in coding',\n",
       "       'Increase productivity;Greater efficiency;Improve collaboration;Improve accuracy in coding;Make workload more manageable',\n",
       "       'Increase productivity;Greater efficiency;Improve collaboration;Improve accuracy in coding',\n",
       "       'Increase productivity;Improve accuracy in coding;Other (please specify):',\n",
       "       'Improve collaboration;Speed up learning;Make workload more manageable',\n",
       "       'Increase productivity;Greater efficiency;Improve collaboration;Speed up learning;Improve accuracy in coding;Other (please specify):',\n",
       "       'Increase productivity;Improve collaboration;Speed up learning;Improve accuracy in coding;Other (please specify):',\n",
       "       'Greater efficiency;Improve accuracy in coding;Make workload more manageable',\n",
       "       'Increase productivity;Improve collaboration;Speed up learning;Other (please specify):',\n",
       "       'Improve collaboration;Speed up learning;Other (please specify):',\n",
       "       'Improve accuracy in coding;Other (please specify):',\n",
       "       'Improve collaboration;Improve accuracy in coding;Other (please specify):',\n",
       "       'Make workload more manageable;Other (please specify):',\n",
       "       'Greater efficiency;Improve collaboration;Other (please specify):',\n",
       "       'Increase productivity;Improve collaboration;Other (please specify):',\n",
       "       'Increase productivity;Improve collaboration;Improve accuracy in coding;Make workload more manageable',\n",
       "       'Speed up learning;Make workload more manageable;Other (please specify):',\n",
       "       'Improve accuracy in coding;Make workload more manageable;Other (please specify):',\n",
       "       'Greater efficiency;Improve collaboration;Speed up learning;Make workload more manageable;Other (please specify):',\n",
       "       'Greater efficiency;Improve collaboration;Improve accuracy in coding',\n",
       "       'Greater efficiency;Speed up learning;Make workload more manageable;Other (please specify):',\n",
       "       'Increase productivity;Greater efficiency;Improve accuracy in coding;Make workload more manageable;Other (please specify):',\n",
       "       'Greater efficiency;Make workload more manageable;Other (please specify):',\n",
       "       'Increase productivity;Greater efficiency;Improve collaboration;Speed up learning;Make workload more manageable;Other (please specify):',\n",
       "       'Increase productivity;Speed up learning;Improve accuracy in coding;Make workload more manageable;Other (please specify):',\n",
       "       'Increase productivity;Greater efficiency;Improve collaboration;Other (please specify):',\n",
       "       'Increase productivity;Greater efficiency;Improve collaboration;Improve accuracy in coding;Other (please specify):',\n",
       "       'Increase productivity;Improve collaboration;Make workload more manageable;Other (please specify):',\n",
       "       'Greater efficiency;Improve collaboration;Improve accuracy in coding;Make workload more manageable',\n",
       "       'Improve collaboration;Other (please specify):'], dtype=object)"
      ]
     },
     "execution_count": 98,
     "metadata": {},
     "output_type": "execute_result"
    }
   ],
   "source": [
    "df['AIBen'].unique()"
   ]
  },
  {
   "cell_type": "code",
   "execution_count": 99,
   "metadata": {},
   "outputs": [
    {
     "data": {
      "text/plain": [
       "16318"
      ]
     },
     "execution_count": 99,
     "metadata": {},
     "output_type": "execute_result"
    }
   ],
   "source": [
    "df['AIBen'].isnull().sum()"
   ]
  },
  {
   "cell_type": "code",
   "execution_count": 100,
   "metadata": {},
   "outputs": [],
   "source": [
    "df['AIBen'].fillna('Unknown', inplace=True)"
   ]
  },
  {
   "cell_type": "markdown",
   "metadata": {},
   "source": [
    "### AIAcc,How much do you trust the accuracy of the output from AI tools as part of your development workflow?"
   ]
  },
  {
   "cell_type": "code",
   "execution_count": 101,
   "metadata": {},
   "outputs": [
    {
     "data": {
      "text/plain": [
       "array(['Somewhat trust', 'Somewhat distrust', nan,\n",
       "       'Neither trust nor distrust', 'Highly distrust', 'Highly trust'],\n",
       "      dtype=object)"
      ]
     },
     "execution_count": 101,
     "metadata": {},
     "output_type": "execute_result"
    }
   ],
   "source": [
    "df['AIAcc'].unique()"
   ]
  },
  {
   "cell_type": "code",
   "execution_count": 102,
   "metadata": {},
   "outputs": [
    {
     "data": {
      "text/plain": [
       "16022"
      ]
     },
     "execution_count": 102,
     "metadata": {},
     "output_type": "execute_result"
    }
   ],
   "source": [
    "df['AIAcc'].isnull().sum()"
   ]
  },
  {
   "cell_type": "code",
   "execution_count": 103,
   "metadata": {},
   "outputs": [],
   "source": [
    "df['AIAcc'].fillna('Unknown', inplace=True)"
   ]
  },
  {
   "cell_type": "markdown",
   "metadata": {},
   "source": [
    "### AIComplex,How well do the AI tools you use in your development workflow handle complex tasks?"
   ]
  },
  {
   "cell_type": "code",
   "execution_count": 104,
   "metadata": {},
   "outputs": [
    {
     "data": {
      "text/plain": [
       "array(['Good, but not great at handling complex tasks',\n",
       "       'Very poor at handling complex tasks', nan,\n",
       "       'Neither good or bad at handling complex tasks',\n",
       "       'Bad at handling complex tasks',\n",
       "       'Very well at handling complex tasks'], dtype=object)"
      ]
     },
     "execution_count": 104,
     "metadata": {},
     "output_type": "execute_result"
    }
   ],
   "source": [
    "df['AIComplex'].unique()"
   ]
  },
  {
   "cell_type": "code",
   "execution_count": 105,
   "metadata": {},
   "outputs": [
    {
     "data": {
      "text/plain": [
       "16159"
      ]
     },
     "execution_count": 105,
     "metadata": {},
     "output_type": "execute_result"
    }
   ],
   "source": [
    "df['AIComplex'].isnull().sum()"
   ]
  },
  {
   "cell_type": "code",
   "execution_count": 106,
   "metadata": {},
   "outputs": [],
   "source": [
    "df['AIComplex'].fillna('Unknown', inplace=True)"
   ]
  },
  {
   "cell_type": "markdown",
   "metadata": {},
   "source": [
    "### AITool,Which parts of your development workflow are you currently using AI tools for and which are you interested in using AI tools for over the next year?  Please select all that apply."
   ]
  },
  {
   "cell_type": "code",
   "execution_count": 107,
   "metadata": {},
   "outputs": [
    {
     "data": {
      "text/plain": [
       "array(['Learning about a codebase;Writing code;Documenting code;Debugging and getting help;Search for answers;Generating content or synthetic data',\n",
       "       'Writing code', nan, ...,\n",
       "       'Writing code;Debugging and getting help;Testing code;Committing and reviewing code;Search for answers;Generating content or synthetic data;Other (please specify):',\n",
       "       'Learning about a codebase;Project planning;Writing code;Predictive analytics;Search for answers;Generating content or synthetic data',\n",
       "       'Learning about a codebase;Writing code;Committing and reviewing code;Deployment and monitoring;Predictive analytics;Search for answers'],\n",
       "      dtype=object)"
      ]
     },
     "execution_count": 107,
     "metadata": {},
     "output_type": "execute_result"
    }
   ],
   "source": [
    "df['AIToolCurrently Using'].unique()"
   ]
  },
  {
   "cell_type": "code",
   "execution_count": 108,
   "metadata": {},
   "outputs": [
    {
     "data": {
      "text/plain": [
       "17004"
      ]
     },
     "execution_count": 108,
     "metadata": {},
     "output_type": "execute_result"
    }
   ],
   "source": [
    "df['AIToolCurrently Using'].isnull().sum()"
   ]
  },
  {
   "cell_type": "code",
   "execution_count": 109,
   "metadata": {},
   "outputs": [
    {
     "data": {
      "text/plain": [
       "array(['Project planning;Testing code;Committing and reviewing code;Deployment and monitoring;Predictive analytics',\n",
       "       nan, 'Learning about a codebase', ...,\n",
       "       'Learning about a codebase;Documenting code;Deployment and monitoring;Search for answers;Other (please specify):',\n",
       "       'Learning about a codebase;Documenting code;Testing code;Committing and reviewing code;Deployment and monitoring;Generating content or synthetic data;Other (please specify):',\n",
       "       'Debugging and getting help;Testing code;Generating content or synthetic data;Other (please specify):'],\n",
       "      dtype=object)"
      ]
     },
     "execution_count": 109,
     "metadata": {},
     "output_type": "execute_result"
    }
   ],
   "source": [
    "df['AIToolInterested in Using'].unique()"
   ]
  },
  {
   "cell_type": "code",
   "execution_count": 110,
   "metadata": {},
   "outputs": [
    {
     "data": {
      "text/plain": [
       "19754"
      ]
     },
     "execution_count": 110,
     "metadata": {},
     "output_type": "execute_result"
    }
   ],
   "source": [
    "df['AIToolInterested in Using'].isnull().sum()"
   ]
  },
  {
   "cell_type": "code",
   "execution_count": 111,
   "metadata": {},
   "outputs": [
    {
     "data": {
      "text/plain": [
       "array([nan,\n",
       "       'Project planning;Committing and reviewing code;Deployment and monitoring;Predictive analytics',\n",
       "       'Project planning;Deployment and monitoring;Predictive analytics;Generating content or synthetic data',\n",
       "       ...,\n",
       "       'Learning about a codebase;Project planning;Committing and reviewing code;Predictive analytics;Other (please specify):',\n",
       "       'Writing code;Documenting code;Testing code;Committing and reviewing code;Deployment and monitoring;Predictive analytics;Generating content or synthetic data',\n",
       "       'Learning about a codebase;Predictive analytics;Other (please specify):'],\n",
       "      dtype=object)"
      ]
     },
     "execution_count": 111,
     "metadata": {},
     "output_type": "execute_result"
    }
   ],
   "source": [
    "df['AIToolNot interested in Using'].unique()"
   ]
  },
  {
   "cell_type": "code",
   "execution_count": 112,
   "metadata": {},
   "outputs": [
    {
     "data": {
      "text/plain": [
       "24057"
      ]
     },
     "execution_count": 112,
     "metadata": {},
     "output_type": "execute_result"
    }
   ],
   "source": [
    "df['AIToolNot interested in Using'].isnull().sum()"
   ]
  },
  {
   "cell_type": "code",
   "execution_count": 113,
   "metadata": {},
   "outputs": [],
   "source": [
    "df[['AIToolCurrently Using', 'AIToolInterested in Using', 'AIToolNot interested in Using']].fillna('Unknown', inplace=True)"
   ]
  },
  {
   "cell_type": "markdown",
   "metadata": {},
   "source": [
    "### AIThreat,Do you believe AI is a threat to your current job?"
   ]
  },
  {
   "cell_type": "code",
   "execution_count": 114,
   "metadata": {},
   "outputs": [
    {
     "data": {
      "text/plain": [
       "array(['No', nan, \"I'm not sure\", 'Yes'], dtype=object)"
      ]
     },
     "execution_count": 114,
     "metadata": {},
     "output_type": "execute_result"
    }
   ],
   "source": [
    "df['AIThreat'].unique()"
   ]
  },
  {
   "cell_type": "code",
   "execution_count": 115,
   "metadata": {},
   "outputs": [
    {
     "data": {
      "text/plain": [
       "10386"
      ]
     },
     "execution_count": 115,
     "metadata": {},
     "output_type": "execute_result"
    }
   ],
   "source": [
    "df['AIThreat'].isnull().sum()"
   ]
  },
  {
   "cell_type": "code",
   "execution_count": 116,
   "metadata": {},
   "outputs": [],
   "source": [
    "df['AIThreat'].fillna('Unknown', inplace=True)"
   ]
  },
  {
   "cell_type": "markdown",
   "metadata": {},
   "source": [
    "### AIEthics,Which AI ethical responsibilities are most important to you?  Select all that apply."
   ]
  },
  {
   "cell_type": "code",
   "execution_count": 117,
   "metadata": {},
   "outputs": [
    {
     "data": {
      "text/plain": [
       "array(['Circulating misinformation or disinformation;Missing or incorrect attribution for sources of data;Biased results that do not represent diverse viewpoints',\n",
       "       \"Circulating misinformation or disinformation;Missing or incorrect attribution for sources of data;Biased results that do not represent diverse viewpoints;Imitating a person's likeness;Energy demand\",\n",
       "       nan,\n",
       "       'Circulating misinformation or disinformation;Missing or incorrect attribution for sources of data;Replacing jobs without options for new employment opportunities',\n",
       "       'Circulating misinformation or disinformation;Missing or incorrect attribution for sources of data;Energy demand',\n",
       "       'Circulating misinformation or disinformation;Energy demand',\n",
       "       \"Missing or incorrect attribution for sources of data;Imitating a person's likeness;Energy demand\",\n",
       "       'Other (please specify):',\n",
       "       \"Circulating misinformation or disinformation;Missing or incorrect attribution for sources of data;Replacing jobs without options for new employment opportunities;Imitating a person's likeness;Energy demand\",\n",
       "       'Circulating misinformation or disinformation;Missing or incorrect attribution for sources of data;Biased results that do not represent diverse viewpoints;Energy demand',\n",
       "       'Replacing jobs without options for new employment opportunities',\n",
       "       \"Circulating misinformation or disinformation;Missing or incorrect attribution for sources of data;Imitating a person's likeness\",\n",
       "       'Circulating misinformation or disinformation;Missing or incorrect attribution for sources of data;Replacing jobs without options for new employment opportunities;Energy demand',\n",
       "       'Circulating misinformation or disinformation;Missing or incorrect attribution for sources of data;Replacing jobs without options for new employment opportunities;Biased results that do not represent diverse viewpoints',\n",
       "       \"Circulating misinformation or disinformation;Missing or incorrect attribution for sources of data;Imitating a person's likeness;Energy demand\",\n",
       "       'Circulating misinformation or disinformation;Biased results that do not represent diverse viewpoints',\n",
       "       'Circulating misinformation or disinformation;Replacing jobs without options for new employment opportunities;Energy demand',\n",
       "       'Missing or incorrect attribution for sources of data',\n",
       "       \"Circulating misinformation or disinformation;Replacing jobs without options for new employment opportunities;Biased results that do not represent diverse viewpoints;Imitating a person's likeness\",\n",
       "       \"Circulating misinformation or disinformation;Imitating a person's likeness;Other (please specify):\",\n",
       "       'Circulating misinformation or disinformation;Replacing jobs without options for new employment opportunities',\n",
       "       'Missing or incorrect attribution for sources of data;Energy demand',\n",
       "       \"Circulating misinformation or disinformation;Missing or incorrect attribution for sources of data;Replacing jobs without options for new employment opportunities;Biased results that do not represent diverse viewpoints;Imitating a person's likeness;Energy demand\",\n",
       "       'Missing or incorrect attribution for sources of data;Replacing jobs without options for new employment opportunities',\n",
       "       'Circulating misinformation or disinformation;Missing or incorrect attribution for sources of data',\n",
       "       'Circulating misinformation or disinformation',\n",
       "       \"Missing or incorrect attribution for sources of data;Imitating a person's likeness\",\n",
       "       \"Circulating misinformation or disinformation;Missing or incorrect attribution for sources of data;Replacing jobs without options for new employment opportunities;Biased results that do not represent diverse viewpoints;Imitating a person's likeness\",\n",
       "       \"Replacing jobs without options for new employment opportunities;Imitating a person's likeness;Energy demand\",\n",
       "       'Circulating misinformation or disinformation;Replacing jobs without options for new employment opportunities;Biased results that do not represent diverse viewpoints',\n",
       "       'Missing or incorrect attribution for sources of data;Replacing jobs without options for new employment opportunities;Biased results that do not represent diverse viewpoints',\n",
       "       \"Circulating misinformation or disinformation;Replacing jobs without options for new employment opportunities;Biased results that do not represent diverse viewpoints;Imitating a person's likeness;Energy demand\",\n",
       "       \"Missing or incorrect attribution for sources of data;Replacing jobs without options for new employment opportunities;Biased results that do not represent diverse viewpoints;Imitating a person's likeness;Other (please specify):\",\n",
       "       \"Circulating misinformation or disinformation;Imitating a person's likeness;Energy demand\",\n",
       "       'Circulating misinformation or disinformation;Missing or incorrect attribution for sources of data;Replacing jobs without options for new employment opportunities;Biased results that do not represent diverse viewpoints;Energy demand',\n",
       "       'Circulating misinformation or disinformation;Missing or incorrect attribution for sources of data;Biased results that do not represent diverse viewpoints;Other (please specify):',\n",
       "       \"Circulating misinformation or disinformation;Biased results that do not represent diverse viewpoints;Imitating a person's likeness\",\n",
       "       \"Circulating misinformation or disinformation;Missing or incorrect attribution for sources of data;Biased results that do not represent diverse viewpoints;Imitating a person's likeness\",\n",
       "       'Replacing jobs without options for new employment opportunities;Biased results that do not represent diverse viewpoints;Energy demand',\n",
       "       'Circulating misinformation or disinformation;Replacing jobs without options for new employment opportunities;Biased results that do not represent diverse viewpoints;Energy demand',\n",
       "       'Replacing jobs without options for new employment opportunities;Biased results that do not represent diverse viewpoints',\n",
       "       'Circulating misinformation or disinformation;Missing or incorrect attribution for sources of data;Biased results that do not represent diverse viewpoints;Energy demand;Other (please specify):',\n",
       "       'Circulating misinformation or disinformation;Biased results that do not represent diverse viewpoints;Energy demand',\n",
       "       'Energy demand',\n",
       "       \"Circulating misinformation or disinformation;Biased results that do not represent diverse viewpoints;Imitating a person's likeness;Energy demand\",\n",
       "       'Biased results that do not represent diverse viewpoints',\n",
       "       \"Circulating misinformation or disinformation;Replacing jobs without options for new employment opportunities;Imitating a person's likeness\",\n",
       "       \"Missing or incorrect attribution for sources of data;Replacing jobs without options for new employment opportunities;Imitating a person's likeness\",\n",
       "       \"Circulating misinformation or disinformation;Imitating a person's likeness\",\n",
       "       \"Imitating a person's likeness\",\n",
       "       \"Circulating misinformation or disinformation;Missing or incorrect attribution for sources of data;Replacing jobs without options for new employment opportunities;Imitating a person's likeness\",\n",
       "       \"Circulating misinformation or disinformation;Replacing jobs without options for new employment opportunities;Biased results that do not represent diverse viewpoints;Imitating a person's likeness;Other (please specify):\",\n",
       "       \"Imitating a person's likeness;Other (please specify):\",\n",
       "       'Circulating misinformation or disinformation;Missing or incorrect attribution for sources of data;Energy demand;Other (please specify):',\n",
       "       'Replacing jobs without options for new employment opportunities;Energy demand',\n",
       "       \"Circulating misinformation or disinformation;Replacing jobs without options for new employment opportunities;Imitating a person's likeness;Energy demand\",\n",
       "       \"Missing or incorrect attribution for sources of data;Replacing jobs without options for new employment opportunities;Biased results that do not represent diverse viewpoints;Imitating a person's likeness;Energy demand\",\n",
       "       \"Replacing jobs without options for new employment opportunities;Imitating a person's likeness\",\n",
       "       'Biased results that do not represent diverse viewpoints;Energy demand',\n",
       "       'Circulating misinformation or disinformation;Biased results that do not represent diverse viewpoints;Other (please specify):',\n",
       "       'Missing or incorrect attribution for sources of data;Biased results that do not represent diverse viewpoints;Energy demand',\n",
       "       'Missing or incorrect attribution for sources of data;Biased results that do not represent diverse viewpoints',\n",
       "       \"Circulating misinformation or disinformation;Missing or incorrect attribution for sources of data;Biased results that do not represent diverse viewpoints;Imitating a person's likeness;Energy demand;Other (please specify):\",\n",
       "       \"Circulating misinformation or disinformation;Imitating a person's likeness;Energy demand;Other (please specify):\",\n",
       "       'Biased results that do not represent diverse viewpoints;Other (please specify):',\n",
       "       \"Missing or incorrect attribution for sources of data;Replacing jobs without options for new employment opportunities;Biased results that do not represent diverse viewpoints;Imitating a person's likeness\",\n",
       "       \"Circulating misinformation or disinformation;Missing or incorrect attribution for sources of data;Replacing jobs without options for new employment opportunities;Biased results that do not represent diverse viewpoints;Imitating a person's likeness;Energy demand;Other (please specify):\",\n",
       "       \"Circulating misinformation or disinformation;Missing or incorrect attribution for sources of data;Imitating a person's likeness;Energy demand;Other (please specify):\",\n",
       "       \"Missing or incorrect attribution for sources of data;Biased results that do not represent diverse viewpoints;Imitating a person's likeness\",\n",
       "       \"Circulating misinformation or disinformation;Missing or incorrect attribution for sources of data;Biased results that do not represent diverse viewpoints;Imitating a person's likeness;Other (please specify):\",\n",
       "       'Replacing jobs without options for new employment opportunities;Other (please specify):',\n",
       "       'Circulating misinformation or disinformation;Missing or incorrect attribution for sources of data;Other (please specify):',\n",
       "       \"Circulating misinformation or disinformation;Missing or incorrect attribution for sources of data;Replacing jobs without options for new employment opportunities;Biased results that do not represent diverse viewpoints;Imitating a person's likeness;Other (please specify):\",\n",
       "       \"Imitating a person's likeness;Energy demand;Other (please specify):\",\n",
       "       \"Missing or incorrect attribution for sources of data;Replacing jobs without options for new employment opportunities;Imitating a person's likeness;Energy demand\",\n",
       "       'Missing or incorrect attribution for sources of data;Replacing jobs without options for new employment opportunities;Other (please specify):',\n",
       "       'Circulating misinformation or disinformation;Missing or incorrect attribution for sources of data;Replacing jobs without options for new employment opportunities;Other (please specify):',\n",
       "       'Replacing jobs without options for new employment opportunities;Energy demand;Other (please specify):',\n",
       "       'Missing or incorrect attribution for sources of data;Energy demand;Other (please specify):',\n",
       "       'Circulating misinformation or disinformation;Replacing jobs without options for new employment opportunities;Other (please specify):',\n",
       "       \"Biased results that do not represent diverse viewpoints;Imitating a person's likeness;Energy demand\",\n",
       "       'Missing or incorrect attribution for sources of data;Biased results that do not represent diverse viewpoints;Energy demand;Other (please specify):',\n",
       "       'Biased results that do not represent diverse viewpoints;Energy demand;Other (please specify):',\n",
       "       \"Circulating misinformation or disinformation;Missing or incorrect attribution for sources of data;Imitating a person's likeness;Other (please specify):\",\n",
       "       'Missing or incorrect attribution for sources of data;Other (please specify):',\n",
       "       'Circulating misinformation or disinformation;Replacing jobs without options for new employment opportunities;Energy demand;Other (please specify):',\n",
       "       \"Replacing jobs without options for new employment opportunities;Biased results that do not represent diverse viewpoints;Imitating a person's likeness\",\n",
       "       \"Biased results that do not represent diverse viewpoints;Imitating a person's likeness\",\n",
       "       'Circulating misinformation or disinformation;Other (please specify):',\n",
       "       \"Imitating a person's likeness;Energy demand\",\n",
       "       'Missing or incorrect attribution for sources of data;Replacing jobs without options for new employment opportunities;Energy demand',\n",
       "       \"Missing or incorrect attribution for sources of data;Imitating a person's likeness;Other (please specify):\",\n",
       "       \"Circulating misinformation or disinformation;Biased results that do not represent diverse viewpoints;Imitating a person's likeness;Energy demand;Other (please specify):\",\n",
       "       \"Circulating misinformation or disinformation;Replacing jobs without options for new employment opportunities;Imitating a person's likeness;Energy demand;Other (please specify):\",\n",
       "       \"Circulating misinformation or disinformation;Replacing jobs without options for new employment opportunities;Imitating a person's likeness;Other (please specify):\",\n",
       "       'Circulating misinformation or disinformation;Missing or incorrect attribution for sources of data;Replacing jobs without options for new employment opportunities;Biased results that do not represent diverse viewpoints;Other (please specify):',\n",
       "       'Circulating misinformation or disinformation;Energy demand;Other (please specify):',\n",
       "       'Missing or incorrect attribution for sources of data;Replacing jobs without options for new employment opportunities;Biased results that do not represent diverse viewpoints;Energy demand;Other (please specify):',\n",
       "       'Missing or incorrect attribution for sources of data;Replacing jobs without options for new employment opportunities;Biased results that do not represent diverse viewpoints;Energy demand',\n",
       "       'Energy demand;Other (please specify):',\n",
       "       \"Missing or incorrect attribution for sources of data;Biased results that do not represent diverse viewpoints;Imitating a person's likeness;Energy demand\",\n",
       "       'Circulating misinformation or disinformation;Replacing jobs without options for new employment opportunities;Biased results that do not represent diverse viewpoints;Other (please specify):',\n",
       "       \"Replacing jobs without options for new employment opportunities;Biased results that do not represent diverse viewpoints;Imitating a person's likeness;Energy demand\",\n",
       "       'Missing or incorrect attribution for sources of data;Replacing jobs without options for new employment opportunities;Biased results that do not represent diverse viewpoints;Other (please specify):',\n",
       "       'Circulating misinformation or disinformation;Biased results that do not represent diverse viewpoints;Energy demand;Other (please specify):',\n",
       "       \"Circulating misinformation or disinformation;Missing or incorrect attribution for sources of data;Replacing jobs without options for new employment opportunities;Imitating a person's likeness;Energy demand;Other (please specify):\",\n",
       "       'Circulating misinformation or disinformation;Missing or incorrect attribution for sources of data;Replacing jobs without options for new employment opportunities;Biased results that do not represent diverse viewpoints;Energy demand;Other (please specify):',\n",
       "       \"Missing or incorrect attribution for sources of data;Replacing jobs without options for new employment opportunities;Imitating a person's likeness;Other (please specify):\",\n",
       "       \"Circulating misinformation or disinformation;Replacing jobs without options for new employment opportunities;Biased results that do not represent diverse viewpoints;Imitating a person's likeness;Energy demand;Other (please specify):\",\n",
       "       \"Circulating misinformation or disinformation;Biased results that do not represent diverse viewpoints;Imitating a person's likeness;Other (please specify):\",\n",
       "       'Circulating misinformation or disinformation;Missing or incorrect attribution for sources of data;Replacing jobs without options for new employment opportunities;Energy demand;Other (please specify):',\n",
       "       'Missing or incorrect attribution for sources of data;Biased results that do not represent diverse viewpoints;Other (please specify):',\n",
       "       'Circulating misinformation or disinformation;Replacing jobs without options for new employment opportunities;Biased results that do not represent diverse viewpoints;Energy demand;Other (please specify):',\n",
       "       \"Circulating misinformation or disinformation;Missing or incorrect attribution for sources of data;Replacing jobs without options for new employment opportunities;Imitating a person's likeness;Other (please specify):\",\n",
       "       'Replacing jobs without options for new employment opportunities;Biased results that do not represent diverse viewpoints;Other (please specify):',\n",
       "       \"Replacing jobs without options for new employment opportunities;Imitating a person's likeness;Other (please specify):\",\n",
       "       \"Biased results that do not represent diverse viewpoints;Imitating a person's likeness;Other (please specify):\",\n",
       "       \"Missing or incorrect attribution for sources of data;Replacing jobs without options for new employment opportunities;Imitating a person's likeness;Energy demand;Other (please specify):\",\n",
       "       \"Biased results that do not represent diverse viewpoints;Imitating a person's likeness;Energy demand;Other (please specify):\",\n",
       "       \"Missing or incorrect attribution for sources of data;Biased results that do not represent diverse viewpoints;Imitating a person's likeness;Energy demand;Other (please specify):\",\n",
       "       \"Missing or incorrect attribution for sources of data;Imitating a person's likeness;Energy demand;Other (please specify):\",\n",
       "       \"Replacing jobs without options for new employment opportunities;Biased results that do not represent diverse viewpoints;Imitating a person's likeness;Other (please specify):\",\n",
       "       \"Missing or incorrect attribution for sources of data;Biased results that do not represent diverse viewpoints;Imitating a person's likeness;Other (please specify):\",\n",
       "       \"Replacing jobs without options for new employment opportunities;Imitating a person's likeness;Energy demand;Other (please specify):\",\n",
       "       'Missing or incorrect attribution for sources of data;Replacing jobs without options for new employment opportunities;Energy demand;Other (please specify):',\n",
       "       \"Missing or incorrect attribution for sources of data;Replacing jobs without options for new employment opportunities;Biased results that do not represent diverse viewpoints;Imitating a person's likeness;Energy demand;Other (please specify):\"],\n",
       "      dtype=object)"
      ]
     },
     "execution_count": 117,
     "metadata": {},
     "output_type": "execute_result"
    }
   ],
   "source": [
    "df['AIEthics'].unique()"
   ]
  },
  {
   "cell_type": "code",
   "execution_count": 118,
   "metadata": {},
   "outputs": [
    {
     "data": {
      "text/plain": [
       "12147"
      ]
     },
     "execution_count": 118,
     "metadata": {},
     "output_type": "execute_result"
    }
   ],
   "source": [
    "df['AIEthics'].isnull().sum()"
   ]
  },
  {
   "cell_type": "code",
   "execution_count": 119,
   "metadata": {},
   "outputs": [],
   "source": [
    "df['AIEthics'].fillna('Unknown', inplace=True)"
   ]
  },
  {
   "cell_type": "markdown",
   "metadata": {},
   "source": [
    "### AIChallenges,What are the challenges to your company/whole team using AI code assistants or GenAI tools? Select all that apply."
   ]
  },
  {
   "cell_type": "code",
   "execution_count": 120,
   "metadata": {},
   "outputs": [
    {
     "data": {
      "text/plain": [
       "array(['AI tools lack context of codebase,  internal architecture, and/or company knowledge;Lack of proper training and education on new tools',\n",
       "       'Don’t trust the output or answers', nan,\n",
       "       'AI tools lack context of codebase,  internal architecture, and/or company knowledge;Lack of proper training and education on new tools;They create more work (more code/PRs to review, etc.)',\n",
       "       'Don’t trust the output or answers;Lack of executive buy-in;Not everyone uses them;They create more work (more code/PRs to review, etc.)',\n",
       "       'AI tools lack context of codebase,  internal architecture, and/or company knowledge;Lack of proper training and education on new tools;Not everyone uses them',\n",
       "       'Don’t trust the output or answers;AI tools lack context of codebase,  internal architecture, and/or company knowledge',\n",
       "       'Don’t trust the output or answers;AI tools lack context of codebase,  internal architecture, and/or company knowledge;Not everyone uses them;They create more work (more code/PRs to review, etc.)',\n",
       "       'AI tools lack context of codebase,  internal architecture, and/or company knowledge;Lack of proper training and education on new tools;Lack of executive buy-in',\n",
       "       'Don’t trust the output or answers;AI tools lack context of codebase,  internal architecture, and/or company knowledge;Not everyone uses them',\n",
       "       'AI tools lack context of codebase,  internal architecture, and/or company knowledge;Lack of proper training and education on new tools;We don’t have the right policies in place to reduce security risks',\n",
       "       'Don’t trust the output or answers;We don’t have the right policies in place to reduce security risks',\n",
       "       'Don’t trust the output or answers;AI tools lack context of codebase,  internal architecture, and/or company knowledge;We don’t have the right policies in place to reduce security risks;They create more work (more code/PRs to review, etc.)',\n",
       "       'Don’t trust the output or answers;AI tools lack context of codebase,  internal architecture, and/or company knowledge;Lack of proper training and education on new tools;We don’t have the right policies in place to reduce security risks',\n",
       "       'AI tools lack context of codebase,  internal architecture, and/or company knowledge;They create more work (more code/PRs to review, etc.)',\n",
       "       'Lack of proper training and education on new tools;Not everyone uses them',\n",
       "       'Lack of executive buy-in',\n",
       "       'Don’t trust the output or answers;AI tools lack context of codebase,  internal architecture, and/or company knowledge;Lack of proper training and education on new tools;Lack of executive buy-in',\n",
       "       'Don’t trust the output or answers;Not everyone uses them',\n",
       "       'Don’t trust the output or answers;AI tools lack context of codebase,  internal architecture, and/or company knowledge;They create more work (more code/PRs to review, etc.)',\n",
       "       'Don’t trust the output or answers;AI tools lack context of codebase,  internal architecture, and/or company knowledge;Lack of proper training and education on new tools;Not everyone uses them',\n",
       "       'AI tools lack context of codebase,  internal architecture, and/or company knowledge;Lack of proper training and education on new tools;Lack of executive buy-in;We don’t have the right policies in place to reduce security risks',\n",
       "       'They create more work (more code/PRs to review, etc.)',\n",
       "       'Don’t trust the output or answers;Lack of proper training and education on new tools;Lack of executive buy-in;Not everyone uses them',\n",
       "       'Don’t trust the output or answers;AI tools lack context of codebase,  internal architecture, and/or company knowledge;Lack of proper training and education on new tools',\n",
       "       'Don’t trust the output or answers;AI tools lack context of codebase,  internal architecture, and/or company knowledge;We don’t have the right policies in place to reduce security risks',\n",
       "       'AI tools lack context of codebase,  internal architecture, and/or company knowledge',\n",
       "       'Don’t trust the output or answers;AI tools lack context of codebase,  internal architecture, and/or company knowledge;Lack of proper training and education on new tools;We don’t have the right policies in place to reduce security risks;They create more work (more code/PRs to review, etc.)',\n",
       "       'Lack of proper training and education on new tools;Lack of executive buy-in;Not everyone uses them;We don’t have the right policies in place to reduce security risks',\n",
       "       'AI tools lack context of codebase,  internal architecture, and/or company knowledge;Lack of proper training and education on new tools;Lack of executive buy-in;Not everyone uses them;We don’t have the right policies in place to reduce security risks',\n",
       "       'Don’t trust the output or answers;Lack of executive buy-in',\n",
       "       'Don’t trust the output or answers;Lack of proper training and education on new tools;We don’t have the right policies in place to reduce security risks;They create more work (more code/PRs to review, etc.)',\n",
       "       'AI tools lack context of codebase,  internal architecture, and/or company knowledge;We don’t have the right policies in place to reduce security risks',\n",
       "       'Don’t trust the output or answers;AI tools lack context of codebase,  internal architecture, and/or company knowledge;We don’t have the right policies in place to reduce security risks;Other (please specify):;They create more work (more code/PRs to review, etc.)',\n",
       "       'Don’t trust the output or answers;AI tools lack context of codebase,  internal architecture, and/or company knowledge;Lack of proper training and education on new tools;Lack of executive buy-in;Not everyone uses them;We don’t have the right policies in place to reduce security risks',\n",
       "       'Don’t trust the output or answers;AI tools lack context of codebase,  internal architecture, and/or company knowledge;Not everyone uses them;We don’t have the right policies in place to reduce security risks',\n",
       "       'Lack of proper training and education on new tools;We don’t have the right policies in place to reduce security risks',\n",
       "       'AI tools lack context of codebase,  internal architecture, and/or company knowledge;We don’t have the right policies in place to reduce security risks;Other (please specify):',\n",
       "       'Don’t trust the output or answers;We don’t have the right policies in place to reduce security risks;Other (please specify):',\n",
       "       'Not everyone uses them;We don’t have the right policies in place to reduce security risks',\n",
       "       'Don’t trust the output or answers;AI tools lack context of codebase,  internal architecture, and/or company knowledge;Other (please specify):;They create more work (more code/PRs to review, etc.)',\n",
       "       'Don’t trust the output or answers;AI tools lack context of codebase,  internal architecture, and/or company knowledge;Lack of proper training and education on new tools;Lack of executive buy-in;Not everyone uses them;We don’t have the right policies in place to reduce security risks;They create more work (more code/PRs to review, etc.)',\n",
       "       'Don’t trust the output or answers;Lack of proper training and education on new tools;We don’t have the right policies in place to reduce security risks',\n",
       "       'Lack of executive buy-in;We don’t have the right policies in place to reduce security risks',\n",
       "       'AI tools lack context of codebase,  internal architecture, and/or company knowledge;Lack of executive buy-in',\n",
       "       'Don’t trust the output or answers;Lack of proper training and education on new tools;Other (please specify):',\n",
       "       'We don’t have the right policies in place to reduce security risks',\n",
       "       'Don’t trust the output or answers;AI tools lack context of codebase,  internal architecture, and/or company knowledge;Lack of proper training and education on new tools;Lack of executive buy-in;We don’t have the right policies in place to reduce security risks;They create more work (more code/PRs to review, etc.)',\n",
       "       'Don’t trust the output or answers;Lack of proper training and education on new tools;Not everyone uses them;We don’t have the right policies in place to reduce security risks',\n",
       "       'Don’t trust the output or answers;AI tools lack context of codebase,  internal architecture, and/or company knowledge;Lack of proper training and education on new tools;They create more work (more code/PRs to review, etc.)',\n",
       "       'AI tools lack context of codebase,  internal architecture, and/or company knowledge;We don’t have the right policies in place to reduce security risks;They create more work (more code/PRs to review, etc.)',\n",
       "       'Don’t trust the output or answers;Not everyone uses them;We don’t have the right policies in place to reduce security risks',\n",
       "       'Not everyone uses them',\n",
       "       'Don’t trust the output or answers;AI tools lack context of codebase,  internal architecture, and/or company knowledge;We don’t have the right policies in place to reduce security risks;Other (please specify):',\n",
       "       'AI tools lack context of codebase,  internal architecture, and/or company knowledge;Lack of executive buy-in;Not everyone uses them;We don’t have the right policies in place to reduce security risks',\n",
       "       'AI tools lack context of codebase,  internal architecture, and/or company knowledge;Not everyone uses them;We don’t have the right policies in place to reduce security risks',\n",
       "       'Don’t trust the output or answers;They create more work (more code/PRs to review, etc.)',\n",
       "       'Lack of proper training and education on new tools',\n",
       "       'Don’t trust the output or answers;Lack of proper training and education on new tools;Lack of executive buy-in;We don’t have the right policies in place to reduce security risks',\n",
       "       'Don’t trust the output or answers;Lack of proper training and education on new tools;Not everyone uses them',\n",
       "       'AI tools lack context of codebase,  internal architecture, and/or company knowledge;Lack of executive buy-in;Not everyone uses them',\n",
       "       'Don’t trust the output or answers;AI tools lack context of codebase,  internal architecture, and/or company knowledge;Not everyone uses them;We don’t have the right policies in place to reduce security risks;Other (please specify):',\n",
       "       'Other (please specify):',\n",
       "       'AI tools lack context of codebase,  internal architecture, and/or company knowledge;Not everyone uses them',\n",
       "       'Lack of executive buy-in;Not everyone uses them;We don’t have the right policies in place to reduce security risks',\n",
       "       'Don’t trust the output or answers;AI tools lack context of codebase,  internal architecture, and/or company knowledge;Lack of executive buy-in;We don’t have the right policies in place to reduce security risks',\n",
       "       'Don’t trust the output or answers;Lack of executive buy-in;We don’t have the right policies in place to reduce security risks',\n",
       "       'Don’t trust the output or answers;AI tools lack context of codebase,  internal architecture, and/or company knowledge;Lack of proper training and education on new tools;Other (please specify):;They create more work (more code/PRs to review, etc.)',\n",
       "       'Don’t trust the output or answers;AI tools lack context of codebase,  internal architecture, and/or company knowledge;Lack of proper training and education on new tools;Not everyone uses them;We don’t have the right policies in place to reduce security risks',\n",
       "       'Don’t trust the output or answers;AI tools lack context of codebase,  internal architecture, and/or company knowledge;Lack of proper training and education on new tools;Not everyone uses them;They create more work (more code/PRs to review, etc.)',\n",
       "       'Don’t trust the output or answers;AI tools lack context of codebase,  internal architecture, and/or company knowledge;Other (please specify):',\n",
       "       'Lack of proper training and education on new tools;Lack of executive buy-in;We don’t have the right policies in place to reduce security risks',\n",
       "       'Don’t trust the output or answers;Lack of proper training and education on new tools',\n",
       "       'Lack of proper training and education on new tools;Lack of executive buy-in;Not everyone uses them',\n",
       "       'Lack of executive buy-in;Not everyone uses them',\n",
       "       'Don’t trust the output or answers;AI tools lack context of codebase,  internal architecture, and/or company knowledge;Lack of proper training and education on new tools;Other (please specify):',\n",
       "       'Don’t trust the output or answers;AI tools lack context of codebase,  internal architecture, and/or company knowledge;Lack of executive buy-in;Not everyone uses them;We don’t have the right policies in place to reduce security risks',\n",
       "       'Not everyone uses them;They create more work (more code/PRs to review, etc.)',\n",
       "       'Lack of proper training and education on new tools;Lack of executive buy-in',\n",
       "       'Don’t trust the output or answers;Lack of proper training and education on new tools;We don’t have the right policies in place to reduce security risks;Other (please specify):',\n",
       "       'Lack of proper training and education on new tools;Not everyone uses them;We don’t have the right policies in place to reduce security risks',\n",
       "       'AI tools lack context of codebase,  internal architecture, and/or company knowledge;Other (please specify):',\n",
       "       'AI tools lack context of codebase,  internal architecture, and/or company knowledge;Other (please specify):;They create more work (more code/PRs to review, etc.)',\n",
       "       'Lack of proper training and education on new tools;Lack of executive buy-in;We don’t have the right policies in place to reduce security risks;Other (please specify):;They create more work (more code/PRs to review, etc.)',\n",
       "       'Don’t trust the output or answers;Lack of proper training and education on new tools;They create more work (more code/PRs to review, etc.)',\n",
       "       'Don’t trust the output or answers;Lack of executive buy-in;We don’t have the right policies in place to reduce security risks;They create more work (more code/PRs to review, etc.)',\n",
       "       'Don’t trust the output or answers;Lack of proper training and education on new tools;Lack of executive buy-in;We don’t have the right policies in place to reduce security risks;They create more work (more code/PRs to review, etc.)',\n",
       "       'Lack of executive buy-in;Not everyone uses them;We don’t have the right policies in place to reduce security risks;They create more work (more code/PRs to review, etc.)',\n",
       "       'Don’t trust the output or answers;Other (please specify):',\n",
       "       'We don’t have the right policies in place to reduce security risks;They create more work (more code/PRs to review, etc.)',\n",
       "       'Not everyone uses them;Other (please specify):',\n",
       "       'Don’t trust the output or answers;AI tools lack context of codebase,  internal architecture, and/or company knowledge;Lack of proper training and education on new tools;Lack of executive buy-in;Not everyone uses them;We don’t have the right policies in place to reduce security risks;Other (please specify):;They create more work (more code/PRs to review, etc.)',\n",
       "       'Lack of executive buy-in;Not everyone uses them;Other (please specify):',\n",
       "       'AI tools lack context of codebase,  internal architecture, and/or company knowledge;Lack of proper training and education on new tools;Other (please specify):',\n",
       "       'Don’t trust the output or answers;AI tools lack context of codebase,  internal architecture, and/or company knowledge;Lack of proper training and education on new tools;Not everyone uses them;We don’t have the right policies in place to reduce security risks;They create more work (more code/PRs to review, etc.)',\n",
       "       'Don’t trust the output or answers;Not everyone uses them;We don’t have the right policies in place to reduce security risks;They create more work (more code/PRs to review, etc.)',\n",
       "       'Don’t trust the output or answers;Not everyone uses them;They create more work (more code/PRs to review, etc.)',\n",
       "       'Don’t trust the output or answers;Not everyone uses them;Other (please specify):',\n",
       "       'AI tools lack context of codebase,  internal architecture, and/or company knowledge;Lack of proper training and education on new tools;We don’t have the right policies in place to reduce security risks;They create more work (more code/PRs to review, etc.)',\n",
       "       'Don’t trust the output or answers;AI tools lack context of codebase,  internal architecture, and/or company knowledge;Lack of proper training and education on new tools;Lack of executive buy-in;We don’t have the right policies in place to reduce security risks',\n",
       "       'Don’t trust the output or answers;Lack of executive buy-in;Other (please specify):',\n",
       "       'Don’t trust the output or answers;We don’t have the right policies in place to reduce security risks;They create more work (more code/PRs to review, etc.)',\n",
       "       'AI tools lack context of codebase,  internal architecture, and/or company knowledge;Not everyone uses them;We don’t have the right policies in place to reduce security risks;Other (please specify):;They create more work (more code/PRs to review, etc.)',\n",
       "       'AI tools lack context of codebase,  internal architecture, and/or company knowledge;Lack of proper training and education on new tools;Not everyone uses them;We don’t have the right policies in place to reduce security risks',\n",
       "       'AI tools lack context of codebase,  internal architecture, and/or company knowledge;Lack of executive buy-in;We don’t have the right policies in place to reduce security risks',\n",
       "       'Don’t trust the output or answers;Lack of executive buy-in;Not everyone uses them;We don’t have the right policies in place to reduce security risks;They create more work (more code/PRs to review, etc.)',\n",
       "       'Don’t trust the output or answers;Lack of proper training and education on new tools;Lack of executive buy-in',\n",
       "       'AI tools lack context of codebase,  internal architecture, and/or company knowledge;Lack of proper training and education on new tools;Not everyone uses them;We don’t have the right policies in place to reduce security risks;They create more work (more code/PRs to review, etc.)',\n",
       "       'Don’t trust the output or answers;AI tools lack context of codebase,  internal architecture, and/or company knowledge;Lack of proper training and education on new tools;We don’t have the right policies in place to reduce security risks;Other (please specify):',\n",
       "       'AI tools lack context of codebase,  internal architecture, and/or company knowledge;Lack of executive buy-in;Other (please specify):',\n",
       "       'Lack of proper training and education on new tools;Not everyone uses them;We don’t have the right policies in place to reduce security risks;Other (please specify):',\n",
       "       'Not everyone uses them;Other (please specify):;They create more work (more code/PRs to review, etc.)',\n",
       "       'Don’t trust the output or answers;AI tools lack context of codebase,  internal architecture, and/or company knowledge;Lack of executive buy-in',\n",
       "       'Don’t trust the output or answers;Lack of proper training and education on new tools;Lack of executive buy-in;Not everyone uses them;We don’t have the right policies in place to reduce security risks;Other (please specify):',\n",
       "       'Don’t trust the output or answers;AI tools lack context of codebase,  internal architecture, and/or company knowledge;Lack of proper training and education on new tools;We don’t have the right policies in place to reduce security risks;Other (please specify):;They create more work (more code/PRs to review, etc.)',\n",
       "       'Don’t trust the output or answers;AI tools lack context of codebase,  internal architecture, and/or company knowledge;Lack of executive buy-in;Not everyone uses them',\n",
       "       'Don’t trust the output or answers;Lack of proper training and education on new tools;Lack of executive buy-in;Not everyone uses them;We don’t have the right policies in place to reduce security risks',\n",
       "       'Don’t trust the output or answers;AI tools lack context of codebase,  internal architecture, and/or company knowledge;Lack of proper training and education on new tools;Lack of executive buy-in;They create more work (more code/PRs to review, etc.)',\n",
       "       'Don’t trust the output or answers;AI tools lack context of codebase,  internal architecture, and/or company knowledge;Not everyone uses them;We don’t have the right policies in place to reduce security risks;They create more work (more code/PRs to review, etc.)',\n",
       "       'Don’t trust the output or answers;AI tools lack context of codebase,  internal architecture, and/or company knowledge;Lack of proper training and education on new tools;Lack of executive buy-in;Not everyone uses them',\n",
       "       'Don’t trust the output or answers;Lack of proper training and education on new tools;Lack of executive buy-in;Not everyone uses them;Other (please specify):',\n",
       "       'Don’t trust the output or answers;Lack of executive buy-in;Not everyone uses them',\n",
       "       'AI tools lack context of codebase,  internal architecture, and/or company knowledge;Not everyone uses them;They create more work (more code/PRs to review, etc.)',\n",
       "       'Lack of proper training and education on new tools;Other (please specify):;They create more work (more code/PRs to review, etc.)',\n",
       "       'AI tools lack context of codebase,  internal architecture, and/or company knowledge;Lack of proper training and education on new tools;Lack of executive buy-in;Not everyone uses them',\n",
       "       'Lack of proper training and education on new tools;Not everyone uses them;Other (please specify):',\n",
       "       'Don’t trust the output or answers;AI tools lack context of codebase,  internal architecture, and/or company knowledge;Lack of executive buy-in;We don’t have the right policies in place to reduce security risks;They create more work (more code/PRs to review, etc.)',\n",
       "       'Don’t trust the output or answers;Lack of proper training and education on new tools;Lack of executive buy-in;They create more work (more code/PRs to review, etc.)',\n",
       "       'AI tools lack context of codebase,  internal architecture, and/or company knowledge;Lack of proper training and education on new tools;Lack of executive buy-in;Not everyone uses them;We don’t have the right policies in place to reduce security risks;They create more work (more code/PRs to review, etc.)',\n",
       "       'Lack of executive buy-in;Other (please specify):',\n",
       "       'Don’t trust the output or answers;AI tools lack context of codebase,  internal architecture, and/or company knowledge;Lack of proper training and education on new tools;Lack of executive buy-in;Other (please specify):',\n",
       "       'Lack of proper training and education on new tools;Not everyone uses them;We don’t have the right policies in place to reduce security risks;They create more work (more code/PRs to review, etc.)',\n",
       "       'AI tools lack context of codebase,  internal architecture, and/or company knowledge;Lack of proper training and education on new tools;Not everyone uses them;They create more work (more code/PRs to review, etc.)',\n",
       "       'Don’t trust the output or answers;Lack of executive buy-in;Not everyone uses them;We don’t have the right policies in place to reduce security risks',\n",
       "       'Lack of executive buy-in;We don’t have the right policies in place to reduce security risks;Other (please specify):',\n",
       "       'Don’t trust the output or answers;AI tools lack context of codebase,  internal architecture, and/or company knowledge;Lack of proper training and education on new tools;Lack of executive buy-in;We don’t have the right policies in place to reduce security risks;Other (please specify):',\n",
       "       'Lack of proper training and education on new tools;We don’t have the right policies in place to reduce security risks;Other (please specify):',\n",
       "       'We don’t have the right policies in place to reduce security risks;Other (please specify):',\n",
       "       'AI tools lack context of codebase,  internal architecture, and/or company knowledge;Not everyone uses them;Other (please specify):',\n",
       "       'Don’t trust the output or answers;AI tools lack context of codebase,  internal architecture, and/or company knowledge;Lack of proper training and education on new tools;Not everyone uses them;We don’t have the right policies in place to reduce security risks;Other (please specify):',\n",
       "       'Don’t trust the output or answers;AI tools lack context of codebase,  internal architecture, and/or company knowledge;Lack of executive buy-in;Not everyone uses them;They create more work (more code/PRs to review, etc.)',\n",
       "       'Don’t trust the output or answers;AI tools lack context of codebase,  internal architecture, and/or company knowledge;Lack of proper training and education on new tools;Lack of executive buy-in;Not everyone uses them;We don’t have the right policies in place to reduce security risks;Other (please specify):',\n",
       "       'Don’t trust the output or answers;We don’t have the right policies in place to reduce security risks;Other (please specify):;They create more work (more code/PRs to review, etc.)',\n",
       "       'Not everyone uses them;We don’t have the right policies in place to reduce security risks;They create more work (more code/PRs to review, etc.)',\n",
       "       'Lack of proper training and education on new tools;We don’t have the right policies in place to reduce security risks;They create more work (more code/PRs to review, etc.)',\n",
       "       'Don’t trust the output or answers;Other (please specify):;They create more work (more code/PRs to review, etc.)',\n",
       "       'Don’t trust the output or answers;AI tools lack context of codebase,  internal architecture, and/or company knowledge;Lack of proper training and education on new tools;Not everyone uses them;Other (please specify):',\n",
       "       'Don’t trust the output or answers;Lack of executive buy-in;We don’t have the right policies in place to reduce security risks;Other (please specify):',\n",
       "       'Lack of proper training and education on new tools;Lack of executive buy-in;Not everyone uses them;They create more work (more code/PRs to review, etc.)',\n",
       "       'Don’t trust the output or answers;Lack of proper training and education on new tools;Not everyone uses them;We don’t have the right policies in place to reduce security risks;They create more work (more code/PRs to review, etc.)',\n",
       "       'Lack of proper training and education on new tools;Lack of executive buy-in;Not everyone uses them;Other (please specify):',\n",
       "       'Lack of proper training and education on new tools;Other (please specify):',\n",
       "       'Lack of executive buy-in;Not everyone uses them;They create more work (more code/PRs to review, etc.)',\n",
       "       'Don’t trust the output or answers;AI tools lack context of codebase,  internal architecture, and/or company knowledge;Lack of executive buy-in;They create more work (more code/PRs to review, etc.)',\n",
       "       'Don’t trust the output or answers;AI tools lack context of codebase,  internal architecture, and/or company knowledge;Lack of proper training and education on new tools;Lack of executive buy-in;Not everyone uses them;They create more work (more code/PRs to review, etc.)',\n",
       "       'AI tools lack context of codebase,  internal architecture, and/or company knowledge;Lack of proper training and education on new tools;Lack of executive buy-in;They create more work (more code/PRs to review, etc.)',\n",
       "       'Don’t trust the output or answers;AI tools lack context of codebase,  internal architecture, and/or company knowledge;Not everyone uses them;Other (please specify):',\n",
       "       'AI tools lack context of codebase,  internal architecture, and/or company knowledge;Not everyone uses them;We don’t have the right policies in place to reduce security risks;Other (please specify):',\n",
       "       'Lack of proper training and education on new tools;Not everyone uses them;They create more work (more code/PRs to review, etc.)',\n",
       "       'AI tools lack context of codebase,  internal architecture, and/or company knowledge;We don’t have the right policies in place to reduce security risks;Other (please specify):;They create more work (more code/PRs to review, etc.)',\n",
       "       'Don’t trust the output or answers;AI tools lack context of codebase,  internal architecture, and/or company knowledge;Lack of executive buy-in;We don’t have the right policies in place to reduce security risks;Other (please specify):',\n",
       "       'Don’t trust the output or answers;AI tools lack context of codebase,  internal architecture, and/or company knowledge;Lack of executive buy-in;Other (please specify):',\n",
       "       'Lack of executive buy-in;They create more work (more code/PRs to review, etc.)',\n",
       "       'AI tools lack context of codebase,  internal architecture, and/or company knowledge;Not everyone uses them;We don’t have the right policies in place to reduce security risks;They create more work (more code/PRs to review, etc.)',\n",
       "       'Lack of executive buy-in;We don’t have the right policies in place to reduce security risks;They create more work (more code/PRs to review, etc.)',\n",
       "       'AI tools lack context of codebase,  internal architecture, and/or company knowledge;Lack of proper training and education on new tools;We don’t have the right policies in place to reduce security risks;Other (please specify):',\n",
       "       'Lack of proper training and education on new tools;They create more work (more code/PRs to review, etc.)',\n",
       "       'Don’t trust the output or answers;Not everyone uses them;We don’t have the right policies in place to reduce security risks;Other (please specify):;They create more work (more code/PRs to review, etc.)',\n",
       "       'AI tools lack context of codebase,  internal architecture, and/or company knowledge;Not everyone uses them;Other (please specify):;They create more work (more code/PRs to review, etc.)',\n",
       "       'Don’t trust the output or answers;Lack of proper training and education on new tools;Not everyone uses them;They create more work (more code/PRs to review, etc.)',\n",
       "       'AI tools lack context of codebase,  internal architecture, and/or company knowledge;Lack of proper training and education on new tools;We don’t have the right policies in place to reduce security risks;Other (please specify):;They create more work (more code/PRs to review, etc.)',\n",
       "       'Lack of proper training and education on new tools;Lack of executive buy-in;Not everyone uses them;We don’t have the right policies in place to reduce security risks;Other (please specify):',\n",
       "       'Don’t trust the output or answers;Lack of proper training and education on new tools;Lack of executive buy-in;Not everyone uses them;They create more work (more code/PRs to review, etc.)',\n",
       "       'Don’t trust the output or answers;Lack of proper training and education on new tools;Not everyone uses them;Other (please specify):',\n",
       "       'Don’t trust the output or answers;Lack of proper training and education on new tools;Lack of executive buy-in;Other (please specify):',\n",
       "       'Not everyone uses them;We don’t have the right policies in place to reduce security risks;Other (please specify):',\n",
       "       'Lack of proper training and education on new tools;Lack of executive buy-in;We don’t have the right policies in place to reduce security risks;Other (please specify):',\n",
       "       'Don’t trust the output or answers;AI tools lack context of codebase,  internal architecture, and/or company knowledge;Lack of proper training and education on new tools;Not everyone uses them;We don’t have the right policies in place to reduce security risks;Other (please specify):;They create more work (more code/PRs to review, etc.)',\n",
       "       'AI tools lack context of codebase,  internal architecture, and/or company knowledge;Lack of executive buy-in;They create more work (more code/PRs to review, etc.)',\n",
       "       'Lack of proper training and education on new tools;Lack of executive buy-in;They create more work (more code/PRs to review, etc.)',\n",
       "       'Don’t trust the output or answers;Lack of proper training and education on new tools;Lack of executive buy-in;We don’t have the right policies in place to reduce security risks;Other (please specify):',\n",
       "       'AI tools lack context of codebase,  internal architecture, and/or company knowledge;Lack of proper training and education on new tools;Lack of executive buy-in;Not everyone uses them;They create more work (more code/PRs to review, etc.)',\n",
       "       'Don’t trust the output or answers;AI tools lack context of codebase,  internal architecture, and/or company knowledge;Lack of proper training and education on new tools;Lack of executive buy-in;Not everyone uses them;Other (please specify):',\n",
       "       'AI tools lack context of codebase,  internal architecture, and/or company knowledge;Lack of proper training and education on new tools;Not everyone uses them;Other (please specify):',\n",
       "       'Don’t trust the output or answers;AI tools lack context of codebase,  internal architecture, and/or company knowledge;Lack of executive buy-in;Not everyone uses them;We don’t have the right policies in place to reduce security risks;Other (please specify):',\n",
       "       'AI tools lack context of codebase,  internal architecture, and/or company knowledge;Lack of executive buy-in;Not everyone uses them;We don’t have the right policies in place to reduce security risks;Other (please specify):',\n",
       "       'Lack of proper training and education on new tools;Lack of executive buy-in;Not everyone uses them;We don’t have the right policies in place to reduce security risks;They create more work (more code/PRs to review, etc.)',\n",
       "       'AI tools lack context of codebase,  internal architecture, and/or company knowledge;Lack of proper training and education on new tools;Lack of executive buy-in;Not everyone uses them;Other (please specify):;They create more work (more code/PRs to review, etc.)',\n",
       "       'Don’t trust the output or answers;Lack of executive buy-in;They create more work (more code/PRs to review, etc.)',\n",
       "       'Don’t trust the output or answers;Lack of proper training and education on new tools;We don’t have the right policies in place to reduce security risks;Other (please specify):;They create more work (more code/PRs to review, etc.)',\n",
       "       'Don’t trust the output or answers;Not everyone uses them;We don’t have the right policies in place to reduce security risks;Other (please specify):',\n",
       "       'Don’t trust the output or answers;AI tools lack context of codebase,  internal architecture, and/or company knowledge;Lack of executive buy-in;Not everyone uses them;We don’t have the right policies in place to reduce security risks;They create more work (more code/PRs to review, etc.)',\n",
       "       'AI tools lack context of codebase,  internal architecture, and/or company knowledge;Lack of proper training and education on new tools;Not everyone uses them;We don’t have the right policies in place to reduce security risks;Other (please specify):',\n",
       "       'AI tools lack context of codebase,  internal architecture, and/or company knowledge;Lack of executive buy-in;We don’t have the right policies in place to reduce security risks;They create more work (more code/PRs to review, etc.)',\n",
       "       'Don’t trust the output or answers;Not everyone uses them;Other (please specify):;They create more work (more code/PRs to review, etc.)',\n",
       "       'AI tools lack context of codebase,  internal architecture, and/or company knowledge;Lack of executive buy-in;Not everyone uses them;We don’t have the right policies in place to reduce security risks;They create more work (more code/PRs to review, etc.)',\n",
       "       'AI tools lack context of codebase,  internal architecture, and/or company knowledge;Lack of proper training and education on new tools;Lack of executive buy-in;We don’t have the right policies in place to reduce security risks;They create more work (more code/PRs to review, etc.)',\n",
       "       'AI tools lack context of codebase,  internal architecture, and/or company knowledge;Lack of proper training and education on new tools;Lack of executive buy-in;We don’t have the right policies in place to reduce security risks;Other (please specify):',\n",
       "       'AI tools lack context of codebase,  internal architecture, and/or company knowledge;Lack of proper training and education on new tools;Not everyone uses them;We don’t have the right policies in place to reduce security risks;Other (please specify):;They create more work (more code/PRs to review, etc.)',\n",
       "       'AI tools lack context of codebase,  internal architecture, and/or company knowledge;Lack of executive buy-in;We don’t have the right policies in place to reduce security risks;Other (please specify):',\n",
       "       'Don’t trust the output or answers;Lack of executive buy-in;Not everyone uses them;Other (please specify):',\n",
       "       'Other (please specify):;They create more work (more code/PRs to review, etc.)',\n",
       "       'Don’t trust the output or answers;Lack of proper training and education on new tools;Lack of executive buy-in;Not everyone uses them;We don’t have the right policies in place to reduce security risks;They create more work (more code/PRs to review, etc.)',\n",
       "       'Lack of executive buy-in;Not everyone uses them;We don’t have the right policies in place to reduce security risks;Other (please specify):',\n",
       "       'Don’t trust the output or answers;AI tools lack context of codebase,  internal architecture, and/or company knowledge;Not everyone uses them;We don’t have the right policies in place to reduce security risks;Other (please specify):;They create more work (more code/PRs to review, etc.)',\n",
       "       'Don’t trust the output or answers;AI tools lack context of codebase,  internal architecture, and/or company knowledge;Lack of proper training and education on new tools;Lack of executive buy-in;Not everyone uses them;Other (please specify):;They create more work (more code/PRs to review, etc.)',\n",
       "       'AI tools lack context of codebase,  internal architecture, and/or company knowledge;Lack of proper training and education on new tools;Lack of executive buy-in;Other (please specify):',\n",
       "       'We don’t have the right policies in place to reduce security risks;Other (please specify):;They create more work (more code/PRs to review, etc.)',\n",
       "       'Lack of proper training and education on new tools;Lack of executive buy-in;We don’t have the right policies in place to reduce security risks;They create more work (more code/PRs to review, etc.)',\n",
       "       'Don’t trust the output or answers;AI tools lack context of codebase,  internal architecture, and/or company knowledge;Lack of executive buy-in;Not everyone uses them;We don’t have the right policies in place to reduce security risks;Other (please specify):;They create more work (more code/PRs to review, etc.)',\n",
       "       'AI tools lack context of codebase,  internal architecture, and/or company knowledge;Lack of executive buy-in;Not everyone uses them;Other (please specify):',\n",
       "       'AI tools lack context of codebase,  internal architecture, and/or company knowledge;Lack of proper training and education on new tools;Lack of executive buy-in;Not everyone uses them;We don’t have the right policies in place to reduce security risks;Other (please specify):',\n",
       "       'Don’t trust the output or answers;AI tools lack context of codebase,  internal architecture, and/or company knowledge;Lack of executive buy-in;Not everyone uses them;Other (please specify):',\n",
       "       'AI tools lack context of codebase,  internal architecture, and/or company knowledge;Lack of executive buy-in;Not everyone uses them;They create more work (more code/PRs to review, etc.)',\n",
       "       'Don’t trust the output or answers;AI tools lack context of codebase,  internal architecture, and/or company knowledge;Not everyone uses them;Other (please specify):;They create more work (more code/PRs to review, etc.)',\n",
       "       'AI tools lack context of codebase,  internal architecture, and/or company knowledge;Lack of proper training and education on new tools;Lack of executive buy-in;Not everyone uses them;Other (please specify):',\n",
       "       'Lack of proper training and education on new tools;Lack of executive buy-in;Other (please specify):',\n",
       "       'Don’t trust the output or answers;Lack of proper training and education on new tools;Not everyone uses them;We don’t have the right policies in place to reduce security risks;Other (please specify):',\n",
       "       'AI tools lack context of codebase,  internal architecture, and/or company knowledge;Lack of proper training and education on new tools;Not everyone uses them;Other (please specify):;They create more work (more code/PRs to review, etc.)',\n",
       "       'AI tools lack context of codebase,  internal architecture, and/or company knowledge;Lack of proper training and education on new tools;Other (please specify):;They create more work (more code/PRs to review, etc.)',\n",
       "       'Don’t trust the output or answers;Lack of proper training and education on new tools;Other (please specify):;They create more work (more code/PRs to review, etc.)',\n",
       "       'Don’t trust the output or answers;AI tools lack context of codebase,  internal architecture, and/or company knowledge;Lack of proper training and education on new tools;Lack of executive buy-in;We don’t have the right policies in place to reduce security risks;Other (please specify):;They create more work (more code/PRs to review, etc.)',\n",
       "       'Don’t trust the output or answers;Lack of executive buy-in;Other (please specify):;They create more work (more code/PRs to review, etc.)',\n",
       "       'Lack of executive buy-in;Not everyone uses them;We don’t have the right policies in place to reduce security risks;Other (please specify):;They create more work (more code/PRs to review, etc.)',\n",
       "       'Don’t trust the output or answers;AI tools lack context of codebase,  internal architecture, and/or company knowledge;Lack of proper training and education on new tools;Lack of executive buy-in;Other (please specify):;They create more work (more code/PRs to review, etc.)',\n",
       "       'Don’t trust the output or answers;Lack of proper training and education on new tools;Not everyone uses them;We don’t have the right policies in place to reduce security risks;Other (please specify):;They create more work (more code/PRs to review, etc.)',\n",
       "       'Lack of proper training and education on new tools;We don’t have the right policies in place to reduce security risks;Other (please specify):;They create more work (more code/PRs to review, etc.)',\n",
       "       'Not everyone uses them;We don’t have the right policies in place to reduce security risks;Other (please specify):;They create more work (more code/PRs to review, etc.)',\n",
       "       'Don’t trust the output or answers;Lack of proper training and education on new tools;Lack of executive buy-in;Other (please specify):;They create more work (more code/PRs to review, etc.)'],\n",
       "      dtype=object)"
      ]
     },
     "execution_count": 120,
     "metadata": {},
     "output_type": "execute_result"
    }
   ],
   "source": [
    "df['AIChallenges'].unique()"
   ]
  },
  {
   "cell_type": "code",
   "execution_count": 121,
   "metadata": {},
   "outputs": [
    {
     "data": {
      "text/plain": [
       "13999"
      ]
     },
     "execution_count": 121,
     "metadata": {},
     "output_type": "execute_result"
    }
   ],
   "source": [
    "df['AIChallenges'].isnull().sum()"
   ]
  },
  {
   "cell_type": "code",
   "execution_count": 122,
   "metadata": {},
   "outputs": [],
   "source": [
    "df['AIChallenges'].fillna('Unknown', inplace=True)"
   ]
  },
  {
   "cell_type": "code",
   "execution_count": 123,
   "metadata": {},
   "outputs": [],
   "source": [
    "cols = [\n",
    "    \"ResponseId\", \"Age\", \"EdLevel\", \"YearsCode\", \"YearsCodePro\", \"WorkExp\", \"Country\", \"JobSat\", \"MainBranch\", \"Employment\", \"RemoteWork\", \n",
    "    \"CompTotalUSD\", \"DevType\", \"LanguageHaveWorkedWith\", \"LanguageWantToWorkWith\", \"PlatformHaveWorkedWith\", \"PlatformWantToWorkWith\", \n",
    "    \"OrgSize\", \"PurchaseInfluence\", \"BuyNewTool\", \"TimeSearching\", \"TimeAnswering\", \"AISelect\", \"AISent\", \"AIBen\", \"AIAcc\", \"AIComplex\", \n",
    "    \"AIToolCurrently Using\", \"AIToolInterested in Using\", \"AIToolNot interested in Using\", \"AIThreat\", \"AIEthics\", \"AIChallenges\",\n",
    "]\n",
    "\n",
    "df_clean = df[cols].copy()"
   ]
  },
  {
   "cell_type": "code",
   "execution_count": 124,
   "metadata": {},
   "outputs": [
    {
     "data": {
      "text/html": [
       "<div>\n",
       "<style scoped>\n",
       "    .dataframe tbody tr th:only-of-type {\n",
       "        vertical-align: middle;\n",
       "    }\n",
       "\n",
       "    .dataframe tbody tr th {\n",
       "        vertical-align: top;\n",
       "    }\n",
       "\n",
       "    .dataframe thead th {\n",
       "        text-align: right;\n",
       "    }\n",
       "</style>\n",
       "<table border=\"1\" class=\"dataframe\">\n",
       "  <thead>\n",
       "    <tr style=\"text-align: right;\">\n",
       "      <th></th>\n",
       "      <th>ResponseId</th>\n",
       "      <th>WorkExp</th>\n",
       "      <th>JobSat</th>\n",
       "      <th>CompTotalUSD</th>\n",
       "    </tr>\n",
       "  </thead>\n",
       "  <tbody>\n",
       "    <tr>\n",
       "      <th>count</th>\n",
       "      <td>41372.000000</td>\n",
       "      <td>41372.000000</td>\n",
       "      <td>41372.000000</td>\n",
       "      <td>41372.000000</td>\n",
       "    </tr>\n",
       "    <tr>\n",
       "      <th>mean</th>\n",
       "      <td>29573.088852</td>\n",
       "      <td>7.064101</td>\n",
       "      <td>6.959949</td>\n",
       "      <td>53022.808735</td>\n",
       "    </tr>\n",
       "    <tr>\n",
       "      <th>std</th>\n",
       "      <td>17415.143146</td>\n",
       "      <td>8.945272</td>\n",
       "      <td>1.633585</td>\n",
       "      <td>54953.950162</td>\n",
       "    </tr>\n",
       "    <tr>\n",
       "      <th>min</th>\n",
       "      <td>73.000000</td>\n",
       "      <td>0.000000</td>\n",
       "      <td>0.000000</td>\n",
       "      <td>0.000000</td>\n",
       "    </tr>\n",
       "    <tr>\n",
       "      <th>25%</th>\n",
       "      <td>14704.750000</td>\n",
       "      <td>0.000000</td>\n",
       "      <td>7.000000</td>\n",
       "      <td>0.000000</td>\n",
       "    </tr>\n",
       "    <tr>\n",
       "      <th>50%</th>\n",
       "      <td>29015.500000</td>\n",
       "      <td>4.000000</td>\n",
       "      <td>7.000000</td>\n",
       "      <td>42000.000000</td>\n",
       "    </tr>\n",
       "    <tr>\n",
       "      <th>75%</th>\n",
       "      <td>43842.500000</td>\n",
       "      <td>11.000000</td>\n",
       "      <td>8.000000</td>\n",
       "      <td>84800.000000</td>\n",
       "    </tr>\n",
       "    <tr>\n",
       "      <th>max</th>\n",
       "      <td>65436.000000</td>\n",
       "      <td>50.000000</td>\n",
       "      <td>10.000000</td>\n",
       "      <td>225000.000000</td>\n",
       "    </tr>\n",
       "  </tbody>\n",
       "</table>\n",
       "</div>"
      ],
      "text/plain": [
       "         ResponseId       WorkExp        JobSat   CompTotalUSD\n",
       "count  41372.000000  41372.000000  41372.000000   41372.000000\n",
       "mean   29573.088852      7.064101      6.959949   53022.808735\n",
       "std    17415.143146      8.945272      1.633585   54953.950162\n",
       "min       73.000000      0.000000      0.000000       0.000000\n",
       "25%    14704.750000      0.000000      7.000000       0.000000\n",
       "50%    29015.500000      4.000000      7.000000   42000.000000\n",
       "75%    43842.500000     11.000000      8.000000   84800.000000\n",
       "max    65436.000000     50.000000     10.000000  225000.000000"
      ]
     },
     "execution_count": 124,
     "metadata": {},
     "output_type": "execute_result"
    }
   ],
   "source": [
    "df_clean.describe()"
   ]
  },
  {
   "cell_type": "code",
   "execution_count": 125,
   "metadata": {},
   "outputs": [
    {
     "data": {
      "text/html": [
       "<div>\n",
       "<style scoped>\n",
       "    .dataframe tbody tr th:only-of-type {\n",
       "        vertical-align: middle;\n",
       "    }\n",
       "\n",
       "    .dataframe tbody tr th {\n",
       "        vertical-align: top;\n",
       "    }\n",
       "\n",
       "    .dataframe thead th {\n",
       "        text-align: right;\n",
       "    }\n",
       "</style>\n",
       "<table border=\"1\" class=\"dataframe\">\n",
       "  <thead>\n",
       "    <tr style=\"text-align: right;\">\n",
       "      <th></th>\n",
       "      <th>ResponseId</th>\n",
       "      <th>Age</th>\n",
       "      <th>EdLevel</th>\n",
       "      <th>YearsCode</th>\n",
       "      <th>YearsCodePro</th>\n",
       "      <th>WorkExp</th>\n",
       "      <th>Country</th>\n",
       "      <th>JobSat</th>\n",
       "      <th>MainBranch</th>\n",
       "      <th>Employment</th>\n",
       "      <th>...</th>\n",
       "      <th>AISent</th>\n",
       "      <th>AIBen</th>\n",
       "      <th>AIAcc</th>\n",
       "      <th>AIComplex</th>\n",
       "      <th>AIToolCurrently Using</th>\n",
       "      <th>AIToolInterested in Using</th>\n",
       "      <th>AIToolNot interested in Using</th>\n",
       "      <th>AIThreat</th>\n",
       "      <th>AIEthics</th>\n",
       "      <th>AIChallenges</th>\n",
       "    </tr>\n",
       "  </thead>\n",
       "  <tbody>\n",
       "    <tr>\n",
       "      <th>72</th>\n",
       "      <td>73</td>\n",
       "      <td>18-24 years old</td>\n",
       "      <td>Secondary school (e.g. American high school, G...</td>\n",
       "      <td>3</td>\n",
       "      <td>1</td>\n",
       "      <td>3.0</td>\n",
       "      <td>Pakistan</td>\n",
       "      <td>10.0</td>\n",
       "      <td>I am a developer by profession</td>\n",
       "      <td>Employed, full-time;Student, full-time;Indepen...</td>\n",
       "      <td>...</td>\n",
       "      <td>Very favorable</td>\n",
       "      <td>Increase productivity;Greater efficiency;Impro...</td>\n",
       "      <td>Somewhat trust</td>\n",
       "      <td>Good, but not great at handling complex tasks</td>\n",
       "      <td>Learning about a codebase;Writing code;Documen...</td>\n",
       "      <td>Project planning;Testing code;Committing and r...</td>\n",
       "      <td>NaN</td>\n",
       "      <td>No</td>\n",
       "      <td>Circulating misinformation or disinformation;M...</td>\n",
       "      <td>AI tools lack context of codebase,  internal a...</td>\n",
       "    </tr>\n",
       "    <tr>\n",
       "      <th>367</th>\n",
       "      <td>368</td>\n",
       "      <td>65 years or older</td>\n",
       "      <td>Some college/university study without earning ...</td>\n",
       "      <td>15</td>\n",
       "      <td>9</td>\n",
       "      <td>0.0</td>\n",
       "      <td>United States of America</td>\n",
       "      <td>7.0</td>\n",
       "      <td>I am not primarily a developer, but I write co...</td>\n",
       "      <td>Independent contractor, freelancer, or self-em...</td>\n",
       "      <td>...</td>\n",
       "      <td>Indifferent</td>\n",
       "      <td>Increase productivity</td>\n",
       "      <td>Somewhat distrust</td>\n",
       "      <td>Very poor at handling complex tasks</td>\n",
       "      <td>Writing code</td>\n",
       "      <td>NaN</td>\n",
       "      <td>NaN</td>\n",
       "      <td>No</td>\n",
       "      <td>Circulating misinformation or disinformation;M...</td>\n",
       "      <td>Don’t trust the output or answers</td>\n",
       "    </tr>\n",
       "    <tr>\n",
       "      <th>374</th>\n",
       "      <td>375</td>\n",
       "      <td>25-34 years old</td>\n",
       "      <td>Professional degree (JD, MD, Ph.D, Ed.D, etc.)</td>\n",
       "      <td>12</td>\n",
       "      <td>6</td>\n",
       "      <td>0.0</td>\n",
       "      <td>Austria</td>\n",
       "      <td>7.0</td>\n",
       "      <td>I am not primarily a developer, but I write co...</td>\n",
       "      <td>Employed, full-time</td>\n",
       "      <td>...</td>\n",
       "      <td>Unknown</td>\n",
       "      <td>Unknown</td>\n",
       "      <td>Unknown</td>\n",
       "      <td>Unknown</td>\n",
       "      <td>NaN</td>\n",
       "      <td>NaN</td>\n",
       "      <td>NaN</td>\n",
       "      <td>Unknown</td>\n",
       "      <td>Unknown</td>\n",
       "      <td>Unknown</td>\n",
       "    </tr>\n",
       "    <tr>\n",
       "      <th>377</th>\n",
       "      <td>378</td>\n",
       "      <td>35-44 years old</td>\n",
       "      <td>Bachelor’s degree (B.A., B.S., B.Eng., etc.)</td>\n",
       "      <td>11</td>\n",
       "      <td>11</td>\n",
       "      <td>0.0</td>\n",
       "      <td>Brazil</td>\n",
       "      <td>7.0</td>\n",
       "      <td>I am a developer by profession</td>\n",
       "      <td>Employed, full-time</td>\n",
       "      <td>...</td>\n",
       "      <td>Favorable</td>\n",
       "      <td>Increase productivity</td>\n",
       "      <td>Neither trust nor distrust</td>\n",
       "      <td>Neither good or bad at handling complex tasks</td>\n",
       "      <td>Search for answers</td>\n",
       "      <td>NaN</td>\n",
       "      <td>NaN</td>\n",
       "      <td>No</td>\n",
       "      <td>Circulating misinformation or disinformation;M...</td>\n",
       "      <td>AI tools lack context of codebase,  internal a...</td>\n",
       "    </tr>\n",
       "    <tr>\n",
       "      <th>379</th>\n",
       "      <td>380</td>\n",
       "      <td>35-44 years old</td>\n",
       "      <td>Master’s degree (M.A., M.S., M.Eng., MBA, etc.)</td>\n",
       "      <td>15</td>\n",
       "      <td>6</td>\n",
       "      <td>7.0</td>\n",
       "      <td>Turkey</td>\n",
       "      <td>10.0</td>\n",
       "      <td>I am a developer by profession</td>\n",
       "      <td>Employed, full-time</td>\n",
       "      <td>...</td>\n",
       "      <td>Very favorable</td>\n",
       "      <td>Increase productivity;Greater efficiency</td>\n",
       "      <td>Somewhat trust</td>\n",
       "      <td>Bad at handling complex tasks</td>\n",
       "      <td>Writing code;Documenting code;Debugging and ge...</td>\n",
       "      <td>Learning about a codebase</td>\n",
       "      <td>Project planning;Committing and reviewing code...</td>\n",
       "      <td>No</td>\n",
       "      <td>Circulating misinformation or disinformation;M...</td>\n",
       "      <td>Don’t trust the output or answers;Lack of exec...</td>\n",
       "    </tr>\n",
       "    <tr>\n",
       "      <th>...</th>\n",
       "      <td>...</td>\n",
       "      <td>...</td>\n",
       "      <td>...</td>\n",
       "      <td>...</td>\n",
       "      <td>...</td>\n",
       "      <td>...</td>\n",
       "      <td>...</td>\n",
       "      <td>...</td>\n",
       "      <td>...</td>\n",
       "      <td>...</td>\n",
       "      <td>...</td>\n",
       "      <td>...</td>\n",
       "      <td>...</td>\n",
       "      <td>...</td>\n",
       "      <td>...</td>\n",
       "      <td>...</td>\n",
       "      <td>...</td>\n",
       "      <td>...</td>\n",
       "      <td>...</td>\n",
       "      <td>...</td>\n",
       "      <td>...</td>\n",
       "    </tr>\n",
       "    <tr>\n",
       "      <th>65396</th>\n",
       "      <td>65397</td>\n",
       "      <td>18-24 years old</td>\n",
       "      <td>Secondary school (e.g. American high school, G...</td>\n",
       "      <td>3</td>\n",
       "      <td>3</td>\n",
       "      <td>0.0</td>\n",
       "      <td>Lithuania</td>\n",
       "      <td>7.0</td>\n",
       "      <td>I am a developer by profession</td>\n",
       "      <td>Employed, full-time;Independent contractor, fr...</td>\n",
       "      <td>...</td>\n",
       "      <td>Unknown</td>\n",
       "      <td>Unknown</td>\n",
       "      <td>Unknown</td>\n",
       "      <td>Unknown</td>\n",
       "      <td>NaN</td>\n",
       "      <td>NaN</td>\n",
       "      <td>NaN</td>\n",
       "      <td>Unknown</td>\n",
       "      <td>Unknown</td>\n",
       "      <td>Unknown</td>\n",
       "    </tr>\n",
       "    <tr>\n",
       "      <th>65401</th>\n",
       "      <td>65402</td>\n",
       "      <td>25-34 years old</td>\n",
       "      <td>Bachelor’s degree (B.A., B.S., B.Eng., etc.)</td>\n",
       "      <td>10</td>\n",
       "      <td>7</td>\n",
       "      <td>0.0</td>\n",
       "      <td>France</td>\n",
       "      <td>7.0</td>\n",
       "      <td>I am a developer by profession</td>\n",
       "      <td>Employed, full-time</td>\n",
       "      <td>...</td>\n",
       "      <td>Unknown</td>\n",
       "      <td>Unknown</td>\n",
       "      <td>Unknown</td>\n",
       "      <td>Unknown</td>\n",
       "      <td>NaN</td>\n",
       "      <td>NaN</td>\n",
       "      <td>NaN</td>\n",
       "      <td>Unknown</td>\n",
       "      <td>Unknown</td>\n",
       "      <td>Unknown</td>\n",
       "    </tr>\n",
       "    <tr>\n",
       "      <th>65408</th>\n",
       "      <td>65409</td>\n",
       "      <td>25-34 years old</td>\n",
       "      <td>Master’s degree (M.A., M.S., M.Eng., MBA, etc.)</td>\n",
       "      <td>13</td>\n",
       "      <td>9</td>\n",
       "      <td>9.0</td>\n",
       "      <td>France</td>\n",
       "      <td>7.0</td>\n",
       "      <td>I am a developer by profession</td>\n",
       "      <td>Employed, full-time</td>\n",
       "      <td>...</td>\n",
       "      <td>Unknown</td>\n",
       "      <td>Unknown</td>\n",
       "      <td>Unknown</td>\n",
       "      <td>Unknown</td>\n",
       "      <td>NaN</td>\n",
       "      <td>NaN</td>\n",
       "      <td>NaN</td>\n",
       "      <td>Unknown</td>\n",
       "      <td>Unknown</td>\n",
       "      <td>Unknown</td>\n",
       "    </tr>\n",
       "    <tr>\n",
       "      <th>65431</th>\n",
       "      <td>65432</td>\n",
       "      <td>45-54 years old</td>\n",
       "      <td>Bachelor’s degree (B.A., B.S., B.Eng., etc.)</td>\n",
       "      <td>38</td>\n",
       "      <td>24</td>\n",
       "      <td>0.0</td>\n",
       "      <td>Belgium</td>\n",
       "      <td>7.0</td>\n",
       "      <td>I am a developer by profession</td>\n",
       "      <td>Employed, full-time</td>\n",
       "      <td>...</td>\n",
       "      <td>Favorable</td>\n",
       "      <td>Unknown</td>\n",
       "      <td>Unknown</td>\n",
       "      <td>Unknown</td>\n",
       "      <td>NaN</td>\n",
       "      <td>NaN</td>\n",
       "      <td>NaN</td>\n",
       "      <td>I'm not sure</td>\n",
       "      <td>Circulating misinformation or disinformation;M...</td>\n",
       "      <td>Don’t trust the output or answers;AI tools lac...</td>\n",
       "    </tr>\n",
       "    <tr>\n",
       "      <th>65435</th>\n",
       "      <td>65436</td>\n",
       "      <td>18-24 years old</td>\n",
       "      <td>Secondary school (e.g. American high school, G...</td>\n",
       "      <td>5</td>\n",
       "      <td>2</td>\n",
       "      <td>5.0</td>\n",
       "      <td>Germany</td>\n",
       "      <td>7.0</td>\n",
       "      <td>I am a developer by profession</td>\n",
       "      <td>Employed, full-time</td>\n",
       "      <td>...</td>\n",
       "      <td>Unknown</td>\n",
       "      <td>Unknown</td>\n",
       "      <td>Unknown</td>\n",
       "      <td>Unknown</td>\n",
       "      <td>NaN</td>\n",
       "      <td>NaN</td>\n",
       "      <td>NaN</td>\n",
       "      <td>Unknown</td>\n",
       "      <td>Unknown</td>\n",
       "      <td>Unknown</td>\n",
       "    </tr>\n",
       "  </tbody>\n",
       "</table>\n",
       "<p>41372 rows × 33 columns</p>\n",
       "</div>"
      ],
      "text/plain": [
       "       ResponseId                Age  \\\n",
       "72             73    18-24 years old   \n",
       "367           368  65 years or older   \n",
       "374           375    25-34 years old   \n",
       "377           378    35-44 years old   \n",
       "379           380    35-44 years old   \n",
       "...           ...                ...   \n",
       "65396       65397    18-24 years old   \n",
       "65401       65402    25-34 years old   \n",
       "65408       65409    25-34 years old   \n",
       "65431       65432    45-54 years old   \n",
       "65435       65436    18-24 years old   \n",
       "\n",
       "                                                 EdLevel YearsCode  \\\n",
       "72     Secondary school (e.g. American high school, G...         3   \n",
       "367    Some college/university study without earning ...        15   \n",
       "374       Professional degree (JD, MD, Ph.D, Ed.D, etc.)        12   \n",
       "377         Bachelor’s degree (B.A., B.S., B.Eng., etc.)        11   \n",
       "379      Master’s degree (M.A., M.S., M.Eng., MBA, etc.)        15   \n",
       "...                                                  ...       ...   \n",
       "65396  Secondary school (e.g. American high school, G...         3   \n",
       "65401       Bachelor’s degree (B.A., B.S., B.Eng., etc.)        10   \n",
       "65408    Master’s degree (M.A., M.S., M.Eng., MBA, etc.)        13   \n",
       "65431       Bachelor’s degree (B.A., B.S., B.Eng., etc.)        38   \n",
       "65435  Secondary school (e.g. American high school, G...         5   \n",
       "\n",
       "      YearsCodePro  WorkExp                   Country  JobSat  \\\n",
       "72               1      3.0                  Pakistan    10.0   \n",
       "367              9      0.0  United States of America     7.0   \n",
       "374              6      0.0                   Austria     7.0   \n",
       "377             11      0.0                    Brazil     7.0   \n",
       "379              6      7.0                    Turkey    10.0   \n",
       "...            ...      ...                       ...     ...   \n",
       "65396            3      0.0                 Lithuania     7.0   \n",
       "65401            7      0.0                    France     7.0   \n",
       "65408            9      9.0                    France     7.0   \n",
       "65431           24      0.0                   Belgium     7.0   \n",
       "65435            2      5.0                   Germany     7.0   \n",
       "\n",
       "                                              MainBranch  \\\n",
       "72                        I am a developer by profession   \n",
       "367    I am not primarily a developer, but I write co...   \n",
       "374    I am not primarily a developer, but I write co...   \n",
       "377                       I am a developer by profession   \n",
       "379                       I am a developer by profession   \n",
       "...                                                  ...   \n",
       "65396                     I am a developer by profession   \n",
       "65401                     I am a developer by profession   \n",
       "65408                     I am a developer by profession   \n",
       "65431                     I am a developer by profession   \n",
       "65435                     I am a developer by profession   \n",
       "\n",
       "                                              Employment  ...          AISent  \\\n",
       "72     Employed, full-time;Student, full-time;Indepen...  ...  Very favorable   \n",
       "367    Independent contractor, freelancer, or self-em...  ...     Indifferent   \n",
       "374                                  Employed, full-time  ...         Unknown   \n",
       "377                                  Employed, full-time  ...       Favorable   \n",
       "379                                  Employed, full-time  ...  Very favorable   \n",
       "...                                                  ...  ...             ...   \n",
       "65396  Employed, full-time;Independent contractor, fr...  ...         Unknown   \n",
       "65401                                Employed, full-time  ...         Unknown   \n",
       "65408                                Employed, full-time  ...         Unknown   \n",
       "65431                                Employed, full-time  ...       Favorable   \n",
       "65435                                Employed, full-time  ...         Unknown   \n",
       "\n",
       "                                                   AIBen  \\\n",
       "72     Increase productivity;Greater efficiency;Impro...   \n",
       "367                                Increase productivity   \n",
       "374                                              Unknown   \n",
       "377                                Increase productivity   \n",
       "379             Increase productivity;Greater efficiency   \n",
       "...                                                  ...   \n",
       "65396                                            Unknown   \n",
       "65401                                            Unknown   \n",
       "65408                                            Unknown   \n",
       "65431                                            Unknown   \n",
       "65435                                            Unknown   \n",
       "\n",
       "                            AIAcc  \\\n",
       "72                 Somewhat trust   \n",
       "367             Somewhat distrust   \n",
       "374                       Unknown   \n",
       "377    Neither trust nor distrust   \n",
       "379                Somewhat trust   \n",
       "...                           ...   \n",
       "65396                     Unknown   \n",
       "65401                     Unknown   \n",
       "65408                     Unknown   \n",
       "65431                     Unknown   \n",
       "65435                     Unknown   \n",
       "\n",
       "                                           AIComplex  \\\n",
       "72     Good, but not great at handling complex tasks   \n",
       "367              Very poor at handling complex tasks   \n",
       "374                                          Unknown   \n",
       "377    Neither good or bad at handling complex tasks   \n",
       "379                    Bad at handling complex tasks   \n",
       "...                                              ...   \n",
       "65396                                        Unknown   \n",
       "65401                                        Unknown   \n",
       "65408                                        Unknown   \n",
       "65431                                        Unknown   \n",
       "65435                                        Unknown   \n",
       "\n",
       "                                   AIToolCurrently Using  \\\n",
       "72     Learning about a codebase;Writing code;Documen...   \n",
       "367                                         Writing code   \n",
       "374                                                  NaN   \n",
       "377                                   Search for answers   \n",
       "379    Writing code;Documenting code;Debugging and ge...   \n",
       "...                                                  ...   \n",
       "65396                                                NaN   \n",
       "65401                                                NaN   \n",
       "65408                                                NaN   \n",
       "65431                                                NaN   \n",
       "65435                                                NaN   \n",
       "\n",
       "                               AIToolInterested in Using  \\\n",
       "72     Project planning;Testing code;Committing and r...   \n",
       "367                                                  NaN   \n",
       "374                                                  NaN   \n",
       "377                                                  NaN   \n",
       "379                            Learning about a codebase   \n",
       "...                                                  ...   \n",
       "65396                                                NaN   \n",
       "65401                                                NaN   \n",
       "65408                                                NaN   \n",
       "65431                                                NaN   \n",
       "65435                                                NaN   \n",
       "\n",
       "                           AIToolNot interested in Using      AIThreat  \\\n",
       "72                                                   NaN            No   \n",
       "367                                                  NaN            No   \n",
       "374                                                  NaN       Unknown   \n",
       "377                                                  NaN            No   \n",
       "379    Project planning;Committing and reviewing code...            No   \n",
       "...                                                  ...           ...   \n",
       "65396                                                NaN       Unknown   \n",
       "65401                                                NaN       Unknown   \n",
       "65408                                                NaN       Unknown   \n",
       "65431                                                NaN  I'm not sure   \n",
       "65435                                                NaN       Unknown   \n",
       "\n",
       "                                                AIEthics  \\\n",
       "72     Circulating misinformation or disinformation;M...   \n",
       "367    Circulating misinformation or disinformation;M...   \n",
       "374                                              Unknown   \n",
       "377    Circulating misinformation or disinformation;M...   \n",
       "379    Circulating misinformation or disinformation;M...   \n",
       "...                                                  ...   \n",
       "65396                                            Unknown   \n",
       "65401                                            Unknown   \n",
       "65408                                            Unknown   \n",
       "65431  Circulating misinformation or disinformation;M...   \n",
       "65435                                            Unknown   \n",
       "\n",
       "                                            AIChallenges  \n",
       "72     AI tools lack context of codebase,  internal a...  \n",
       "367                    Don’t trust the output or answers  \n",
       "374                                              Unknown  \n",
       "377    AI tools lack context of codebase,  internal a...  \n",
       "379    Don’t trust the output or answers;Lack of exec...  \n",
       "...                                                  ...  \n",
       "65396                                            Unknown  \n",
       "65401                                            Unknown  \n",
       "65408                                            Unknown  \n",
       "65431  Don’t trust the output or answers;AI tools lac...  \n",
       "65435                                            Unknown  \n",
       "\n",
       "[41372 rows x 33 columns]"
      ]
     },
     "execution_count": 125,
     "metadata": {},
     "output_type": "execute_result"
    }
   ],
   "source": [
    "df_clean"
   ]
  },
  {
   "cell_type": "code",
   "execution_count": 126,
   "metadata": {},
   "outputs": [
    {
     "data": {
      "text/plain": [
       "ResponseId                         int64\n",
       "Age                               object\n",
       "EdLevel                           object\n",
       "YearsCode                         object\n",
       "YearsCodePro                      object\n",
       "WorkExp                          float64\n",
       "Country                           object\n",
       "JobSat                           float64\n",
       "MainBranch                        object\n",
       "Employment                        object\n",
       "RemoteWork                        object\n",
       "CompTotalUSD                       int64\n",
       "DevType                           object\n",
       "LanguageHaveWorkedWith            object\n",
       "LanguageWantToWorkWith            object\n",
       "PlatformHaveWorkedWith            object\n",
       "PlatformWantToWorkWith            object\n",
       "OrgSize                           object\n",
       "PurchaseInfluence                 object\n",
       "BuyNewTool                        object\n",
       "TimeSearching                     object\n",
       "TimeAnswering                     object\n",
       "AISelect                          object\n",
       "AISent                            object\n",
       "AIBen                             object\n",
       "AIAcc                             object\n",
       "AIComplex                         object\n",
       "AIToolCurrently Using             object\n",
       "AIToolInterested in Using         object\n",
       "AIToolNot interested in Using     object\n",
       "AIThreat                          object\n",
       "AIEthics                          object\n",
       "AIChallenges                      object\n",
       "dtype: object"
      ]
     },
     "execution_count": 126,
     "metadata": {},
     "output_type": "execute_result"
    }
   ],
   "source": [
    "df_clean.dtypes"
   ]
  },
  {
   "cell_type": "code",
   "execution_count": 127,
   "metadata": {},
   "outputs": [],
   "source": [
    "df_clean.to_csv('cleaned/cleaned_data.csv', index=False)"
   ]
  }
 ],
 "metadata": {
  "kernelspec": {
   "display_name": "Python 3",
   "language": "python",
   "name": "python3"
  },
  "language_info": {
   "codemirror_mode": {
    "name": "ipython",
    "version": 3
   },
   "file_extension": ".py",
   "mimetype": "text/x-python",
   "name": "python",
   "nbconvert_exporter": "python",
   "pygments_lexer": "ipython3",
   "version": "3.11.7"
  }
 },
 "nbformat": 4,
 "nbformat_minor": 2
}
